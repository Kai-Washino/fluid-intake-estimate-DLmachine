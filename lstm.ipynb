{
 "cells": [
  {
   "cell_type": "code",
   "execution_count": 2,
   "id": "88c8e675",
   "metadata": {},
   "outputs": [],
   "source": [
    "from tensorflow.keras.callbacks import EarlyStopping\n",
    "from tensorflow.keras.callbacks import ModelCheckpoint\n",
    "from sklearn.model_selection import KFold\n",
    "from sklearn.metrics import r2_score, mean_absolute_error, mean_squared_error"
   ]
  },
  {
   "cell_type": "code",
   "execution_count": 3,
   "id": "10e4822d",
   "metadata": {},
   "outputs": [],
   "source": [
    "import numpy as np\n",
    "import pandas as pd\n",
    "import cv2  # OpenCVライブラリ\n",
    "import matplotlib.pyplot as plt\n",
    "from matplotlib.colors import Normalize\n",
    "import glob\n",
    "import os\n",
    "import sys\n",
    "import pathlib\n",
    "from pathlib import Path"
   ]
  },
  {
   "cell_type": "code",
   "execution_count": 4,
   "id": "29092df0",
   "metadata": {},
   "outputs": [],
   "source": [
    "current_dir = os.getcwd()\n",
    "parent_dir = os.path.dirname(current_dir)\n",
    "sys.path.append(parent_dir)\n",
    "current_file_path = pathlib.Path(os.getcwd())\n",
    "parent_dir = current_file_path.parent"
   ]
  },
  {
   "cell_type": "code",
   "execution_count": 5,
   "id": "74875b5d",
   "metadata": {},
   "outputs": [
    {
     "name": "stdout",
     "output_type": "stream",
     "text": [
      "/home/s2/Desktop/washino/swallowing\n",
      "/home/s2/Desktop/washino/swallowing\n"
     ]
    }
   ],
   "source": [
    "import fluid_intake_estimate\n",
    "from fluid_intake_estimate import variable_data_set\n",
    "from fluid_intake_estimate import lstm"
   ]
  },
  {
   "cell_type": "code",
   "execution_count": 6,
   "id": "ee861588",
   "metadata": {},
   "outputs": [],
   "source": [
    "directory_path = parent_dir / 'dataset'"
   ]
  },
  {
   "cell_type": "code",
   "execution_count": 16,
   "id": "7f5991b9",
   "metadata": {},
   "outputs": [
    {
     "name": "stdout",
     "output_type": "stream",
     "text": [
      "352\n",
      "382\n",
      "413\n",
      "444\n",
      "474\n",
      "504\n",
      "538\n",
      "571\n",
      "601\n",
      "631\n",
      "661\n",
      "694\n",
      "724\n",
      "755\n",
      "786\n"
     ]
    }
   ],
   "source": [
    "names = ['washino', 'haruki', 'ezumi', 'hikaru', 'ibuki', 'kanata', 'kazuki', 'kishimoto', 'kosasayama', 'mocchi', 'nakaryo', 'ruku', 'shibata', 'soichiro', 'tsuji']\n",
    "data = variable_data_set.VariableDataSet(786, scale=1, time_range = 20000)\n",
    "\n",
    "count = 0\n",
    "\n",
    "for name in names:    \n",
    "    path = directory_path / name\n",
    "    wav_files = glob.glob(os.path.join(path, '*.wav'))\n",
    "    wav_file_count = len(wav_files)    \n",
    "    \n",
    "    csv_path = path / f'{name}.csv'    \n",
    "    data.csv_to_dataset(path, csv_path, count, signal_processing='No')\n",
    "    count += wav_file_count\n",
    "    print(count)"
   ]
  },
  {
   "cell_type": "code",
   "execution_count": 17,
   "id": "da272673",
   "metadata": {},
   "outputs": [],
   "source": [
    "# 分割交差検証の設定\n",
    "kf = KFold(n_splits=5, shuffle=True, random_state=42)\n",
    "\n",
    "# データを保持するためのリスト\n",
    "train_data_splits_index = []\n",
    "test_data_splits_index = []\n",
    "\n",
    "# データのインデックスを分割\n",
    "for train_index, test_index in kf.split(data.X):\n",
    "    train_data_splits_index.append(train_index)\n",
    "    test_data_splits_index.append(test_index)"
   ]
  },
  {
   "cell_type": "code",
   "execution_count": 18,
   "id": "8f6fbd81",
   "metadata": {},
   "outputs": [],
   "source": [
    "y = []\n",
    "predict = []"
   ]
  },
  {
   "cell_type": "code",
   "execution_count": 20,
   "id": "c42f06b6",
   "metadata": {},
   "outputs": [
    {
     "name": "stdout",
     "output_type": "stream",
     "text": [
      "(786, 20000, 1)\n",
      "Epoch 1/15\n",
      "18/18 [==============================] - 2273s 126s/step - loss: 0.1938 - mean_absolute_error: 0.3632 - mean_squared_error: 0.1938 - val_loss: 0.0838 - val_mean_absolute_error: 0.2433 - val_mean_squared_error: 0.0838\n",
      "Epoch 2/15\n",
      "18/18 [==============================] - 2235s 124s/step - loss: 0.0898 - mean_absolute_error: 0.2607 - mean_squared_error: 0.0898 - val_loss: 0.0758 - val_mean_absolute_error: 0.2329 - val_mean_squared_error: 0.0758\n",
      "Epoch 3/15\n",
      "18/18 [==============================] - 2249s 125s/step - loss: 0.0873 - mean_absolute_error: 0.2570 - mean_squared_error: 0.0873 - val_loss: 0.0713 - val_mean_absolute_error: 0.2257 - val_mean_squared_error: 0.0713\n",
      "Epoch 4/15\n",
      "18/18 [==============================] - 2261s 126s/step - loss: 0.0874 - mean_absolute_error: 0.2573 - mean_squared_error: 0.0874 - val_loss: 0.0702 - val_mean_absolute_error: 0.2232 - val_mean_squared_error: 0.0702\n",
      "Epoch 5/15\n",
      "18/18 [==============================] - 2280s 127s/step - loss: 0.0868 - mean_absolute_error: 0.2577 - mean_squared_error: 0.0868 - val_loss: 0.0697 - val_mean_absolute_error: 0.2237 - val_mean_squared_error: 0.0697\n",
      "Epoch 6/15\n",
      "18/18 [==============================] - 2256s 126s/step - loss: 0.0850 - mean_absolute_error: 0.2553 - mean_squared_error: 0.0850 - val_loss: 0.0735 - val_mean_absolute_error: 0.2293 - val_mean_squared_error: 0.0735\n",
      "Epoch 7/15\n",
      "18/18 [==============================] - 2277s 127s/step - loss: 0.0860 - mean_absolute_error: 0.2550 - mean_squared_error: 0.0860 - val_loss: 0.0703 - val_mean_absolute_error: 0.2246 - val_mean_squared_error: 0.0703\n",
      "Epoch 8/15\n",
      "18/18 [==============================] - 2229s 124s/step - loss: 0.0859 - mean_absolute_error: 0.2560 - mean_squared_error: 0.0859 - val_loss: 0.0699 - val_mean_absolute_error: 0.2241 - val_mean_squared_error: 0.0699\n",
      "Epoch 9/15\n",
      "18/18 [==============================] - 2210s 123s/step - loss: 0.0856 - mean_absolute_error: 0.2544 - mean_squared_error: 0.0856 - val_loss: 0.0698 - val_mean_absolute_error: 0.2238 - val_mean_squared_error: 0.0698\n",
      "Epoch 10/15\n",
      "18/18 [==============================] - 2253s 125s/step - loss: 0.0876 - mean_absolute_error: 0.2584 - mean_squared_error: 0.0876 - val_loss: 0.0727 - val_mean_absolute_error: 0.2248 - val_mean_squared_error: 0.0727\n",
      "Epoch 11/15\n",
      "18/18 [==============================] - 2256s 125s/step - loss: 0.0877 - mean_absolute_error: 0.2567 - mean_squared_error: 0.0877 - val_loss: 0.0705 - val_mean_absolute_error: 0.2231 - val_mean_squared_error: 0.0705\n",
      "Epoch 12/15\n",
      "18/18 [==============================] - 2236s 124s/step - loss: 0.0854 - mean_absolute_error: 0.2550 - mean_squared_error: 0.0854 - val_loss: 0.0698 - val_mean_absolute_error: 0.2239 - val_mean_squared_error: 0.0698\n",
      "Epoch 13/15\n",
      "18/18 [==============================] - 2278s 127s/step - loss: 0.0851 - mean_absolute_error: 0.2550 - mean_squared_error: 0.0851 - val_loss: 0.0720 - val_mean_absolute_error: 0.2268 - val_mean_squared_error: 0.0720\n",
      "Epoch 14/15\n",
      "18/18 [==============================] - 2264s 126s/step - loss: 0.0877 - mean_absolute_error: 0.2588 - mean_squared_error: 0.0877 - val_loss: 0.0712 - val_mean_absolute_error: 0.2257 - val_mean_squared_error: 0.0712\n",
      "Epoch 15/15\n",
      "18/18 [==============================] - 2288s 128s/step - loss: 0.0874 - mean_absolute_error: 0.2561 - mean_squared_error: 0.0874 - val_loss: 0.0759 - val_mean_absolute_error: 0.2335 - val_mean_squared_error: 0.0759\n",
      "5/5 [==============================] - 33s 7s/step - loss: 0.0799 - mean_absolute_error: 0.2333 - mean_squared_error: 0.0799\n",
      "Test loss:  0.07990263402462006\n",
      "Test metric 0:  0.23329508304595947\n",
      "Test metric 1:  0.07990263402462006\n",
      "5/5 [==============================] - 36s 7s/step\n",
      "r2:  -968.6918901732306\n",
      "MAE:  0.23329506372801867\n"
     ]
    }
   ],
   "source": [
    "model = lstm.LSTMmodel(scale = 1, time_range = 20000)\n",
    "\n",
    "model_checkpoint = ModelCheckpoint(\n",
    "    filepath='no_lstm_20240610_model_best_0.keras',  # 保存するファイルのパス\n",
    "    monitor='val_mean_absolute_error',        # 監視する値\n",
    "    save_best_only=True,       # 最良のモデルのみを保存\n",
    "    verbose=1,                 # 進行状況のメッセージ表示\n",
    "    mode='min'                 # 「減少」を監視\n",
    ")\n",
    "\n",
    "\n",
    "use_data = 0\n",
    "print(data.X.shape)\n",
    "model.training(data.X[train_data_splits_index[use_data]], data.y[train_data_splits_index[use_data]], 15, 32)\n",
    "model.evaluate(data.X[test_data_splits_index[use_data]], data.y[test_data_splits_index[use_data]])\n",
    "model.save('no_lstm_20240610_model_0.keras')"
   ]
  },
  {
   "cell_type": "code",
   "execution_count": 21,
   "id": "20120bcf",
   "metadata": {},
   "outputs": [],
   "source": [
    "y.append(data.y[test_data_splits_index[use_data]])\n",
    "predict.append(model.predictions)"
   ]
  },
  {
   "cell_type": "code",
   "execution_count": 22,
   "id": "cd371203",
   "metadata": {},
   "outputs": [
    {
     "name": "stdout",
     "output_type": "stream",
     "text": [
      "(786, 20000, 1)\n",
      "Epoch 1/15\n",
      "18/18 [==============================] - 2284s 126s/step - loss: 0.1488 - mean_absolute_error: 0.3142 - mean_squared_error: 0.1488 - val_loss: 0.0834 - val_mean_absolute_error: 0.2497 - val_mean_squared_error: 0.0834\n",
      "Epoch 2/15\n",
      "18/18 [==============================] - 2310s 128s/step - loss: 0.0833 - mean_absolute_error: 0.2472 - mean_squared_error: 0.0833 - val_loss: 0.0780 - val_mean_absolute_error: 0.2430 - val_mean_squared_error: 0.0780\n",
      "Epoch 3/15\n",
      "18/18 [==============================] - 2281s 127s/step - loss: 0.0814 - mean_absolute_error: 0.2459 - mean_squared_error: 0.0814 - val_loss: 0.0747 - val_mean_absolute_error: 0.2381 - val_mean_squared_error: 0.0747\n",
      "Epoch 4/15\n",
      "18/18 [==============================] - 2307s 128s/step - loss: 0.0807 - mean_absolute_error: 0.2446 - mean_squared_error: 0.0807 - val_loss: 0.0771 - val_mean_absolute_error: 0.2417 - val_mean_squared_error: 0.0771\n",
      "Epoch 5/15\n",
      "18/18 [==============================] - 2294s 127s/step - loss: 0.0820 - mean_absolute_error: 0.2474 - mean_squared_error: 0.0820 - val_loss: 0.0778 - val_mean_absolute_error: 0.2427 - val_mean_squared_error: 0.0778\n",
      "Epoch 6/15\n",
      "18/18 [==============================] - 2274s 127s/step - loss: 0.0812 - mean_absolute_error: 0.2453 - mean_squared_error: 0.0812 - val_loss: 0.0805 - val_mean_absolute_error: 0.2462 - val_mean_squared_error: 0.0805\n",
      "Epoch 7/15\n",
      "18/18 [==============================] - 2309s 128s/step - loss: 0.0806 - mean_absolute_error: 0.2445 - mean_squared_error: 0.0806 - val_loss: 0.0738 - val_mean_absolute_error: 0.2347 - val_mean_squared_error: 0.0738\n",
      "Epoch 8/15\n",
      "18/18 [==============================] - 2272s 126s/step - loss: 0.0807 - mean_absolute_error: 0.2453 - mean_squared_error: 0.0807 - val_loss: 0.0744 - val_mean_absolute_error: 0.2318 - val_mean_squared_error: 0.0744\n",
      "Epoch 9/15\n",
      "18/18 [==============================] - 2294s 127s/step - loss: 0.0811 - mean_absolute_error: 0.2451 - mean_squared_error: 0.0811 - val_loss: 0.0739 - val_mean_absolute_error: 0.2335 - val_mean_squared_error: 0.0739\n",
      "Epoch 10/15\n",
      "18/18 [==============================] - 2301s 128s/step - loss: 0.0806 - mean_absolute_error: 0.2450 - mean_squared_error: 0.0806 - val_loss: 0.0743 - val_mean_absolute_error: 0.2363 - val_mean_squared_error: 0.0743\n",
      "Epoch 11/15\n",
      "18/18 [==============================] - 2323s 129s/step - loss: 0.0804 - mean_absolute_error: 0.2444 - mean_squared_error: 0.0804 - val_loss: 0.0770 - val_mean_absolute_error: 0.2415 - val_mean_squared_error: 0.0770\n",
      "Epoch 12/15\n",
      "18/18 [==============================] - 2285s 127s/step - loss: 0.0836 - mean_absolute_error: 0.2484 - mean_squared_error: 0.0836 - val_loss: 0.0793 - val_mean_absolute_error: 0.2444 - val_mean_squared_error: 0.0793\n",
      "Epoch 13/15\n",
      "18/18 [==============================] - 2320s 129s/step - loss: 0.0821 - mean_absolute_error: 0.2462 - mean_squared_error: 0.0821 - val_loss: 0.0759 - val_mean_absolute_error: 0.2398 - val_mean_squared_error: 0.0759\n",
      "Epoch 14/15\n",
      "18/18 [==============================] - 2311s 129s/step - loss: 0.0815 - mean_absolute_error: 0.2465 - mean_squared_error: 0.0815 - val_loss: 0.0763 - val_mean_absolute_error: 0.2405 - val_mean_squared_error: 0.0763\n",
      "Epoch 15/15\n",
      "18/18 [==============================] - 2280s 127s/step - loss: 0.0812 - mean_absolute_error: 0.2451 - mean_squared_error: 0.0812 - val_loss: 0.0751 - val_mean_absolute_error: 0.2381 - val_mean_squared_error: 0.0751\n",
      "5/5 [==============================] - 33s 7s/step - loss: 0.0873 - mean_absolute_error: 0.2576 - mean_squared_error: 0.0873\n",
      "Test loss:  0.08728566020727158\n",
      "Test metric 0:  0.25759273767471313\n",
      "Test metric 1:  0.08728566020727158\n",
      "5/5 [==============================] - 36s 7s/step\n",
      "r2:  -505.43054222638284\n",
      "MAE:  0.2575927454529295\n"
     ]
    }
   ],
   "source": [
    "model = lstm.LSTMmodel(scale = 1, time_range = 20000)\n",
    "\n",
    "model_checkpoint = ModelCheckpoint(\n",
    "    filepath='no_lstm_20240610_model_best_1.keras',  # 保存するファイルのパス\n",
    "    monitor='val_mean_absolute_error',        # 監視する値\n",
    "    save_best_only=True,       # 最良のモデルのみを保存\n",
    "    verbose=1,                 # 進行状況のメッセージ表示\n",
    "    mode='min'                 # 「減少」を監視\n",
    ")\n",
    "\n",
    "\n",
    "use_data = 1\n",
    "print(data.X.shape)\n",
    "model.training(data.X[train_data_splits_index[use_data]], data.y[train_data_splits_index[use_data]], 15, 32)\n",
    "model.evaluate(data.X[test_data_splits_index[use_data]], data.y[test_data_splits_index[use_data]])\n",
    "model.save('no_lstm_20240610_model_1.keras')"
   ]
  },
  {
   "cell_type": "code",
   "execution_count": 23,
   "id": "0298b194",
   "metadata": {},
   "outputs": [],
   "source": [
    "y.append(data.y[test_data_splits_index[use_data]])\n",
    "predict.append(model.predictions)"
   ]
  },
  {
   "cell_type": "code",
   "execution_count": 24,
   "id": "b4d3faa2",
   "metadata": {},
   "outputs": [
    {
     "name": "stdout",
     "output_type": "stream",
     "text": [
      "(786, 20000, 1)\n",
      "Epoch 1/15\n",
      "18/18 [==============================] - 2299s 127s/step - loss: 0.1143 - mean_absolute_error: 0.2862 - mean_squared_error: 0.1143 - val_loss: 0.0796 - val_mean_absolute_error: 0.2433 - val_mean_squared_error: 0.0796\n",
      "Epoch 2/15\n",
      "18/18 [==============================] - 2258s 125s/step - loss: 0.0844 - mean_absolute_error: 0.2514 - mean_squared_error: 0.0844 - val_loss: 0.0856 - val_mean_absolute_error: 0.2530 - val_mean_squared_error: 0.0856\n",
      "Epoch 3/15\n",
      "18/18 [==============================] - 2273s 126s/step - loss: 0.0831 - mean_absolute_error: 0.2497 - mean_squared_error: 0.0831 - val_loss: 0.0792 - val_mean_absolute_error: 0.2422 - val_mean_squared_error: 0.0792\n",
      "Epoch 4/15\n",
      "18/18 [==============================] - 2315s 129s/step - loss: 0.0826 - mean_absolute_error: 0.2495 - mean_squared_error: 0.0826 - val_loss: 0.0884 - val_mean_absolute_error: 0.2571 - val_mean_squared_error: 0.0884\n",
      "Epoch 5/15\n",
      "18/18 [==============================] - 2278s 126s/step - loss: 0.0842 - mean_absolute_error: 0.2510 - mean_squared_error: 0.0842 - val_loss: 0.0791 - val_mean_absolute_error: 0.2412 - val_mean_squared_error: 0.0791\n",
      "Epoch 6/15\n",
      "18/18 [==============================] - 2290s 127s/step - loss: 0.0851 - mean_absolute_error: 0.2532 - mean_squared_error: 0.0851 - val_loss: 0.0803 - val_mean_absolute_error: 0.2452 - val_mean_squared_error: 0.0803\n",
      "Epoch 7/15\n",
      "18/18 [==============================] - 2295s 128s/step - loss: 0.0830 - mean_absolute_error: 0.2472 - mean_squared_error: 0.0830 - val_loss: 0.0796 - val_mean_absolute_error: 0.2436 - val_mean_squared_error: 0.0796\n",
      "Epoch 8/15\n",
      "18/18 [==============================] - 2272s 126s/step - loss: 0.0854 - mean_absolute_error: 0.2547 - mean_squared_error: 0.0854 - val_loss: 0.0816 - val_mean_absolute_error: 0.2473 - val_mean_squared_error: 0.0816\n",
      "Epoch 9/15\n",
      "18/18 [==============================] - 2252s 125s/step - loss: 0.0858 - mean_absolute_error: 0.2488 - mean_squared_error: 0.0858 - val_loss: 0.0792 - val_mean_absolute_error: 0.2402 - val_mean_squared_error: 0.0792\n",
      "Epoch 10/15\n",
      "18/18 [==============================] - 2228s 123s/step - loss: 0.0880 - mean_absolute_error: 0.2547 - mean_squared_error: 0.0880 - val_loss: 0.0790 - val_mean_absolute_error: 0.2404 - val_mean_squared_error: 0.0790\n",
      "Epoch 11/15\n",
      "18/18 [==============================] - 2235s 124s/step - loss: 0.0840 - mean_absolute_error: 0.2504 - mean_squared_error: 0.0840 - val_loss: 0.0796 - val_mean_absolute_error: 0.2433 - val_mean_squared_error: 0.0796\n",
      "Epoch 12/15\n",
      "18/18 [==============================] - 2245s 125s/step - loss: 0.0826 - mean_absolute_error: 0.2493 - mean_squared_error: 0.0826 - val_loss: 0.0870 - val_mean_absolute_error: 0.2551 - val_mean_squared_error: 0.0870\n",
      "Epoch 13/15\n",
      "18/18 [==============================] - 2306s 128s/step - loss: 0.0832 - mean_absolute_error: 0.2502 - mean_squared_error: 0.0832 - val_loss: 0.0847 - val_mean_absolute_error: 0.2519 - val_mean_squared_error: 0.0847\n",
      "Epoch 14/15\n",
      "18/18 [==============================] - 2279s 127s/step - loss: 0.0830 - mean_absolute_error: 0.2497 - mean_squared_error: 0.0830 - val_loss: 0.0845 - val_mean_absolute_error: 0.2516 - val_mean_squared_error: 0.0845\n",
      "Epoch 15/15\n",
      "18/18 [==============================] - 2261s 126s/step - loss: 0.0829 - mean_absolute_error: 0.2498 - mean_squared_error: 0.0829 - val_loss: 0.0826 - val_mean_absolute_error: 0.2489 - val_mean_squared_error: 0.0826\n",
      "5/5 [==============================] - 33s 7s/step - loss: 0.0778 - mean_absolute_error: 0.2367 - mean_squared_error: 0.0778\n",
      "Test loss:  0.0778283029794693\n",
      "Test metric 0:  0.23672762513160706\n",
      "Test metric 1:  0.0778283029794693\n",
      "5/5 [==============================] - 37s 7s/step\n",
      "r2:  -647.8341151502445\n",
      "MAE:  0.23672762389395646\n"
     ]
    }
   ],
   "source": [
    "model = lstm.LSTMmodel(scale = 1, time_range = 20000)\n",
    "\n",
    "model_checkpoint = ModelCheckpoint(\n",
    "    filepath='no_lstm_20240610_model_best_2.keras',  # 保存するファイルのパス\n",
    "    monitor='val_mean_absolute_error',        # 監視する値\n",
    "    save_best_only=True,       # 最良のモデルのみを保存\n",
    "    verbose=1,                 # 進行状況のメッセージ表示\n",
    "    mode='min'                 # 「減少」を監視\n",
    ")\n",
    "\n",
    "\n",
    "use_data = 2\n",
    "print(data.X.shape)\n",
    "model.training(data.X[train_data_splits_index[use_data]], data.y[train_data_splits_index[use_data]], 15, 32)\n",
    "model.evaluate(data.X[test_data_splits_index[use_data]], data.y[test_data_splits_index[use_data]])\n",
    "model.save('no_lstm_20240610_model_2.keras')\n",
    "y.append(data.y[test_data_splits_index[use_data]])\n",
    "predict.append(model.predictions)"
   ]
  },
  {
   "cell_type": "code",
   "execution_count": 25,
   "id": "731e2939",
   "metadata": {},
   "outputs": [],
   "source": [
    "y.append(data.y[test_data_splits_index[use_data]])\n",
    "predict.append(model.predictions)"
   ]
  },
  {
   "cell_type": "code",
   "execution_count": 26,
   "id": "8ccc7d27",
   "metadata": {},
   "outputs": [
    {
     "name": "stdout",
     "output_type": "stream",
     "text": [
      "(786, 20000, 1)\n",
      "Epoch 1/15\n",
      "18/18 [==============================] - 2238s 124s/step - loss: 0.1531 - mean_absolute_error: 0.3192 - mean_squared_error: 0.1531 - val_loss: 0.1013 - val_mean_absolute_error: 0.2583 - val_mean_squared_error: 0.1013\n",
      "Epoch 2/15\n",
      "18/18 [==============================] - 2188s 121s/step - loss: 0.0905 - mean_absolute_error: 0.2551 - mean_squared_error: 0.0905 - val_loss: 0.0909 - val_mean_absolute_error: 0.2486 - val_mean_squared_error: 0.0909\n",
      "Epoch 3/15\n",
      "18/18 [==============================] - 2207s 123s/step - loss: 0.0849 - mean_absolute_error: 0.2465 - mean_squared_error: 0.0849 - val_loss: 0.0768 - val_mean_absolute_error: 0.2354 - val_mean_squared_error: 0.0768\n",
      "Epoch 4/15\n",
      "18/18 [==============================] - 2222s 124s/step - loss: 0.0821 - mean_absolute_error: 0.2451 - mean_squared_error: 0.0821 - val_loss: 0.0732 - val_mean_absolute_error: 0.2337 - val_mean_squared_error: 0.0732\n",
      "Epoch 5/15\n",
      "18/18 [==============================] - 2220s 123s/step - loss: 0.0806 - mean_absolute_error: 0.2435 - mean_squared_error: 0.0806 - val_loss: 0.0727 - val_mean_absolute_error: 0.2334 - val_mean_squared_error: 0.0727\n",
      "Epoch 6/15\n",
      "18/18 [==============================] - 2233s 124s/step - loss: 0.0836 - mean_absolute_error: 0.2466 - mean_squared_error: 0.0836 - val_loss: 0.0781 - val_mean_absolute_error: 0.2368 - val_mean_squared_error: 0.0781\n",
      "Epoch 7/15\n",
      "18/18 [==============================] - 2238s 124s/step - loss: 0.0817 - mean_absolute_error: 0.2455 - mean_squared_error: 0.0817 - val_loss: 0.0746 - val_mean_absolute_error: 0.2342 - val_mean_squared_error: 0.0746\n",
      "Epoch 8/15\n",
      "18/18 [==============================] - 2210s 122s/step - loss: 0.0811 - mean_absolute_error: 0.2448 - mean_squared_error: 0.0811 - val_loss: 0.0727 - val_mean_absolute_error: 0.2335 - val_mean_squared_error: 0.0727\n",
      "Epoch 9/15\n",
      "18/18 [==============================] - 2247s 125s/step - loss: 0.0806 - mean_absolute_error: 0.2438 - mean_squared_error: 0.0806 - val_loss: 0.0762 - val_mean_absolute_error: 0.2350 - val_mean_squared_error: 0.0762\n",
      "Epoch 10/15\n",
      "18/18 [==============================] - 2235s 124s/step - loss: 0.0810 - mean_absolute_error: 0.2439 - mean_squared_error: 0.0810 - val_loss: 0.0732 - val_mean_absolute_error: 0.2339 - val_mean_squared_error: 0.0732\n",
      "Epoch 11/15\n",
      "18/18 [==============================] - 2230s 124s/step - loss: 0.0815 - mean_absolute_error: 0.2449 - mean_squared_error: 0.0815 - val_loss: 0.0728 - val_mean_absolute_error: 0.2337 - val_mean_squared_error: 0.0728\n",
      "Epoch 12/15\n",
      "18/18 [==============================] - 2207s 123s/step - loss: 0.0813 - mean_absolute_error: 0.2441 - mean_squared_error: 0.0813 - val_loss: 0.0734 - val_mean_absolute_error: 0.2335 - val_mean_squared_error: 0.0734\n",
      "Epoch 13/15\n",
      "18/18 [==============================] - 2226s 124s/step - loss: 0.0802 - mean_absolute_error: 0.2426 - mean_squared_error: 0.0802 - val_loss: 0.0757 - val_mean_absolute_error: 0.2348 - val_mean_squared_error: 0.0757\n",
      "Epoch 14/15\n",
      "18/18 [==============================] - 2231s 124s/step - loss: 0.0812 - mean_absolute_error: 0.2439 - mean_squared_error: 0.0812 - val_loss: 0.0741 - val_mean_absolute_error: 0.2342 - val_mean_squared_error: 0.0741\n",
      "Epoch 15/15\n",
      "18/18 [==============================] - 2212s 123s/step - loss: 0.0812 - mean_absolute_error: 0.2433 - mean_squared_error: 0.0812 - val_loss: 0.0731 - val_mean_absolute_error: 0.2339 - val_mean_squared_error: 0.0731\n",
      "5/5 [==============================] - 33s 7s/step - loss: 0.0875 - mean_absolute_error: 0.2630 - mean_squared_error: 0.0875\n",
      "Test loss:  0.0874822810292244\n",
      "Test metric 0:  0.2629932165145874\n",
      "Test metric 1:  0.0874822810292244\n",
      "5/5 [==============================] - 37s 7s/step\n",
      "r2:  -836.8127091209434\n",
      "MAE:  0.26299322597540103\n"
     ]
    }
   ],
   "source": [
    "model = lstm.LSTMmodel(scale = 1, time_range = 20000)\n",
    "\n",
    "model_checkpoint = ModelCheckpoint(\n",
    "    filepath='no_lstm_20240610_model_best_3.keras',  # 保存するファイルのパス\n",
    "    monitor='val_mean_absolute_error',        # 監視する値\n",
    "    save_best_only=True,       # 最良のモデルのみを保存\n",
    "    verbose=1,                 # 進行状況のメッセージ表示\n",
    "    mode='min'                 # 「減少」を監視\n",
    ")\n",
    "\n",
    "\n",
    "use_data = 3\n",
    "print(data.X.shape)\n",
    "model.training(data.X[train_data_splits_index[use_data]], data.y[train_data_splits_index[use_data]], 15, 32)\n",
    "model.evaluate(data.X[test_data_splits_index[use_data]], data.y[test_data_splits_index[use_data]])\n",
    "model.save('no_lstm_20240610_model_3.keras')\n",
    "y.append(data.y[test_data_splits_index[use_data]])\n",
    "predict.append(model.predictions)"
   ]
  },
  {
   "cell_type": "code",
   "execution_count": 27,
   "id": "03a1ce8e",
   "metadata": {},
   "outputs": [],
   "source": [
    "y.append(data.y[test_data_splits_index[use_data]])\n",
    "predict.append(model.predictions)"
   ]
  },
  {
   "cell_type": "code",
   "execution_count": 28,
   "id": "a55dbbd3",
   "metadata": {},
   "outputs": [
    {
     "name": "stdout",
     "output_type": "stream",
     "text": [
      "(786, 20000, 1)\n",
      "Epoch 1/50\n",
      "18/18 [==============================] - 2320s 129s/step - loss: 0.1517 - mean_absolute_error: 0.3149 - mean_squared_error: 0.1517 - val_loss: 0.1106 - val_mean_absolute_error: 0.2813 - val_mean_squared_error: 0.1106\n",
      "Epoch 2/50\n",
      "18/18 [==============================] - 2286s 127s/step - loss: 0.0869 - mean_absolute_error: 0.2497 - mean_squared_error: 0.0869 - val_loss: 0.0880 - val_mean_absolute_error: 0.2566 - val_mean_squared_error: 0.0880\n",
      "Epoch 3/50\n",
      "18/18 [==============================] - 2264s 126s/step - loss: 0.0853 - mean_absolute_error: 0.2494 - mean_squared_error: 0.0853 - val_loss: 0.0820 - val_mean_absolute_error: 0.2472 - val_mean_squared_error: 0.0820\n",
      "Epoch 4/50\n",
      "18/18 [==============================] - 2313s 129s/step - loss: 0.0836 - mean_absolute_error: 0.2485 - mean_squared_error: 0.0836 - val_loss: 0.0816 - val_mean_absolute_error: 0.2485 - val_mean_squared_error: 0.0816\n",
      "Epoch 5/50\n",
      "18/18 [==============================] - 2301s 128s/step - loss: 0.0813 - mean_absolute_error: 0.2461 - mean_squared_error: 0.0813 - val_loss: 0.0859 - val_mean_absolute_error: 0.2542 - val_mean_squared_error: 0.0859\n",
      "Epoch 6/50\n",
      "18/18 [==============================] - 2287s 127s/step - loss: 0.0832 - mean_absolute_error: 0.2476 - mean_squared_error: 0.0832 - val_loss: 0.0851 - val_mean_absolute_error: 0.2533 - val_mean_squared_error: 0.0851\n",
      "Epoch 7/50\n",
      "18/18 [==============================] - 2267s 126s/step - loss: 0.0829 - mean_absolute_error: 0.2480 - mean_squared_error: 0.0829 - val_loss: 0.0816 - val_mean_absolute_error: 0.2484 - val_mean_squared_error: 0.0816\n",
      "Epoch 8/50\n",
      "18/18 [==============================] - 2284s 127s/step - loss: 0.0811 - mean_absolute_error: 0.2450 - mean_squared_error: 0.0811 - val_loss: 0.0819 - val_mean_absolute_error: 0.2489 - val_mean_squared_error: 0.0819\n",
      "Epoch 9/50\n",
      "18/18 [==============================] - 2289s 127s/step - loss: 0.0815 - mean_absolute_error: 0.2464 - mean_squared_error: 0.0815 - val_loss: 0.0821 - val_mean_absolute_error: 0.2492 - val_mean_squared_error: 0.0821\n",
      "Epoch 10/50\n",
      "18/18 [==============================] - 2276s 127s/step - loss: 0.0818 - mean_absolute_error: 0.2461 - mean_squared_error: 0.0818 - val_loss: 0.0814 - val_mean_absolute_error: 0.2467 - val_mean_squared_error: 0.0814\n",
      "Epoch 11/50\n",
      "18/18 [==============================] - 2277s 127s/step - loss: 0.0833 - mean_absolute_error: 0.2482 - mean_squared_error: 0.0833 - val_loss: 0.0815 - val_mean_absolute_error: 0.2477 - val_mean_squared_error: 0.0815\n",
      "Epoch 12/50\n",
      "18/18 [==============================] - 2260s 125s/step - loss: 0.0827 - mean_absolute_error: 0.2475 - mean_squared_error: 0.0827 - val_loss: 0.0819 - val_mean_absolute_error: 0.2463 - val_mean_squared_error: 0.0819\n",
      "Epoch 13/50\n",
      "18/18 [==============================] - 2274s 126s/step - loss: 0.0829 - mean_absolute_error: 0.2477 - mean_squared_error: 0.0829 - val_loss: 0.0817 - val_mean_absolute_error: 0.2481 - val_mean_squared_error: 0.0817\n",
      "Epoch 14/50\n",
      "18/18 [==============================] - 2333s 130s/step - loss: 0.0814 - mean_absolute_error: 0.2456 - mean_squared_error: 0.0814 - val_loss: 0.0841 - val_mean_absolute_error: 0.2518 - val_mean_squared_error: 0.0841\n",
      "Epoch 15/50\n",
      "18/18 [==============================] - 2296s 128s/step - loss: 0.0821 - mean_absolute_error: 0.2471 - mean_squared_error: 0.0821 - val_loss: 0.0920 - val_mean_absolute_error: 0.2614 - val_mean_squared_error: 0.0920\n",
      "Epoch 16/50\n",
      "18/18 [==============================] - 2312s 129s/step - loss: 0.0843 - mean_absolute_error: 0.2481 - mean_squared_error: 0.0843 - val_loss: 0.0873 - val_mean_absolute_error: 0.2555 - val_mean_squared_error: 0.0873\n",
      "Epoch 17/50\n",
      "18/18 [==============================] - 2292s 128s/step - loss: 0.0826 - mean_absolute_error: 0.2470 - mean_squared_error: 0.0826 - val_loss: 0.0840 - val_mean_absolute_error: 0.2516 - val_mean_squared_error: 0.0840\n",
      "Epoch 18/50\n",
      "18/18 [==============================] - 2295s 128s/step - loss: 0.0811 - mean_absolute_error: 0.2458 - mean_squared_error: 0.0811 - val_loss: 0.0835 - val_mean_absolute_error: 0.2509 - val_mean_squared_error: 0.0835\n",
      "Epoch 19/50\n",
      "18/18 [==============================] - 2325s 129s/step - loss: 0.0810 - mean_absolute_error: 0.2456 - mean_squared_error: 0.0810 - val_loss: 0.0862 - val_mean_absolute_error: 0.2542 - val_mean_squared_error: 0.0862\n",
      "Epoch 20/50\n",
      "18/18 [==============================] - 2293s 127s/step - loss: 0.0834 - mean_absolute_error: 0.2485 - mean_squared_error: 0.0834 - val_loss: 0.0823 - val_mean_absolute_error: 0.2493 - val_mean_squared_error: 0.0823\n",
      "Epoch 21/50\n",
      "18/18 [==============================] - 2284s 127s/step - loss: 0.0811 - mean_absolute_error: 0.2455 - mean_squared_error: 0.0811 - val_loss: 0.0849 - val_mean_absolute_error: 0.2527 - val_mean_squared_error: 0.0849\n",
      "Epoch 22/50\n",
      "18/18 [==============================] - 2290s 127s/step - loss: 0.0808 - mean_absolute_error: 0.2448 - mean_squared_error: 0.0808 - val_loss: 0.0818 - val_mean_absolute_error: 0.2457 - val_mean_squared_error: 0.0818\n",
      "Epoch 23/50\n",
      "18/18 [==============================] - 2296s 127s/step - loss: 0.0820 - mean_absolute_error: 0.2453 - mean_squared_error: 0.0820 - val_loss: 0.0823 - val_mean_absolute_error: 0.2491 - val_mean_squared_error: 0.0823\n",
      "Epoch 24/50\n",
      "18/18 [==============================] - 2299s 128s/step - loss: 0.0812 - mean_absolute_error: 0.2454 - mean_squared_error: 0.0812 - val_loss: 0.0852 - val_mean_absolute_error: 0.2531 - val_mean_squared_error: 0.0852\n",
      "Epoch 25/50\n",
      "18/18 [==============================] - 2315s 129s/step - loss: 0.0818 - mean_absolute_error: 0.2464 - mean_squared_error: 0.0818 - val_loss: 0.0881 - val_mean_absolute_error: 0.2564 - val_mean_squared_error: 0.0881\n",
      "Epoch 26/50\n",
      "18/18 [==============================] - 2261s 126s/step - loss: 0.0823 - mean_absolute_error: 0.2470 - mean_squared_error: 0.0823 - val_loss: 0.0847 - val_mean_absolute_error: 0.2524 - val_mean_squared_error: 0.0847\n",
      "Epoch 27/50\n",
      "18/18 [==============================] - 2323s 129s/step - loss: 0.0813 - mean_absolute_error: 0.2458 - mean_squared_error: 0.0813 - val_loss: 0.0850 - val_mean_absolute_error: 0.2528 - val_mean_squared_error: 0.0850\n",
      "Epoch 28/50\n",
      "18/18 [==============================] - 2290s 127s/step - loss: 0.0822 - mean_absolute_error: 0.2453 - mean_squared_error: 0.0822 - val_loss: 0.0908 - val_mean_absolute_error: 0.2601 - val_mean_squared_error: 0.0908\n",
      "Epoch 29/50\n",
      "18/18 [==============================] - 2308s 128s/step - loss: 0.0818 - mean_absolute_error: 0.2460 - mean_squared_error: 0.0818 - val_loss: 0.0819 - val_mean_absolute_error: 0.2480 - val_mean_squared_error: 0.0819\n",
      "Epoch 30/50\n",
      "18/18 [==============================] - 2317s 128s/step - loss: 0.0814 - mean_absolute_error: 0.2456 - mean_squared_error: 0.0814 - val_loss: 0.0816 - val_mean_absolute_error: 0.2455 - val_mean_squared_error: 0.0816\n",
      "Epoch 31/50\n",
      "18/18 [==============================] - 2290s 127s/step - loss: 0.0821 - mean_absolute_error: 0.2452 - mean_squared_error: 0.0821 - val_loss: 0.0839 - val_mean_absolute_error: 0.2512 - val_mean_squared_error: 0.0839\n",
      "Epoch 32/50\n",
      "18/18 [==============================] - 2309s 128s/step - loss: 0.0813 - mean_absolute_error: 0.2458 - mean_squared_error: 0.0813 - val_loss: 0.0855 - val_mean_absolute_error: 0.2533 - val_mean_squared_error: 0.0855\n",
      "Epoch 33/50\n",
      "18/18 [==============================] - 2290s 127s/step - loss: 0.0818 - mean_absolute_error: 0.2462 - mean_squared_error: 0.0818 - val_loss: 0.0819 - val_mean_absolute_error: 0.2480 - val_mean_squared_error: 0.0819\n",
      "Epoch 34/50\n",
      "18/18 [==============================] - 2284s 127s/step - loss: 0.0810 - mean_absolute_error: 0.2455 - mean_squared_error: 0.0810 - val_loss: 0.0816 - val_mean_absolute_error: 0.2472 - val_mean_squared_error: 0.0816\n",
      "Epoch 35/50\n",
      "18/18 [==============================] - 2278s 127s/step - loss: 0.0831 - mean_absolute_error: 0.2473 - mean_squared_error: 0.0831 - val_loss: 0.0885 - val_mean_absolute_error: 0.2570 - val_mean_squared_error: 0.0885\n",
      "Epoch 36/50\n",
      "18/18 [==============================] - 2297s 128s/step - loss: 0.0815 - mean_absolute_error: 0.2461 - mean_squared_error: 0.0815 - val_loss: 0.0846 - val_mean_absolute_error: 0.2521 - val_mean_squared_error: 0.0846\n"
     ]
    },
    {
     "name": "stdout",
     "output_type": "stream",
     "text": [
      "Epoch 37/50\n",
      "18/18 [==============================] - 2281s 127s/step - loss: 0.0819 - mean_absolute_error: 0.2453 - mean_squared_error: 0.0819 - val_loss: 0.0815 - val_mean_absolute_error: 0.2467 - val_mean_squared_error: 0.0815\n",
      "Epoch 38/50\n",
      "18/18 [==============================] - 2285s 127s/step - loss: 0.0834 - mean_absolute_error: 0.2490 - mean_squared_error: 0.0834 - val_loss: 0.0816 - val_mean_absolute_error: 0.2472 - val_mean_squared_error: 0.0816\n",
      "Epoch 39/50\n",
      "18/18 [==============================] - 2285s 127s/step - loss: 0.0820 - mean_absolute_error: 0.2460 - mean_squared_error: 0.0820 - val_loss: 0.0837 - val_mean_absolute_error: 0.2508 - val_mean_squared_error: 0.0837\n",
      "Epoch 40/50\n",
      "18/18 [==============================] - 2283s 127s/step - loss: 0.0820 - mean_absolute_error: 0.2473 - mean_squared_error: 0.0820 - val_loss: 0.0848 - val_mean_absolute_error: 0.2523 - val_mean_squared_error: 0.0848\n",
      "Epoch 41/50\n",
      "18/18 [==============================] - 2289s 127s/step - loss: 0.0813 - mean_absolute_error: 0.2460 - mean_squared_error: 0.0813 - val_loss: 0.0830 - val_mean_absolute_error: 0.2498 - val_mean_squared_error: 0.0830\n",
      "Epoch 42/50\n",
      "18/18 [==============================] - 2291s 127s/step - loss: 0.0837 - mean_absolute_error: 0.2483 - mean_squared_error: 0.0837 - val_loss: 0.0877 - val_mean_absolute_error: 0.2559 - val_mean_squared_error: 0.0877\n",
      "Epoch 43/50\n",
      "18/18 [==============================] - 2327s 129s/step - loss: 0.0822 - mean_absolute_error: 0.2465 - mean_squared_error: 0.0822 - val_loss: 0.0847 - val_mean_absolute_error: 0.2522 - val_mean_squared_error: 0.0847\n",
      "Epoch 44/50\n",
      "18/18 [==============================] - 2259s 126s/step - loss: 0.0818 - mean_absolute_error: 0.2473 - mean_squared_error: 0.0818 - val_loss: 0.0833 - val_mean_absolute_error: 0.2503 - val_mean_squared_error: 0.0833\n",
      "Epoch 45/50\n",
      "18/18 [==============================] - 2263s 126s/step - loss: 0.0815 - mean_absolute_error: 0.2458 - mean_squared_error: 0.0815 - val_loss: 0.0831 - val_mean_absolute_error: 0.2500 - val_mean_squared_error: 0.0831\n",
      "Epoch 46/50\n",
      "18/18 [==============================] - 2281s 127s/step - loss: 0.0811 - mean_absolute_error: 0.2456 - mean_squared_error: 0.0811 - val_loss: 0.0821 - val_mean_absolute_error: 0.2483 - val_mean_squared_error: 0.0821\n",
      "Epoch 47/50\n",
      "18/18 [==============================] - 2273s 126s/step - loss: 0.0809 - mean_absolute_error: 0.2452 - mean_squared_error: 0.0809 - val_loss: 0.0854 - val_mean_absolute_error: 0.2530 - val_mean_squared_error: 0.0854\n",
      "Epoch 48/50\n",
      "18/18 [==============================] - 2290s 128s/step - loss: 0.0813 - mean_absolute_error: 0.2461 - mean_squared_error: 0.0813 - val_loss: 0.0817 - val_mean_absolute_error: 0.2469 - val_mean_squared_error: 0.0817\n",
      "Epoch 49/50\n",
      "18/18 [==============================] - 2270s 126s/step - loss: 0.0809 - mean_absolute_error: 0.2454 - mean_squared_error: 0.0809 - val_loss: 0.0835 - val_mean_absolute_error: 0.2504 - val_mean_squared_error: 0.0835\n",
      "Epoch 50/50\n",
      "18/18 [==============================] - 2257s 126s/step - loss: 0.0811 - mean_absolute_error: 0.2453 - mean_squared_error: 0.0811 - val_loss: 0.0867 - val_mean_absolute_error: 0.2545 - val_mean_squared_error: 0.0867\n",
      "5/5 [==============================] - 33s 7s/step - loss: 0.0834 - mean_absolute_error: 0.2507 - mean_squared_error: 0.0834\n",
      "Test loss:  0.08338703960180283\n",
      "Test metric 0:  0.25071075558662415\n",
      "Test metric 1:  0.08338703960180283\n",
      "5/5 [==============================] - 37s 7s/step\n",
      "r2:  -7078.578262040846\n",
      "MAE:  0.25071076056911684\n"
     ]
    }
   ],
   "source": [
    "model = lstm.LSTMmodel(scale = 1, time_range = 20000)\n",
    "\n",
    "model_checkpoint = ModelCheckpoint(\n",
    "    filepath='no_lstm_20240610_model_best_4.keras',  # 保存するファイルのパス\n",
    "    monitor='val_mean_absolute_error',        # 監視する値\n",
    "    save_best_only=True,       # 最良のモデルのみを保存\n",
    "    verbose=1,                 # 進行状況のメッセージ表示\n",
    "    mode='min'                 # 「減少」を監視\n",
    ")\n",
    "\n",
    "\n",
    "use_data = 4\n",
    "print(data.X.shape)\n",
    "model.training(data.X[train_data_splits_index[use_data]], data.y[train_data_splits_index[use_data]], 50, 32)\n",
    "model.evaluate(data.X[test_data_splits_index[use_data]], data.y[test_data_splits_index[use_data]])\n",
    "model.save('no_lstm_20240610_model_4.keras')\n",
    "y.append(data.y[test_data_splits_index[use_data]])\n",
    "predict.append(model.predictions)"
   ]
  },
  {
   "cell_type": "code",
   "execution_count": 29,
   "id": "13c2ffdd",
   "metadata": {},
   "outputs": [],
   "source": [
    "y.append(data.y[test_data_splits_index[use_data]])\n",
    "predict.append(model.predictions)"
   ]
  },
  {
   "cell_type": "code",
   "execution_count": 31,
   "id": "f5bed91d",
   "metadata": {},
   "outputs": [],
   "source": [
    "array_y = np.concatenate(y)\n",
    "array_pre = np.concatenate(predict)"
   ]
  },
  {
   "cell_type": "code",
   "execution_count": 32,
   "id": "0bef446c",
   "metadata": {},
   "outputs": [
    {
     "data": {
      "image/png": "[encoded data removed]",
      "text/plain": [
       "<Figure size 640x480 with 1 Axes>"
      ]
     },
     "metadata": {},
     "output_type": "display_data"
    },
    {
     "name": "stdout",
     "output_type": "stream",
     "text": [
      "R2 Score: -0.016789693184430687\n",
      "Mean Absolute Error (MAE): 0.24895640953287024\n",
      "Root Mean Squared Error (RMSE): 0.288219400181854\n"
     ]
    }
   ],
   "source": [
    "plt.scatter(array_y, array_pre)\n",
    "plt.xlabel('y')\n",
    "plt.ylabel('predict')\n",
    "plt.title('Scatter Plot of y vs predict')\n",
    "plt.show()\n",
    "\n",
    "# R2スコアの計算\n",
    "r2 = r2_score(array_y, array_pre)\n",
    "print(f\"R2 Score: {r2}\")\n",
    "\n",
    "# MAEの計算\n",
    "mae = mean_absolute_error(array_y, array_pre)\n",
    "print(f\"Mean Absolute Error (MAE): {mae}\")\n",
    "\n",
    "      \n",
    "      # RMSEの計算\n",
    "rmse = np.sqrt(mean_squared_error(array_y, array_pre))\n",
    "print(f\"Root Mean Squared Error (RMSE): {rmse}\")"
   ]
  }
 ],
 "metadata": {
  "kernelspec": {
   "display_name": "s2-washino",
   "language": "python",
   "name": "washino"
  },
  "language_info": {
   "codemirror_mode": {
    "name": "ipython",
    "version": 3
   },
   "file_extension": ".py",
   "mimetype": "text/x-python",
   "name": "python",
   "nbconvert_exporter": "python",
   "pygments_lexer": "ipython3",
   "version": "3.10.13"
  }
 },
 "nbformat": 4,
 "nbformat_minor": 5
}
