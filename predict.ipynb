{
 "cells": [
  {
   "cell_type": "code",
   "execution_count": 27,
   "id": "44b83fad",
   "metadata": {},
   "outputs": [],
   "source": [
    "from tensorflow.keras.models import load_model\n",
    "import numpy as np\n",
    "import cv2  # OpenCVライブラリ\n",
    "import matplotlib.pyplot as plt\n",
    "from sklearn.metrics import r2_score\n",
    "import os\n",
    "import glob\n",
    "import sys\n",
    "import pathlib\n",
    "from pathlib import Path"
   ]
  },
  {
   "cell_type": "code",
   "execution_count": 2,
   "id": "57505d26",
   "metadata": {},
   "outputs": [],
   "source": [
    "current_dir = os.getcwd()\n",
    "parent_dir = os.path.dirname(current_dir)\n",
    "sys.path.append(parent_dir)\n",
    "current_file_path = pathlib.Path(os.getcwd())\n",
    "parent_dir = current_file_path.parent"
   ]
  },
  {
   "cell_type": "code",
   "execution_count": 3,
   "id": "928858c2",
   "metadata": {},
   "outputs": [
    {
     "name": "stdout",
     "output_type": "stream",
     "text": [
      "/home/s2/Desktop/washino/swallowing\n",
      "/home/s2/Desktop/washino/swallowing\n"
     ]
    }
   ],
   "source": [
    "import fluid_intake_estimate\n",
    "from fluid_intake_estimate import variable_data_set\n",
    "from fluid_intake_estimate import cnn"
   ]
  },
  {
   "cell_type": "code",
   "execution_count": 12,
   "id": "6cb1a165",
   "metadata": {},
   "outputs": [
    {
     "name": "stderr",
     "output_type": "stream",
     "text": [
      "2024-05-16 18:53:43.203846: I tensorflow/core/common_runtime/gpu/gpu_device.cc:1635] Created device /job:localhost/replica:0/task:0/device:GPU:0 with 22040 MB memory:  -> device: 0, name: NVIDIA GeForce RTX 3090, pci bus id: 0000:65:00.0, compute capability: 8.6\n"
     ]
    }
   ],
   "source": [
    "loaded_model = load_model('cnn_20240516_model_best.keras')"
   ]
  },
  {
   "cell_type": "code",
   "execution_count": 7,
   "id": "fef67948",
   "metadata": {},
   "outputs": [],
   "source": [
    "directory_path = parent_dir / 'dataset'\n",
    "name = 'ezumi'\n"
   ]
  },
  {
   "cell_type": "code",
   "execution_count": null,
   "id": "ea4497ed",
   "metadata": {},
   "outputs": [
    {
     "name": "stdout",
     "output_type": "stream",
     "text": [
      "30\n",
      "31\n",
      "31\n"
     ]
    }
   ],
   "source": [
    "names = ['haruki', 'ezumi', 'hikaru', 'ibuki', 'kanata', 'kazuki', 'kishimoto', 'kosasayama', 'mocchi', 'nakaryo', 'ruku', 'shibata', 'soichiro', 'tsuji']\n",
    "count = 0\n",
    "data = variable_data_set.VariableDataSet(434)\n",
    "\n",
    "for name in names:    \n",
    "    path = directory_path / name\n",
    "    wav_files = glob.glob(os.path.join(path, '*.wav'))\n",
    "    wav_file_count = len(wav_files)\n",
    "    print(wav_file_count)\n",
    "    \n",
    "    csv_path = path / f'{name}.csv'    \n",
    "    data.csv_to_dataset(path, csv_path, count)\n",
    "    count += wav_file_count"
   ]
  },
  {
   "cell_type": "code",
   "execution_count": 36,
   "id": "6916e0d0",
   "metadata": {},
   "outputs": [
    {
     "name": "stdout",
     "output_type": "stream",
     "text": [
      "434\n"
     ]
    }
   ],
   "source": [
    "print(count)"
   ]
  },
  {
   "cell_type": "code",
   "execution_count": 13,
   "id": "9ac72d41",
   "metadata": {},
   "outputs": [
    {
     "name": "stderr",
     "output_type": "stream",
     "text": [
      "2024-05-16 18:54:19.257225: I tensorflow/compiler/xla/stream_executor/cuda/cuda_dnn.cc:424] Loaded cuDNN version 8600\n"
     ]
    },
    {
     "name": "stdout",
     "output_type": "stream",
     "text": [
      "1/1 [==============================] - 1s 1s/step\n"
     ]
    },
    {
     "name": "stderr",
     "output_type": "stream",
     "text": [
      "2024-05-16 18:54:19.774716: I tensorflow/compiler/xla/stream_executor/cuda/cuda_blas.cc:637] TensorFloat-32 will be used for the matrix multiplication. This will only be logged once.\n"
     ]
    }
   ],
   "source": [
    "predictions = loaded_model.predict(data.X)"
   ]
  },
  {
   "cell_type": "code",
   "execution_count": 18,
   "id": "e5f61509",
   "metadata": {},
   "outputs": [
    {
     "name": "stdout",
     "output_type": "stream",
     "text": [
      "[[0.8147009 ]\n",
      " [0.8709732 ]\n",
      " [0.57554483]\n",
      " [0.22361523]\n",
      " [0.02838563]\n",
      " [0.6480782 ]\n",
      " [0.6909526 ]\n",
      " [0.8246956 ]\n",
      " [0.417366  ]\n",
      " [0.24583572]\n",
      " [0.356709  ]\n",
      " [0.26751542]\n",
      " [0.5502592 ]\n",
      " [0.05650623]\n",
      " [0.36205477]\n",
      " [0.13079791]\n",
      " [0.5425554 ]\n",
      " [0.60566396]\n",
      " [0.03533018]\n",
      " [0.5140579 ]\n",
      " [0.13548253]\n",
      " [0.2920049 ]\n",
      " [0.03939711]\n",
      " [0.44112465]\n",
      " [0.0976342 ]\n",
      " [0.21518315]\n",
      " [0.24986912]\n",
      " [0.25333625]\n",
      " [0.18230063]\n",
      " [0.02337973]\n",
      " [0.01469001]]\n"
     ]
    }
   ],
   "source": [
    "print(predictions)"
   ]
  },
  {
   "cell_type": "code",
   "execution_count": 20,
   "id": "e70343fa",
   "metadata": {},
   "outputs": [
    {
     "name": "stdout",
     "output_type": "stream",
     "text": [
      "<class 'numpy.ndarray'>\n"
     ]
    }
   ],
   "source": [
    "print(type(data.y))"
   ]
  },
  {
   "cell_type": "code",
   "execution_count": 24,
   "id": "b659b8bd",
   "metadata": {},
   "outputs": [
    {
     "name": "stdout",
     "output_type": "stream",
     "text": [
      "-2.473492672127898\n"
     ]
    }
   ],
   "source": [
    "r2 = r2_score(predictions, data.y)\n",
    "print(r2)"
   ]
  },
  {
   "cell_type": "code",
   "execution_count": null,
   "id": "9265f228",
   "metadata": {},
   "outputs": [],
   "source": []
  }
 ],
 "metadata": {
  "kernelspec": {
   "display_name": "s2-washino",
   "language": "python",
   "name": "washino"
  },
  "language_info": {
   "codemirror_mode": {
    "name": "ipython",
    "version": 3
   },
   "file_extension": ".py",
   "mimetype": "text/x-python",
   "name": "python",
   "nbconvert_exporter": "python",
   "pygments_lexer": "ipython3",
   "version": "3.10.13"
  }
 },
 "nbformat": 4,
 "nbformat_minor": 5
}
