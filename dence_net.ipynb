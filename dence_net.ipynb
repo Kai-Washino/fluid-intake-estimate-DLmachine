{
 "cells": [
  {
   "cell_type": "code",
   "execution_count": 2,
   "id": "38adb564",
   "metadata": {},
   "outputs": [
    {
     "name": "stderr",
     "output_type": "stream",
     "text": [
      "2024-04-09 14:43:07.069109: I tensorflow/core/util/port.cc:110] oneDNN custom operations are on. You may see slightly different numerical results due to floating-point round-off errors from different computation orders. To turn them off, set the environment variable `TF_ENABLE_ONEDNN_OPTS=0`.\n",
      "2024-04-09 14:43:07.109395: I tensorflow/core/platform/cpu_feature_guard.cc:182] This TensorFlow binary is optimized to use available CPU instructions in performance-critical operations.\n",
      "To enable the following instructions: AVX2 AVX512F AVX512_VNNI FMA, in other operations, rebuild TensorFlow with the appropriate compiler flags.\n",
      "2024-04-09 14:43:07.757945: W tensorflow/compiler/tf2tensorrt/utils/py_utils.cc:38] TF-TRT Warning: Could not find TensorRT\n"
     ]
    }
   ],
   "source": [
    "from tensorflow.keras.applications import DenseNet121\n",
    "from tensorflow.keras.layers import Dense, GlobalAveragePooling2D\n",
    "from tensorflow.keras.models import Model\n",
    "from tensorflow.keras.utils import to_categorical\n",
    "from tensorflow.keras.callbacks import EarlyStopping\n",
    "from tensorflow.keras.callbacks import ModelCheckpoint"
   ]
  },
  {
   "cell_type": "code",
   "execution_count": 3,
   "id": "5324bc8e",
   "metadata": {},
   "outputs": [],
   "source": [
    "import numpy as np\n",
    "import cv2  # OpenCVライブラリ\n",
    "import matplotlib.pyplot as plt\n",
    "from matplotlib.colors import Normalize\n",
    "import os\n",
    "import sys\n",
    "import pathlib\n",
    "from pathlib import Path"
   ]
  },
  {
   "cell_type": "code",
   "execution_count": 4,
   "id": "ba3868d2",
   "metadata": {},
   "outputs": [],
   "source": [
    "current_dir = os.getcwd()\n",
    "parent_dir = os.path.dirname(current_dir)\n",
    "sys.path.append(parent_dir)\n",
    "current_file_path = pathlib.Path(os.getcwd())\n",
    "parent_dir = current_file_path.parent"
   ]
  },
  {
   "cell_type": "code",
   "execution_count": 5,
   "id": "b9ad92af",
   "metadata": {},
   "outputs": [
    {
     "name": "stdout",
     "output_type": "stream",
     "text": [
      "/home/s2/Desktop/washino/swallowing\n"
     ]
    }
   ],
   "source": [
    "import fluid_intake_estimate\n",
    "from fluid_intake_estimate import data_set\n",
    "from fluid_intake_estimate import dence_net"
   ]
  },
  {
   "cell_type": "code",
   "execution_count": 9,
   "id": "643623ba",
   "metadata": {},
   "outputs": [],
   "source": [
    "directory_path = parent_dir / 'dataset'\n",
    "path = directory_path / 'washino'"
   ]
  },
  {
   "cell_type": "code",
   "execution_count": 10,
   "id": "ac4ef31e",
   "metadata": {},
   "outputs": [
    {
     "name": "stdout",
     "output_type": "stream",
     "text": [
      "Epoch 1/10\n",
      "2/2 [==============================] - 53s 6s/step - loss: 1.2093 - mean_absolute_error: 0.9150 - mean_squared_error: 1.2093 - val_loss: 32.4197 - val_mean_absolute_error: 5.6209 - val_mean_squared_error: 32.4197\n",
      "Epoch 2/10\n",
      "2/2 [==============================] - 0s 113ms/step - loss: 5.2004 - mean_absolute_error: 1.6410 - mean_squared_error: 5.2004 - val_loss: 6.4494 - val_mean_absolute_error: 2.4464 - val_mean_squared_error: 6.4494\n",
      "Epoch 3/10\n",
      "2/2 [==============================] - 0s 106ms/step - loss: 1.0318 - mean_absolute_error: 0.7940 - mean_squared_error: 1.0318 - val_loss: 444.9041 - val_mean_absolute_error: 20.5290 - val_mean_squared_error: 444.9041\n",
      "Epoch 4/10\n",
      "2/2 [==============================] - 0s 107ms/step - loss: 1.2517 - mean_absolute_error: 0.7541 - mean_squared_error: 1.2517 - val_loss: 102.4344 - val_mean_absolute_error: 8.0725 - val_mean_squared_error: 102.4344\n",
      "Epoch 5/10\n",
      "2/2 [==============================] - 0s 109ms/step - loss: 0.3040 - mean_absolute_error: 0.4009 - mean_squared_error: 0.3040 - val_loss: 227910.2344 - val_mean_absolute_error: 463.8976 - val_mean_squared_error: 227910.2344\n",
      "Epoch 6/10\n",
      "2/2 [==============================] - 0s 102ms/step - loss: 0.4509 - mean_absolute_error: 0.5112 - mean_squared_error: 0.4509 - val_loss: 73345.1016 - val_mean_absolute_error: 256.4102 - val_mean_squared_error: 73345.1016\n",
      "Epoch 7/10\n",
      "2/2 [==============================] - 0s 123ms/step - loss: 0.1956 - mean_absolute_error: 0.2945 - mean_squared_error: 0.1956 - val_loss: 1139735.0000 - val_mean_absolute_error: 952.3853 - val_mean_squared_error: 1139735.0000\n",
      "Epoch 8/10\n",
      "2/2 [==============================] - 0s 102ms/step - loss: 0.1696 - mean_absolute_error: 0.3020 - mean_squared_error: 0.1696 - val_loss: 1963882.3750 - val_mean_absolute_error: 1226.7784 - val_mean_squared_error: 1963882.3750\n",
      "Epoch 9/10\n",
      "2/2 [==============================] - 0s 99ms/step - loss: 0.2501 - mean_absolute_error: 0.3353 - mean_squared_error: 0.2501 - val_loss: 2127886.2500 - val_mean_absolute_error: 1271.3085 - val_mean_squared_error: 2127886.2500\n",
      "Epoch 10/10\n",
      "2/2 [==============================] - 0s 104ms/step - loss: 0.0868 - mean_absolute_error: 0.2196 - mean_squared_error: 0.0868 - val_loss: 2158309.7500 - val_mean_absolute_error: 1272.4454 - val_mean_squared_error: 2158309.7500\n"
     ]
    }
   ],
   "source": [
    "csv_path = path / 'washino.csv'\n",
    "data = data_set.DataSet(53, 224, 224, 3)\n",
    "data.csv_to_dataset(path, csv_path, 0)\n",
    "model = dence_net.DenceNet()\n",
    "model.training(data.X, data.y, 10, 32)"
   ]
  },
  {
   "cell_type": "code",
   "execution_count": null,
   "id": "12c92dbe",
   "metadata": {},
   "outputs": [],
   "source": []
  }
 ],
 "metadata": {
  "kernelspec": {
   "display_name": "s2-washino",
   "language": "python",
   "name": "washino"
  },
  "language_info": {
   "codemirror_mode": {
    "name": "ipython",
    "version": 3
   },
   "file_extension": ".py",
   "mimetype": "text/x-python",
   "name": "python",
   "nbconvert_exporter": "python",
   "pygments_lexer": "ipython3",
   "version": "3.10.13"
  }
 },
 "nbformat": 4,
 "nbformat_minor": 5
}
