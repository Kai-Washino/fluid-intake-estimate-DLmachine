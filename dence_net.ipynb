{
 "cells": [
  {
   "cell_type": "code",
   "execution_count": 1,
   "id": "38adb564",
   "metadata": {},
   "outputs": [
    {
     "name": "stderr",
     "output_type": "stream",
     "text": [
      "2024-05-20 17:31:55.947061: I tensorflow/core/util/port.cc:110] oneDNN custom operations are on. You may see slightly different numerical results due to floating-point round-off errors from different computation orders. To turn them off, set the environment variable `TF_ENABLE_ONEDNN_OPTS=0`.\n",
      "2024-05-20 17:31:55.987593: I tensorflow/core/platform/cpu_feature_guard.cc:182] This TensorFlow binary is optimized to use available CPU instructions in performance-critical operations.\n",
      "To enable the following instructions: AVX2 AVX512F AVX512_VNNI FMA, in other operations, rebuild TensorFlow with the appropriate compiler flags.\n",
      "2024-05-20 17:31:56.822286: W tensorflow/compiler/tf2tensorrt/utils/py_utils.cc:38] TF-TRT Warning: Could not find TensorRT\n"
     ]
    }
   ],
   "source": [
    "from tensorflow.keras.applications import DenseNet121\n",
    "from tensorflow.keras.layers import Dense, GlobalAveragePooling2D\n",
    "from tensorflow.keras.models import Model\n",
    "from tensorflow.keras.utils import to_categorical\n",
    "from tensorflow.keras.callbacks import EarlyStopping\n",
    "from tensorflow.keras.callbacks import ModelCheckpoint"
   ]
  },
  {
   "cell_type": "code",
   "execution_count": 12,
   "id": "5324bc8e",
   "metadata": {},
   "outputs": [],
   "source": [
    "import numpy as np\n",
    "import cv2  # OpenCVライブラリ\n",
    "import matplotlib.pyplot as plt\n",
    "from matplotlib.colors import Normalize\n",
    "import os\n",
    "import glob\n",
    "import sys\n",
    "import pathlib\n",
    "from pathlib import Path\n",
    "from sklearn.model_selection import KFold\n",
    "from sklearn.metrics import r2_score, mean_absolute_error, mean_squared_error"
   ]
  },
  {
   "cell_type": "code",
   "execution_count": 3,
   "id": "ba3868d2",
   "metadata": {},
   "outputs": [],
   "source": [
    "current_dir = os.getcwd()\n",
    "parent_dir = os.path.dirname(current_dir)\n",
    "sys.path.append(parent_dir)\n",
    "current_file_path = pathlib.Path(os.getcwd())\n",
    "parent_dir = current_file_path.parent"
   ]
  },
  {
   "cell_type": "code",
   "execution_count": 4,
   "id": "b9ad92af",
   "metadata": {},
   "outputs": [
    {
     "name": "stdout",
     "output_type": "stream",
     "text": [
      "/home/s2/Desktop/washino/swallowing\n"
     ]
    }
   ],
   "source": [
    "import fluid_intake_estimate\n",
    "from fluid_intake_estimate import data_set\n",
    "from fluid_intake_estimate import dence_net"
   ]
  },
  {
   "cell_type": "code",
   "execution_count": 5,
   "id": "643623ba",
   "metadata": {},
   "outputs": [],
   "source": [
    "directory_path = parent_dir / 'dataset'"
   ]
  },
  {
   "cell_type": "markdown",
   "id": "52820b1e",
   "metadata": {},
   "source": [
    "# 鷲野のデータで学習"
   ]
  },
  {
   "cell_type": "code",
   "execution_count": null,
   "id": "c3f4519a",
   "metadata": {},
   "outputs": [],
   "source": [
    "path = directory_path / 'washino'"
   ]
  },
  {
   "cell_type": "code",
   "execution_count": 6,
   "id": "ac4ef31e",
   "metadata": {},
   "outputs": [
    {
     "name": "stderr",
     "output_type": "stream",
     "text": [
      "2024-04-24 14:56:43.175971: I tensorflow/core/common_runtime/gpu/gpu_device.cc:1635] Created device /job:localhost/replica:0/task:0/device:GPU:0 with 22053 MB memory:  -> device: 0, name: NVIDIA GeForce RTX 3090, pci bus id: 0000:65:00.0, compute capability: 8.6\n"
     ]
    }
   ],
   "source": [
    "csv_path = path / 'washino.csv'\n",
    "data = data_set.DataSet(150, 224, 224, 3)\n",
    "data.csv_to_dataset(path, csv_path, 0)\n",
    "model = dence_net.DenceNet()"
   ]
  },
  {
   "cell_type": "code",
   "execution_count": 7,
   "id": "12c92dbe",
   "metadata": {},
   "outputs": [
    {
     "name": "stdout",
     "output_type": "stream",
     "text": [
      "Epoch 1/150\n"
     ]
    },
    {
     "name": "stderr",
     "output_type": "stream",
     "text": [
      "2024-04-24 14:57:04.402431: I tensorflow/compiler/xla/stream_executor/cuda/cuda_dnn.cc:424] Loaded cuDNN version 8600\n",
      "2024-04-24 14:57:06.257123: I tensorflow/compiler/xla/stream_executor/cuda/cuda_blas.cc:637] TensorFloat-32 will be used for the matrix multiplication. This will only be logged once.\n",
      "2024-04-24 14:57:06.264881: I tensorflow/compiler/xla/service/service.cc:169] XLA service 0x8816ec0 initialized for platform CUDA (this does not guarantee that XLA will be used). Devices:\n",
      "2024-04-24 14:57:06.264928: I tensorflow/compiler/xla/service/service.cc:177]   StreamExecutor device (0): NVIDIA GeForce RTX 3090, Compute Capability 8.6\n",
      "2024-04-24 14:57:06.286986: I tensorflow/compiler/mlir/tensorflow/utils/dump_mlir_util.cc:269] disabling MLIR crash reproducer, set env var `MLIR_CRASH_REPRODUCER_DIRECTORY` to enable.\n",
      "2024-04-24 14:57:06.507129: I ./tensorflow/compiler/jit/device_compiler.h:180] Compiled cluster using XLA!  This line is logged at most once for the lifetime of the process.\n"
     ]
    },
    {
     "name": "stdout",
     "output_type": "stream",
     "text": [
      "5/5 [==============================] - 62s 1s/step - loss: 3.0713 - mean_absolute_error: 1.4199 - mean_squared_error: 3.0713 - val_loss: 225.9474 - val_mean_absolute_error: 14.6703 - val_mean_squared_error: 225.9474\n",
      "Epoch 2/150\n",
      "5/5 [==============================] - 0s 96ms/step - loss: 0.4888 - mean_absolute_error: 0.5532 - mean_squared_error: 0.4888 - val_loss: 7233.0342 - val_mean_absolute_error: 83.0979 - val_mean_squared_error: 7233.0342\n",
      "Epoch 3/150\n",
      "5/5 [==============================] - 1s 106ms/step - loss: 0.2109 - mean_absolute_error: 0.3610 - mean_squared_error: 0.2109 - val_loss: 356841.7188 - val_mean_absolute_error: 587.6342 - val_mean_squared_error: 356841.7188\n",
      "Epoch 4/150\n",
      "5/5 [==============================] - 0s 95ms/step - loss: 0.2134 - mean_absolute_error: 0.2932 - mean_squared_error: 0.2134 - val_loss: 756029.4375 - val_mean_absolute_error: 849.2997 - val_mean_squared_error: 756029.4375\n",
      "Epoch 5/150\n",
      "5/5 [==============================] - 1s 100ms/step - loss: 0.2557 - mean_absolute_error: 0.3403 - mean_squared_error: 0.2557 - val_loss: 913982.6250 - val_mean_absolute_error: 928.5393 - val_mean_squared_error: 913982.6250\n",
      "Epoch 6/150\n",
      "5/5 [==============================] - 1s 98ms/step - loss: 0.2076 - mean_absolute_error: 0.3471 - mean_squared_error: 0.2076 - val_loss: 2754012.7500 - val_mean_absolute_error: 1584.7583 - val_mean_squared_error: 2754012.7500\n",
      "Epoch 7/150\n",
      "5/5 [==============================] - 0s 98ms/step - loss: 0.4316 - mean_absolute_error: 0.4217 - mean_squared_error: 0.4316 - val_loss: 9585924.0000 - val_mean_absolute_error: 3026.2964 - val_mean_squared_error: 9585924.0000\n",
      "Epoch 8/150\n",
      "5/5 [==============================] - 1s 102ms/step - loss: 0.1865 - mean_absolute_error: 0.3002 - mean_squared_error: 0.1865 - val_loss: 250983.9375 - val_mean_absolute_error: 408.1663 - val_mean_squared_error: 250983.9375\n",
      "Epoch 9/150\n",
      "5/5 [==============================] - 0s 95ms/step - loss: 0.1097 - mean_absolute_error: 0.2643 - mean_squared_error: 0.1097 - val_loss: 39643.2891 - val_mean_absolute_error: 150.4985 - val_mean_squared_error: 39643.2891\n",
      "Epoch 10/150\n",
      "5/5 [==============================] - 0s 99ms/step - loss: 0.0925 - mean_absolute_error: 0.2392 - mean_squared_error: 0.0925 - val_loss: 69970.9141 - val_mean_absolute_error: 239.1538 - val_mean_squared_error: 69970.9141\n",
      "Epoch 11/150\n",
      "5/5 [==============================] - 1s 105ms/step - loss: 0.1599 - mean_absolute_error: 0.2624 - mean_squared_error: 0.1599 - val_loss: 1667.4186 - val_mean_absolute_error: 35.3749 - val_mean_squared_error: 1667.4186\n",
      "Epoch 12/150\n",
      "5/5 [==============================] - 1s 108ms/step - loss: 0.1352 - mean_absolute_error: 0.2703 - mean_squared_error: 0.1352 - val_loss: 24575.6289 - val_mean_absolute_error: 139.0576 - val_mean_squared_error: 24575.6289\n",
      "Epoch 13/150\n",
      "5/5 [==============================] - 1s 102ms/step - loss: 0.0930 - mean_absolute_error: 0.2370 - mean_squared_error: 0.0930 - val_loss: 29151.7949 - val_mean_absolute_error: 149.8868 - val_mean_squared_error: 29151.7949\n",
      "Epoch 14/150\n",
      "5/5 [==============================] - 1s 104ms/step - loss: 0.0915 - mean_absolute_error: 0.2437 - mean_squared_error: 0.0915 - val_loss: 3417.9868 - val_mean_absolute_error: 46.3956 - val_mean_squared_error: 3417.9868\n",
      "Epoch 15/150\n",
      "5/5 [==============================] - 0s 100ms/step - loss: 0.0797 - mean_absolute_error: 0.2277 - mean_squared_error: 0.0797 - val_loss: 3307.0984 - val_mean_absolute_error: 45.9948 - val_mean_squared_error: 3307.0984\n",
      "Epoch 16/150\n",
      "5/5 [==============================] - 1s 103ms/step - loss: 0.0778 - mean_absolute_error: 0.2265 - mean_squared_error: 0.0778 - val_loss: 196.2426 - val_mean_absolute_error: 10.1994 - val_mean_squared_error: 196.2426\n",
      "Epoch 17/150\n",
      "5/5 [==============================] - 0s 97ms/step - loss: 0.0689 - mean_absolute_error: 0.2148 - mean_squared_error: 0.0689 - val_loss: 385.4729 - val_mean_absolute_error: 15.1879 - val_mean_squared_error: 385.4729\n",
      "Epoch 18/150\n",
      "5/5 [==============================] - 0s 96ms/step - loss: 0.0738 - mean_absolute_error: 0.2236 - mean_squared_error: 0.0738 - val_loss: 45.2871 - val_mean_absolute_error: 5.1068 - val_mean_squared_error: 45.2871\n",
      "Epoch 19/150\n",
      "5/5 [==============================] - 1s 98ms/step - loss: 0.0667 - mean_absolute_error: 0.2172 - mean_squared_error: 0.0667 - val_loss: 3.8720 - val_mean_absolute_error: 1.5429 - val_mean_squared_error: 3.8720\n",
      "Epoch 20/150\n",
      "5/5 [==============================] - 0s 101ms/step - loss: 0.0642 - mean_absolute_error: 0.2098 - mean_squared_error: 0.0642 - val_loss: 2.4687 - val_mean_absolute_error: 1.3359 - val_mean_squared_error: 2.4687\n",
      "Epoch 21/150\n",
      "5/5 [==============================] - 0s 100ms/step - loss: 0.0642 - mean_absolute_error: 0.2096 - mean_squared_error: 0.0642 - val_loss: 12.4979 - val_mean_absolute_error: 3.0077 - val_mean_squared_error: 12.4979\n",
      "Epoch 22/150\n",
      "5/5 [==============================] - 1s 109ms/step - loss: 0.0623 - mean_absolute_error: 0.2095 - mean_squared_error: 0.0623 - val_loss: 11.1192 - val_mean_absolute_error: 2.7819 - val_mean_squared_error: 11.1192\n",
      "Epoch 23/150\n",
      "5/5 [==============================] - 1s 107ms/step - loss: 0.0643 - mean_absolute_error: 0.2103 - mean_squared_error: 0.0643 - val_loss: 0.7757 - val_mean_absolute_error: 0.7707 - val_mean_squared_error: 0.7757\n",
      "Epoch 24/150\n",
      "5/5 [==============================] - 1s 106ms/step - loss: 0.0629 - mean_absolute_error: 0.2094 - mean_squared_error: 0.0629 - val_loss: 1.2684 - val_mean_absolute_error: 0.9878 - val_mean_squared_error: 1.2684\n",
      "Epoch 25/150\n",
      "5/5 [==============================] - 1s 100ms/step - loss: 0.0595 - mean_absolute_error: 0.1995 - mean_squared_error: 0.0595 - val_loss: 0.9080 - val_mean_absolute_error: 0.8379 - val_mean_squared_error: 0.9080\n",
      "Epoch 26/150\n",
      "5/5 [==============================] - 0s 96ms/step - loss: 0.0551 - mean_absolute_error: 0.1923 - mean_squared_error: 0.0551 - val_loss: 2.7741 - val_mean_absolute_error: 1.4614 - val_mean_squared_error: 2.7741\n",
      "Epoch 27/150\n",
      "5/5 [==============================] - 0s 96ms/step - loss: 0.0571 - mean_absolute_error: 0.1995 - mean_squared_error: 0.0571 - val_loss: 2.7772 - val_mean_absolute_error: 1.4357 - val_mean_squared_error: 2.7772\n",
      "Epoch 28/150\n",
      "5/5 [==============================] - 1s 99ms/step - loss: 0.0543 - mean_absolute_error: 0.1906 - mean_squared_error: 0.0543 - val_loss: 0.9690 - val_mean_absolute_error: 0.8658 - val_mean_squared_error: 0.9690\n",
      "Epoch 29/150\n",
      "5/5 [==============================] - 1s 103ms/step - loss: 0.0525 - mean_absolute_error: 0.1859 - mean_squared_error: 0.0525 - val_loss: 2.1060 - val_mean_absolute_error: 1.2286 - val_mean_squared_error: 2.1060\n",
      "Epoch 30/150\n",
      "5/5 [==============================] - 1s 107ms/step - loss: 0.0508 - mean_absolute_error: 0.1848 - mean_squared_error: 0.0508 - val_loss: 0.5959 - val_mean_absolute_error: 0.7041 - val_mean_squared_error: 0.5959\n",
      "Epoch 31/150\n",
      "5/5 [==============================] - 1s 107ms/step - loss: 0.0519 - mean_absolute_error: 0.1821 - mean_squared_error: 0.0519 - val_loss: 0.8970 - val_mean_absolute_error: 0.8345 - val_mean_squared_error: 0.8970\n",
      "Epoch 32/150\n",
      "5/5 [==============================] - 0s 101ms/step - loss: 0.0430 - mean_absolute_error: 0.1660 - mean_squared_error: 0.0430 - val_loss: 0.5397 - val_mean_absolute_error: 0.6492 - val_mean_squared_error: 0.5397\n",
      "Epoch 33/150\n",
      "5/5 [==============================] - 0s 98ms/step - loss: 0.0515 - mean_absolute_error: 0.1839 - mean_squared_error: 0.0515 - val_loss: 0.6484 - val_mean_absolute_error: 0.7077 - val_mean_squared_error: 0.6484\n",
      "Epoch 34/150\n",
      "5/5 [==============================] - 1s 105ms/step - loss: 0.0437 - mean_absolute_error: 0.1699 - mean_squared_error: 0.0437 - val_loss: 0.4332 - val_mean_absolute_error: 0.5578 - val_mean_squared_error: 0.4332\n",
      "Epoch 35/150\n",
      "5/5 [==============================] - 1s 103ms/step - loss: 0.0573 - mean_absolute_error: 0.1927 - mean_squared_error: 0.0573 - val_loss: 0.5089 - val_mean_absolute_error: 0.6173 - val_mean_squared_error: 0.5089\n",
      "Epoch 36/150\n",
      "5/5 [==============================] - 1s 105ms/step - loss: 0.0452 - mean_absolute_error: 0.1693 - mean_squared_error: 0.0452 - val_loss: 0.3001 - val_mean_absolute_error: 0.4952 - val_mean_squared_error: 0.3001\n"
     ]
    },
    {
     "name": "stdout",
     "output_type": "stream",
     "text": [
      "Epoch 37/150\n",
      "5/5 [==============================] - 0s 96ms/step - loss: 0.0703 - mean_absolute_error: 0.2037 - mean_squared_error: 0.0703 - val_loss: 0.3236 - val_mean_absolute_error: 0.5458 - val_mean_squared_error: 0.3236\n",
      "Epoch 38/150\n",
      "5/5 [==============================] - 0s 99ms/step - loss: 0.0593 - mean_absolute_error: 0.1905 - mean_squared_error: 0.0593 - val_loss: 0.2391 - val_mean_absolute_error: 0.4536 - val_mean_squared_error: 0.2391\n",
      "Epoch 39/150\n",
      "5/5 [==============================] - 1s 104ms/step - loss: 0.0593 - mean_absolute_error: 0.1958 - mean_squared_error: 0.0593 - val_loss: 0.3621 - val_mean_absolute_error: 0.5309 - val_mean_squared_error: 0.3621\n",
      "Epoch 40/150\n",
      "5/5 [==============================] - 0s 97ms/step - loss: 0.0411 - mean_absolute_error: 0.1611 - mean_squared_error: 0.0411 - val_loss: 0.4589 - val_mean_absolute_error: 0.6296 - val_mean_squared_error: 0.4589\n",
      "Epoch 41/150\n",
      "5/5 [==============================] - 1s 116ms/step - loss: 0.0364 - mean_absolute_error: 0.1486 - mean_squared_error: 0.0364 - val_loss: 0.4456 - val_mean_absolute_error: 0.6091 - val_mean_squared_error: 0.4456\n",
      "Epoch 42/150\n",
      "5/5 [==============================] - 1s 117ms/step - loss: 0.0344 - mean_absolute_error: 0.1488 - mean_squared_error: 0.0344 - val_loss: 0.7485 - val_mean_absolute_error: 0.7494 - val_mean_squared_error: 0.7485\n",
      "Epoch 43/150\n",
      "5/5 [==============================] - 0s 97ms/step - loss: 0.0350 - mean_absolute_error: 0.1497 - mean_squared_error: 0.0350 - val_loss: 0.5417 - val_mean_absolute_error: 0.6552 - val_mean_squared_error: 0.5417\n",
      "Epoch 44/150\n",
      "5/5 [==============================] - 1s 103ms/step - loss: 0.0385 - mean_absolute_error: 0.1560 - mean_squared_error: 0.0385 - val_loss: 0.6227 - val_mean_absolute_error: 0.6902 - val_mean_squared_error: 0.6227\n",
      "Epoch 45/150\n",
      "5/5 [==============================] - 0s 97ms/step - loss: 0.0316 - mean_absolute_error: 0.1403 - mean_squared_error: 0.0316 - val_loss: 0.3155 - val_mean_absolute_error: 0.5202 - val_mean_squared_error: 0.3155\n",
      "Epoch 46/150\n",
      "5/5 [==============================] - 1s 106ms/step - loss: 0.0249 - mean_absolute_error: 0.1230 - mean_squared_error: 0.0249 - val_loss: 0.3341 - val_mean_absolute_error: 0.5336 - val_mean_squared_error: 0.3341\n",
      "Epoch 47/150\n",
      "5/5 [==============================] - 1s 109ms/step - loss: 0.0260 - mean_absolute_error: 0.1283 - mean_squared_error: 0.0260 - val_loss: 0.3050 - val_mean_absolute_error: 0.5204 - val_mean_squared_error: 0.3050\n",
      "Epoch 48/150\n",
      "5/5 [==============================] - 0s 96ms/step - loss: 0.0338 - mean_absolute_error: 0.1497 - mean_squared_error: 0.0338 - val_loss: 0.2420 - val_mean_absolute_error: 0.4753 - val_mean_squared_error: 0.2420\n",
      "Epoch 49/150\n",
      "5/5 [==============================] - 0s 97ms/step - loss: 0.0316 - mean_absolute_error: 0.1392 - mean_squared_error: 0.0316 - val_loss: 0.2819 - val_mean_absolute_error: 0.5174 - val_mean_squared_error: 0.2819\n",
      "Epoch 50/150\n",
      "5/5 [==============================] - 0s 98ms/step - loss: 0.0212 - mean_absolute_error: 0.1181 - mean_squared_error: 0.0212 - val_loss: 0.2431 - val_mean_absolute_error: 0.4783 - val_mean_squared_error: 0.2431\n",
      "Epoch 51/150\n",
      "5/5 [==============================] - 0s 96ms/step - loss: 0.0322 - mean_absolute_error: 0.1454 - mean_squared_error: 0.0322 - val_loss: 0.2839 - val_mean_absolute_error: 0.5174 - val_mean_squared_error: 0.2839\n",
      "Epoch 52/150\n",
      "5/5 [==============================] - 0s 97ms/step - loss: 0.0311 - mean_absolute_error: 0.1330 - mean_squared_error: 0.0311 - val_loss: 0.3238 - val_mean_absolute_error: 0.5546 - val_mean_squared_error: 0.3238\n",
      "Epoch 53/150\n",
      "5/5 [==============================] - 0s 99ms/step - loss: 0.0174 - mean_absolute_error: 0.1041 - mean_squared_error: 0.0174 - val_loss: 0.3259 - val_mean_absolute_error: 0.5558 - val_mean_squared_error: 0.3259\n",
      "Epoch 54/150\n",
      "5/5 [==============================] - 1s 105ms/step - loss: 0.0214 - mean_absolute_error: 0.1225 - mean_squared_error: 0.0214 - val_loss: 0.2468 - val_mean_absolute_error: 0.4758 - val_mean_squared_error: 0.2468\n",
      "Epoch 55/150\n",
      "5/5 [==============================] - 1s 104ms/step - loss: 0.0183 - mean_absolute_error: 0.1001 - mean_squared_error: 0.0183 - val_loss: 0.3126 - val_mean_absolute_error: 0.5422 - val_mean_squared_error: 0.3126\n",
      "Epoch 56/150\n",
      "5/5 [==============================] - 0s 99ms/step - loss: 0.0211 - mean_absolute_error: 0.1166 - mean_squared_error: 0.0211 - val_loss: 0.3788 - val_mean_absolute_error: 0.5974 - val_mean_squared_error: 0.3788\n",
      "Epoch 57/150\n",
      "5/5 [==============================] - 1s 102ms/step - loss: 0.0127 - mean_absolute_error: 0.0870 - mean_squared_error: 0.0127 - val_loss: 0.3628 - val_mean_absolute_error: 0.5878 - val_mean_squared_error: 0.3628\n",
      "Epoch 58/150\n",
      "5/5 [==============================] - 0s 101ms/step - loss: 0.0197 - mean_absolute_error: 0.1112 - mean_squared_error: 0.0197 - val_loss: 0.2517 - val_mean_absolute_error: 0.4814 - val_mean_squared_error: 0.2517\n",
      "Epoch 59/150\n",
      "5/5 [==============================] - 1s 109ms/step - loss: 0.0136 - mean_absolute_error: 0.0891 - mean_squared_error: 0.0136 - val_loss: 0.1466 - val_mean_absolute_error: 0.3223 - val_mean_squared_error: 0.1466\n",
      "Epoch 60/150\n",
      "5/5 [==============================] - 0s 96ms/step - loss: 0.0247 - mean_absolute_error: 0.1231 - mean_squared_error: 0.0247 - val_loss: 0.1843 - val_mean_absolute_error: 0.3587 - val_mean_squared_error: 0.1843\n",
      "Epoch 61/150\n",
      "5/5 [==============================] - 0s 97ms/step - loss: 0.0203 - mean_absolute_error: 0.1163 - mean_squared_error: 0.0203 - val_loss: 0.2599 - val_mean_absolute_error: 0.4823 - val_mean_squared_error: 0.2599\n",
      "Epoch 62/150\n",
      "5/5 [==============================] - 1s 108ms/step - loss: 0.0202 - mean_absolute_error: 0.1147 - mean_squared_error: 0.0202 - val_loss: 0.3613 - val_mean_absolute_error: 0.5822 - val_mean_squared_error: 0.3613\n",
      "Epoch 63/150\n",
      "5/5 [==============================] - 1s 103ms/step - loss: 0.0136 - mean_absolute_error: 0.0909 - mean_squared_error: 0.0136 - val_loss: 0.3126 - val_mean_absolute_error: 0.5403 - val_mean_squared_error: 0.3126\n",
      "Epoch 64/150\n",
      "5/5 [==============================] - 1s 114ms/step - loss: 0.0157 - mean_absolute_error: 0.0983 - mean_squared_error: 0.0157 - val_loss: 0.2454 - val_mean_absolute_error: 0.4710 - val_mean_squared_error: 0.2454\n",
      "Epoch 65/150\n",
      "5/5 [==============================] - 0s 96ms/step - loss: 0.0124 - mean_absolute_error: 0.0868 - mean_squared_error: 0.0124 - val_loss: 0.2523 - val_mean_absolute_error: 0.4780 - val_mean_squared_error: 0.2523\n",
      "Epoch 66/150\n",
      "5/5 [==============================] - 1s 103ms/step - loss: 0.0085 - mean_absolute_error: 0.0706 - mean_squared_error: 0.0085 - val_loss: 0.3042 - val_mean_absolute_error: 0.5360 - val_mean_squared_error: 0.3042\n",
      "Epoch 67/150\n",
      "5/5 [==============================] - 1s 109ms/step - loss: 0.0158 - mean_absolute_error: 0.0991 - mean_squared_error: 0.0158 - val_loss: 0.3949 - val_mean_absolute_error: 0.6142 - val_mean_squared_error: 0.3949\n",
      "Epoch 68/150\n",
      "5/5 [==============================] - 0s 98ms/step - loss: 0.0326 - mean_absolute_error: 0.1539 - mean_squared_error: 0.0326 - val_loss: 0.3658 - val_mean_absolute_error: 0.5855 - val_mean_squared_error: 0.3658\n",
      "Epoch 69/150\n",
      "5/5 [==============================] - 1s 107ms/step - loss: 0.0172 - mean_absolute_error: 0.1056 - mean_squared_error: 0.0172 - val_loss: 0.2858 - val_mean_absolute_error: 0.5114 - val_mean_squared_error: 0.2858\n",
      "Epoch 70/150\n",
      "5/5 [==============================] - 1s 102ms/step - loss: 0.0185 - mean_absolute_error: 0.1133 - mean_squared_error: 0.0185 - val_loss: 0.2876 - val_mean_absolute_error: 0.5103 - val_mean_squared_error: 0.2876\n",
      "Epoch 71/150\n",
      "5/5 [==============================] - 0s 97ms/step - loss: 0.0202 - mean_absolute_error: 0.1072 - mean_squared_error: 0.0202 - val_loss: 0.3273 - val_mean_absolute_error: 0.5523 - val_mean_squared_error: 0.3273\n",
      "Epoch 72/150\n",
      "5/5 [==============================] - 0s 97ms/step - loss: 0.0206 - mean_absolute_error: 0.1197 - mean_squared_error: 0.0206 - val_loss: 0.4258 - val_mean_absolute_error: 0.6334 - val_mean_squared_error: 0.4258\n",
      "Epoch 73/150\n",
      "5/5 [==============================] - 1s 109ms/step - loss: 0.0178 - mean_absolute_error: 0.0953 - mean_squared_error: 0.0178 - val_loss: 0.4785 - val_mean_absolute_error: 0.6729 - val_mean_squared_error: 0.4785\n",
      "Epoch 74/150\n",
      "5/5 [==============================] - 0s 96ms/step - loss: 0.0127 - mean_absolute_error: 0.0759 - mean_squared_error: 0.0127 - val_loss: 0.3505 - val_mean_absolute_error: 0.5726 - val_mean_squared_error: 0.3505\n",
      "Epoch 75/150\n",
      "5/5 [==============================] - 0s 96ms/step - loss: 0.0123 - mean_absolute_error: 0.0799 - mean_squared_error: 0.0123 - val_loss: 0.3759 - val_mean_absolute_error: 0.5923 - val_mean_squared_error: 0.3759\n",
      "Epoch 76/150\n",
      "5/5 [==============================] - 1s 103ms/step - loss: 0.0061 - mean_absolute_error: 0.0627 - mean_squared_error: 0.0061 - val_loss: 0.3200 - val_mean_absolute_error: 0.5429 - val_mean_squared_error: 0.3200\n",
      "Epoch 77/150\n",
      "5/5 [==============================] - 1s 105ms/step - loss: 0.0142 - mean_absolute_error: 0.0991 - mean_squared_error: 0.0142 - val_loss: 0.3274 - val_mean_absolute_error: 0.5529 - val_mean_squared_error: 0.3274\n",
      "Epoch 78/150\n",
      "5/5 [==============================] - 0s 100ms/step - loss: 0.0061 - mean_absolute_error: 0.0635 - mean_squared_error: 0.0061 - val_loss: 0.3457 - val_mean_absolute_error: 0.5702 - val_mean_squared_error: 0.3457\n",
      "Epoch 79/150\n",
      "5/5 [==============================] - 0s 100ms/step - loss: 0.0028 - mean_absolute_error: 0.0408 - mean_squared_error: 0.0028 - val_loss: 0.3563 - val_mean_absolute_error: 0.5785 - val_mean_squared_error: 0.3563\n",
      "Epoch 80/150\n",
      "5/5 [==============================] - 1s 106ms/step - loss: 0.0065 - mean_absolute_error: 0.0645 - mean_squared_error: 0.0065 - val_loss: 0.3834 - val_mean_absolute_error: 0.6012 - val_mean_squared_error: 0.3834\n",
      "Epoch 81/150\n",
      "5/5 [==============================] - 1s 102ms/step - loss: 0.0071 - mean_absolute_error: 0.0643 - mean_squared_error: 0.0071 - val_loss: 0.3036 - val_mean_absolute_error: 0.5328 - val_mean_squared_error: 0.3036\n",
      "Epoch 82/150\n",
      "5/5 [==============================] - 1s 106ms/step - loss: 0.0041 - mean_absolute_error: 0.0509 - mean_squared_error: 0.0041 - val_loss: 0.3085 - val_mean_absolute_error: 0.5369 - val_mean_squared_error: 0.3085\n",
      "Epoch 83/150\n",
      "5/5 [==============================] - 1s 109ms/step - loss: 0.0048 - mean_absolute_error: 0.0535 - mean_squared_error: 0.0048 - val_loss: 0.3919 - val_mean_absolute_error: 0.6069 - val_mean_squared_error: 0.3919\n",
      "Epoch 84/150\n",
      "5/5 [==============================] - 1s 103ms/step - loss: 0.0074 - mean_absolute_error: 0.0638 - mean_squared_error: 0.0074 - val_loss: 0.3485 - val_mean_absolute_error: 0.5727 - val_mean_squared_error: 0.3485\n",
      "Epoch 85/150\n",
      "5/5 [==============================] - 1s 101ms/step - loss: 0.0051 - mean_absolute_error: 0.0545 - mean_squared_error: 0.0051 - val_loss: 0.2739 - val_mean_absolute_error: 0.4998 - val_mean_squared_error: 0.2739\n",
      "Epoch 86/150\n",
      "5/5 [==============================] - 0s 99ms/step - loss: 0.0100 - mean_absolute_error: 0.0805 - mean_squared_error: 0.0100 - val_loss: 0.2534 - val_mean_absolute_error: 0.4776 - val_mean_squared_error: 0.2534\n",
      "Epoch 87/150\n",
      "5/5 [==============================] - 0s 97ms/step - loss: 0.0085 - mean_absolute_error: 0.0726 - mean_squared_error: 0.0085 - val_loss: 0.3188 - val_mean_absolute_error: 0.5397 - val_mean_squared_error: 0.3188\n",
      "Epoch 88/150\n",
      "5/5 [==============================] - 0s 102ms/step - loss: 0.0113 - mean_absolute_error: 0.0812 - mean_squared_error: 0.0113 - val_loss: 0.2976 - val_mean_absolute_error: 0.5234 - val_mean_squared_error: 0.2976\n",
      "Epoch 89/150\n",
      "5/5 [==============================] - 1s 102ms/step - loss: 0.0135 - mean_absolute_error: 0.0867 - mean_squared_error: 0.0135 - val_loss: 0.3055 - val_mean_absolute_error: 0.5336 - val_mean_squared_error: 0.3055\n",
      "Epoch 90/150\n",
      "5/5 [==============================] - 0s 100ms/step - loss: 0.0052 - mean_absolute_error: 0.0580 - mean_squared_error: 0.0052 - val_loss: 0.3601 - val_mean_absolute_error: 0.5829 - val_mean_squared_error: 0.3601\n",
      "Epoch 91/150\n",
      "5/5 [==============================] - 1s 110ms/step - loss: 0.0069 - mean_absolute_error: 0.0624 - mean_squared_error: 0.0069 - val_loss: 0.3249 - val_mean_absolute_error: 0.5520 - val_mean_squared_error: 0.3249\n",
      "Epoch 92/150\n",
      "5/5 [==============================] - 1s 105ms/step - loss: 0.0034 - mean_absolute_error: 0.0427 - mean_squared_error: 0.0034 - val_loss: 0.2418 - val_mean_absolute_error: 0.4698 - val_mean_squared_error: 0.2418\n",
      "Epoch 93/150\n",
      "5/5 [==============================] - 0s 98ms/step - loss: 0.0056 - mean_absolute_error: 0.0622 - mean_squared_error: 0.0056 - val_loss: 0.2816 - val_mean_absolute_error: 0.5089 - val_mean_squared_error: 0.2816\n",
      "Epoch 94/150\n",
      "5/5 [==============================] - 1s 105ms/step - loss: 0.0110 - mean_absolute_error: 0.0954 - mean_squared_error: 0.0110 - val_loss: 0.2654 - val_mean_absolute_error: 0.4888 - val_mean_squared_error: 0.2654\n",
      "Epoch 95/150\n",
      "5/5 [==============================] - 0s 95ms/step - loss: 0.0132 - mean_absolute_error: 0.1019 - mean_squared_error: 0.0132 - val_loss: 0.3344 - val_mean_absolute_error: 0.5584 - val_mean_squared_error: 0.3344\n",
      "Epoch 96/150\n",
      "5/5 [==============================] - 0s 99ms/step - loss: 0.0167 - mean_absolute_error: 0.0923 - mean_squared_error: 0.0167 - val_loss: 0.3184 - val_mean_absolute_error: 0.5285 - val_mean_squared_error: 0.3184\n",
      "Epoch 97/150\n",
      "5/5 [==============================] - 0s 99ms/step - loss: 0.0227 - mean_absolute_error: 0.1247 - mean_squared_error: 0.0227 - val_loss: 0.2987 - val_mean_absolute_error: 0.5255 - val_mean_squared_error: 0.2987\n",
      "Epoch 98/150\n",
      "5/5 [==============================] - 0s 99ms/step - loss: 0.0239 - mean_absolute_error: 0.1165 - mean_squared_error: 0.0239 - val_loss: 0.3013 - val_mean_absolute_error: 0.5146 - val_mean_squared_error: 0.3013\n",
      "Epoch 99/150\n",
      "5/5 [==============================] - 1s 111ms/step - loss: 0.0364 - mean_absolute_error: 0.1357 - mean_squared_error: 0.0364 - val_loss: 0.3612 - val_mean_absolute_error: 0.5800 - val_mean_squared_error: 0.3612\n",
      "Epoch 100/150\n",
      "5/5 [==============================] - 0s 98ms/step - loss: 0.0185 - mean_absolute_error: 0.0913 - mean_squared_error: 0.0185 - val_loss: 0.3431 - val_mean_absolute_error: 0.5621 - val_mean_squared_error: 0.3431\n",
      "Epoch 101/150\n",
      "5/5 [==============================] - 1s 100ms/step - loss: 0.0130 - mean_absolute_error: 0.0828 - mean_squared_error: 0.0130 - val_loss: 0.3614 - val_mean_absolute_error: 0.5774 - val_mean_squared_error: 0.3614\n",
      "Epoch 102/150\n",
      "5/5 [==============================] - 1s 104ms/step - loss: 0.0115 - mean_absolute_error: 0.0849 - mean_squared_error: 0.0115 - val_loss: 0.3571 - val_mean_absolute_error: 0.5792 - val_mean_squared_error: 0.3571\n",
      "Epoch 103/150\n",
      "5/5 [==============================] - 0s 98ms/step - loss: 0.0151 - mean_absolute_error: 0.0857 - mean_squared_error: 0.0151 - val_loss: 0.3406 - val_mean_absolute_error: 0.5591 - val_mean_squared_error: 0.3406\n",
      "Epoch 104/150\n",
      "5/5 [==============================] - 1s 106ms/step - loss: 0.0216 - mean_absolute_error: 0.1054 - mean_squared_error: 0.0216 - val_loss: 0.3561 - val_mean_absolute_error: 0.5769 - val_mean_squared_error: 0.3561\n",
      "Epoch 105/150\n",
      "5/5 [==============================] - 0s 101ms/step - loss: 0.0191 - mean_absolute_error: 0.1005 - mean_squared_error: 0.0191 - val_loss: 0.3479 - val_mean_absolute_error: 0.5676 - val_mean_squared_error: 0.3479\n",
      "Epoch 106/150\n",
      "5/5 [==============================] - 1s 105ms/step - loss: 0.0123 - mean_absolute_error: 0.0863 - mean_squared_error: 0.0123 - val_loss: 0.3713 - val_mean_absolute_error: 0.5894 - val_mean_squared_error: 0.3713\n",
      "Epoch 107/150\n",
      "5/5 [==============================] - 1s 108ms/step - loss: 0.0211 - mean_absolute_error: 0.1247 - mean_squared_error: 0.0211 - val_loss: 0.2979 - val_mean_absolute_error: 0.5235 - val_mean_squared_error: 0.2979\n",
      "Epoch 108/150\n",
      "5/5 [==============================] - 1s 102ms/step - loss: 0.0222 - mean_absolute_error: 0.1227 - mean_squared_error: 0.0222 - val_loss: 0.3302 - val_mean_absolute_error: 0.5503 - val_mean_squared_error: 0.3302\n",
      "Epoch 109/150\n"
     ]
    },
    {
     "name": "stdout",
     "output_type": "stream",
     "text": [
      "5/5 [==============================] - 0s 101ms/step - loss: 0.0219 - mean_absolute_error: 0.1125 - mean_squared_error: 0.0219 - val_loss: 0.3123 - val_mean_absolute_error: 0.5332 - val_mean_squared_error: 0.3123\n",
      "Epoch 110/150\n",
      "5/5 [==============================] - 1s 105ms/step - loss: 0.0155 - mean_absolute_error: 0.0912 - mean_squared_error: 0.0155 - val_loss: 0.2595 - val_mean_absolute_error: 0.4847 - val_mean_squared_error: 0.2595\n",
      "Epoch 111/150\n",
      "5/5 [==============================] - 1s 112ms/step - loss: 0.0137 - mean_absolute_error: 0.0928 - mean_squared_error: 0.0137 - val_loss: 0.2665 - val_mean_absolute_error: 0.4884 - val_mean_squared_error: 0.2665\n",
      "Epoch 112/150\n",
      "5/5 [==============================] - 1s 103ms/step - loss: 0.0198 - mean_absolute_error: 0.1131 - mean_squared_error: 0.0198 - val_loss: 0.2042 - val_mean_absolute_error: 0.4237 - val_mean_squared_error: 0.2042\n",
      "Epoch 113/150\n",
      "5/5 [==============================] - 0s 101ms/step - loss: 0.0083 - mean_absolute_error: 0.0650 - mean_squared_error: 0.0083 - val_loss: 0.2470 - val_mean_absolute_error: 0.4662 - val_mean_squared_error: 0.2470\n",
      "Epoch 114/150\n",
      "5/5 [==============================] - 1s 102ms/step - loss: 0.0127 - mean_absolute_error: 0.0891 - mean_squared_error: 0.0127 - val_loss: 0.2167 - val_mean_absolute_error: 0.4402 - val_mean_squared_error: 0.2167\n",
      "Epoch 115/150\n",
      "5/5 [==============================] - 0s 96ms/step - loss: 0.0101 - mean_absolute_error: 0.0731 - mean_squared_error: 0.0101 - val_loss: 0.3019 - val_mean_absolute_error: 0.5300 - val_mean_squared_error: 0.3019\n",
      "Epoch 116/150\n",
      "5/5 [==============================] - 1s 115ms/step - loss: 0.0058 - mean_absolute_error: 0.0575 - mean_squared_error: 0.0058 - val_loss: 0.2689 - val_mean_absolute_error: 0.4941 - val_mean_squared_error: 0.2689\n",
      "Epoch 117/150\n",
      "5/5 [==============================] - 1s 115ms/step - loss: 0.0096 - mean_absolute_error: 0.0767 - mean_squared_error: 0.0096 - val_loss: 0.3129 - val_mean_absolute_error: 0.5393 - val_mean_squared_error: 0.3129\n",
      "Epoch 118/150\n",
      "5/5 [==============================] - 1s 103ms/step - loss: 0.0092 - mean_absolute_error: 0.0835 - mean_squared_error: 0.0092 - val_loss: 0.2500 - val_mean_absolute_error: 0.4756 - val_mean_squared_error: 0.2500\n",
      "Epoch 119/150\n",
      "5/5 [==============================] - 0s 97ms/step - loss: 0.0072 - mean_absolute_error: 0.0643 - mean_squared_error: 0.0072 - val_loss: 0.2564 - val_mean_absolute_error: 0.4792 - val_mean_squared_error: 0.2564\n",
      "Epoch 120/150\n",
      "5/5 [==============================] - 0s 98ms/step - loss: 0.0078 - mean_absolute_error: 0.0718 - mean_squared_error: 0.0078 - val_loss: 0.2262 - val_mean_absolute_error: 0.4433 - val_mean_squared_error: 0.2262\n",
      "Epoch 121/150\n",
      "5/5 [==============================] - 0s 95ms/step - loss: 0.0087 - mean_absolute_error: 0.0735 - mean_squared_error: 0.0087 - val_loss: 0.2350 - val_mean_absolute_error: 0.4540 - val_mean_squared_error: 0.2350\n",
      "Epoch 122/150\n",
      "5/5 [==============================] - 0s 96ms/step - loss: 0.0077 - mean_absolute_error: 0.0694 - mean_squared_error: 0.0077 - val_loss: 0.2541 - val_mean_absolute_error: 0.4775 - val_mean_squared_error: 0.2541\n",
      "Epoch 123/150\n",
      "5/5 [==============================] - 0s 99ms/step - loss: 0.0033 - mean_absolute_error: 0.0454 - mean_squared_error: 0.0033 - val_loss: 0.3267 - val_mean_absolute_error: 0.5491 - val_mean_squared_error: 0.3267\n",
      "Epoch 124/150\n",
      "5/5 [==============================] - 1s 115ms/step - loss: 0.0041 - mean_absolute_error: 0.0488 - mean_squared_error: 0.0041 - val_loss: 0.3754 - val_mean_absolute_error: 0.5917 - val_mean_squared_error: 0.3754\n",
      "Epoch 125/150\n",
      "5/5 [==============================] - 1s 102ms/step - loss: 0.0060 - mean_absolute_error: 0.0620 - mean_squared_error: 0.0060 - val_loss: 0.3248 - val_mean_absolute_error: 0.5481 - val_mean_squared_error: 0.3248\n",
      "Epoch 126/150\n",
      "5/5 [==============================] - 1s 98ms/step - loss: 0.0039 - mean_absolute_error: 0.0474 - mean_squared_error: 0.0039 - val_loss: 0.2566 - val_mean_absolute_error: 0.4823 - val_mean_squared_error: 0.2566\n",
      "Epoch 127/150\n",
      "5/5 [==============================] - 1s 102ms/step - loss: 0.0051 - mean_absolute_error: 0.0576 - mean_squared_error: 0.0051 - val_loss: 0.2977 - val_mean_absolute_error: 0.5226 - val_mean_squared_error: 0.2977\n",
      "Epoch 128/150\n",
      "5/5 [==============================] - 0s 99ms/step - loss: 0.0025 - mean_absolute_error: 0.0372 - mean_squared_error: 0.0025 - val_loss: 0.2660 - val_mean_absolute_error: 0.4930 - val_mean_squared_error: 0.2660\n",
      "Epoch 129/150\n",
      "5/5 [==============================] - 0s 100ms/step - loss: 0.0078 - mean_absolute_error: 0.0610 - mean_squared_error: 0.0078 - val_loss: 0.3186 - val_mean_absolute_error: 0.5449 - val_mean_squared_error: 0.3186\n",
      "Epoch 130/150\n",
      "5/5 [==============================] - 0s 98ms/step - loss: 0.0172 - mean_absolute_error: 0.1059 - mean_squared_error: 0.0172 - val_loss: 0.3255 - val_mean_absolute_error: 0.5461 - val_mean_squared_error: 0.3255\n",
      "Epoch 131/150\n",
      "5/5 [==============================] - 0s 95ms/step - loss: 0.0081 - mean_absolute_error: 0.0693 - mean_squared_error: 0.0081 - val_loss: 0.4643 - val_mean_absolute_error: 0.6353 - val_mean_squared_error: 0.4643\n",
      "Epoch 132/150\n",
      "5/5 [==============================] - 1s 100ms/step - loss: 0.0091 - mean_absolute_error: 0.0731 - mean_squared_error: 0.0091 - val_loss: 0.2521 - val_mean_absolute_error: 0.4699 - val_mean_squared_error: 0.2521\n",
      "Epoch 133/150\n",
      "5/5 [==============================] - 0s 100ms/step - loss: 0.0121 - mean_absolute_error: 0.0836 - mean_squared_error: 0.0121 - val_loss: 0.3327 - val_mean_absolute_error: 0.5531 - val_mean_squared_error: 0.3327\n",
      "Epoch 134/150\n",
      "5/5 [==============================] - 0s 98ms/step - loss: 0.0047 - mean_absolute_error: 0.0482 - mean_squared_error: 0.0047 - val_loss: 0.2293 - val_mean_absolute_error: 0.4507 - val_mean_squared_error: 0.2293\n",
      "Epoch 135/150\n",
      "5/5 [==============================] - 1s 99ms/step - loss: 0.0072 - mean_absolute_error: 0.0691 - mean_squared_error: 0.0072 - val_loss: 0.2162 - val_mean_absolute_error: 0.4333 - val_mean_squared_error: 0.2162\n",
      "Epoch 136/150\n",
      "5/5 [==============================] - 1s 105ms/step - loss: 0.0137 - mean_absolute_error: 0.0862 - mean_squared_error: 0.0137 - val_loss: 0.1690 - val_mean_absolute_error: 0.3773 - val_mean_squared_error: 0.1690\n",
      "Epoch 137/150\n",
      "5/5 [==============================] - 1s 104ms/step - loss: 0.0141 - mean_absolute_error: 0.0946 - mean_squared_error: 0.0141 - val_loss: 0.1674 - val_mean_absolute_error: 0.3831 - val_mean_squared_error: 0.1674\n",
      "Epoch 138/150\n",
      "5/5 [==============================] - 0s 102ms/step - loss: 0.0044 - mean_absolute_error: 0.0498 - mean_squared_error: 0.0044 - val_loss: 0.2079 - val_mean_absolute_error: 0.4352 - val_mean_squared_error: 0.2079\n",
      "Epoch 139/150\n",
      "5/5 [==============================] - 1s 98ms/step - loss: 0.0095 - mean_absolute_error: 0.0727 - mean_squared_error: 0.0095 - val_loss: 0.1723 - val_mean_absolute_error: 0.3941 - val_mean_squared_error: 0.1723\n",
      "Epoch 140/150\n",
      "5/5 [==============================] - 0s 95ms/step - loss: 0.0049 - mean_absolute_error: 0.0548 - mean_squared_error: 0.0049 - val_loss: 0.1566 - val_mean_absolute_error: 0.3717 - val_mean_squared_error: 0.1566\n",
      "Epoch 141/150\n",
      "5/5 [==============================] - 0s 100ms/step - loss: 0.0055 - mean_absolute_error: 0.0534 - mean_squared_error: 0.0055 - val_loss: 0.2315 - val_mean_absolute_error: 0.4605 - val_mean_squared_error: 0.2315\n",
      "Epoch 142/150\n",
      "5/5 [==============================] - 0s 99ms/step - loss: 0.0069 - mean_absolute_error: 0.0644 - mean_squared_error: 0.0069 - val_loss: 0.2215 - val_mean_absolute_error: 0.4475 - val_mean_squared_error: 0.2215\n",
      "Epoch 143/150\n",
      "5/5 [==============================] - 0s 101ms/step - loss: 0.0033 - mean_absolute_error: 0.0460 - mean_squared_error: 0.0033 - val_loss: 0.2446 - val_mean_absolute_error: 0.4732 - val_mean_squared_error: 0.2446\n",
      "Epoch 144/150\n",
      "5/5 [==============================] - 1s 104ms/step - loss: 0.0062 - mean_absolute_error: 0.0640 - mean_squared_error: 0.0062 - val_loss: 0.2396 - val_mean_absolute_error: 0.4686 - val_mean_squared_error: 0.2396\n",
      "Epoch 145/150\n",
      "5/5 [==============================] - 1s 99ms/step - loss: 0.0101 - mean_absolute_error: 0.0851 - mean_squared_error: 0.0101 - val_loss: 0.2779 - val_mean_absolute_error: 0.5075 - val_mean_squared_error: 0.2779\n",
      "Epoch 146/150\n",
      "5/5 [==============================] - 0s 96ms/step - loss: 0.0184 - mean_absolute_error: 0.1144 - mean_squared_error: 0.0184 - val_loss: 0.1941 - val_mean_absolute_error: 0.4141 - val_mean_squared_error: 0.1941\n",
      "Epoch 147/150\n",
      "5/5 [==============================] - 1s 108ms/step - loss: 0.0216 - mean_absolute_error: 0.0982 - mean_squared_error: 0.0216 - val_loss: 0.3021 - val_mean_absolute_error: 0.5281 - val_mean_squared_error: 0.3021\n",
      "Epoch 148/150\n",
      "5/5 [==============================] - 1s 96ms/step - loss: 0.0164 - mean_absolute_error: 0.0852 - mean_squared_error: 0.0164 - val_loss: 0.3366 - val_mean_absolute_error: 0.5608 - val_mean_squared_error: 0.3366\n",
      "Epoch 149/150\n",
      "5/5 [==============================] - 1s 105ms/step - loss: 0.0095 - mean_absolute_error: 0.0690 - mean_squared_error: 0.0095 - val_loss: 0.2210 - val_mean_absolute_error: 0.4472 - val_mean_squared_error: 0.2210\n",
      "Epoch 150/150\n",
      "5/5 [==============================] - 1s 106ms/step - loss: 0.0092 - mean_absolute_error: 0.0797 - mean_squared_error: 0.0092 - val_loss: 0.3081 - val_mean_absolute_error: 0.5362 - val_mean_squared_error: 0.3081\n"
     ]
    }
   ],
   "source": [
    "model.training(data.X, data.y, 150, 32)"
   ]
  },
  {
   "cell_type": "markdown",
   "id": "080b83c0",
   "metadata": {},
   "source": [
    "# 全員のデータで学習し交差検証"
   ]
  },
  {
   "cell_type": "code",
   "execution_count": 9,
   "id": "05c00070",
   "metadata": {},
   "outputs": [
    {
     "name": "stdout",
     "output_type": "stream",
     "text": [
      "352\n",
      "382\n",
      "413\n",
      "444\n",
      "474\n",
      "504\n",
      "538\n",
      "571\n",
      "601\n",
      "631\n",
      "661\n",
      "694\n",
      "724\n",
      "755\n",
      "786\n"
     ]
    }
   ],
   "source": [
    "names = ['washino', 'haruki', 'ezumi', 'hikaru', 'ibuki', 'kanata', 'kazuki', 'kishimoto', 'kosasayama', 'mocchi', 'nakaryo', 'ruku', 'shibata', 'soichiro', 'tsuji']\n",
    "\n",
    "data = data_set.DataSet(786, 224, 224, 3)\n",
    "\n",
    "count = 0\n",
    "\n",
    "for name in names:    \n",
    "    path = directory_path / name\n",
    "    wav_files = glob.glob(os.path.join(path, '*.wav'))\n",
    "    wav_file_count = len(wav_files)    \n",
    "    \n",
    "    csv_path = path / f'{name}.csv'    \n",
    "    data.csv_to_dataset(path, csv_path, count)\n",
    "    count += wav_file_count\n",
    "    print(count)"
   ]
  },
  {
   "cell_type": "code",
   "execution_count": 13,
   "id": "f534035d",
   "metadata": {},
   "outputs": [],
   "source": [
    "# 分割交差検証の設定\n",
    "kf = KFold(n_splits=5, shuffle=True, random_state=42)\n",
    "\n",
    "# データを保持するためのリスト\n",
    "train_data_splits_index = []\n",
    "test_data_splits_index = []\n",
    "\n",
    "# データのインデックスを分割\n",
    "for train_index, test_index in kf.split(data.X):\n",
    "    train_data_splits_index.append(train_index)\n",
    "    test_data_splits_index.append(test_index)"
   ]
  },
  {
   "cell_type": "code",
   "execution_count": 14,
   "id": "0cf6f8f4",
   "metadata": {},
   "outputs": [],
   "source": [
    "y = []\n",
    "predict = []"
   ]
  },
  {
   "cell_type": "code",
   "execution_count": 28,
   "id": "328b4767",
   "metadata": {
    "scrolled": false
   },
   "outputs": [
    {
     "name": "stdout",
     "output_type": "stream",
     "text": [
      "Epoch 1/50\n",
      "18/18 [==============================] - 50s 203ms/step - loss: 0.3275 - mean_absolute_error: 0.6305 - mean_squared_error: 0.9067 - val_loss: 25.2999 - val_mean_absolute_error: 25.7989 - val_mean_squared_error: 997.1662\n",
      "Epoch 2/50\n",
      "18/18 [==============================] - 2s 125ms/step - loss: 0.0715 - mean_absolute_error: 0.2836 - mean_squared_error: 0.1474 - val_loss: 20.5294 - val_mean_absolute_error: 21.0294 - val_mean_squared_error: 612.2095\n",
      "Epoch 3/50\n",
      "18/18 [==============================] - 2s 130ms/step - loss: 0.0543 - mean_absolute_error: 0.2607 - mean_squared_error: 0.1094 - val_loss: 6.2048 - val_mean_absolute_error: 6.6840 - val_mean_squared_error: 69.3766\n",
      "Epoch 4/50\n",
      "18/18 [==============================] - 2s 132ms/step - loss: 0.0375 - mean_absolute_error: 0.2239 - mean_squared_error: 0.0749 - val_loss: 0.3920 - val_mean_absolute_error: 0.7483 - val_mean_squared_error: 1.0204\n",
      "Epoch 5/50\n",
      "18/18 [==============================] - 2s 130ms/step - loss: 0.0365 - mean_absolute_error: 0.2176 - mean_squared_error: 0.0730 - val_loss: 0.1010 - val_mean_absolute_error: 0.3703 - val_mean_squared_error: 0.2024\n",
      "Epoch 6/50\n",
      "18/18 [==============================] - 2s 129ms/step - loss: 0.0310 - mean_absolute_error: 0.2055 - mean_squared_error: 0.0620 - val_loss: 0.0745 - val_mean_absolute_error: 0.3181 - val_mean_squared_error: 0.1490\n",
      "Epoch 7/50\n",
      "18/18 [==============================] - 2s 125ms/step - loss: 0.0322 - mean_absolute_error: 0.1998 - mean_squared_error: 0.0643 - val_loss: 0.0687 - val_mean_absolute_error: 0.3023 - val_mean_squared_error: 0.1374\n",
      "Epoch 8/50\n",
      "18/18 [==============================] - 2s 133ms/step - loss: 0.0310 - mean_absolute_error: 0.1952 - mean_squared_error: 0.0620 - val_loss: 0.0601 - val_mean_absolute_error: 0.2820 - val_mean_squared_error: 0.1203\n",
      "Epoch 9/50\n",
      "18/18 [==============================] - 2s 131ms/step - loss: 0.0206 - mean_absolute_error: 0.1609 - mean_squared_error: 0.0413 - val_loss: 0.0551 - val_mean_absolute_error: 0.2747 - val_mean_squared_error: 0.1101\n",
      "Epoch 10/50\n",
      "18/18 [==============================] - 2s 129ms/step - loss: 0.0219 - mean_absolute_error: 0.1596 - mean_squared_error: 0.0438 - val_loss: 0.0511 - val_mean_absolute_error: 0.2620 - val_mean_squared_error: 0.1023\n",
      "Epoch 11/50\n",
      "18/18 [==============================] - 2s 123ms/step - loss: 0.0165 - mean_absolute_error: 0.1420 - mean_squared_error: 0.0329 - val_loss: 0.0477 - val_mean_absolute_error: 0.2572 - val_mean_squared_error: 0.0954\n",
      "Epoch 12/50\n",
      "18/18 [==============================] - 2s 134ms/step - loss: 0.0140 - mean_absolute_error: 0.1256 - mean_squared_error: 0.0281 - val_loss: 0.1536 - val_mean_absolute_error: 0.4828 - val_mean_squared_error: 0.3074\n",
      "Epoch 13/50\n",
      "18/18 [==============================] - 2s 126ms/step - loss: 0.0155 - mean_absolute_error: 0.1402 - mean_squared_error: 0.0310 - val_loss: 0.2077 - val_mean_absolute_error: 0.5615 - val_mean_squared_error: 0.4204\n",
      "Epoch 14/50\n",
      "18/18 [==============================] - 2s 121ms/step - loss: 0.0130 - mean_absolute_error: 0.1256 - mean_squared_error: 0.0259 - val_loss: 0.0420 - val_mean_absolute_error: 0.2347 - val_mean_squared_error: 0.0839\n",
      "Epoch 15/50\n",
      "18/18 [==============================] - 2s 120ms/step - loss: 0.0137 - mean_absolute_error: 0.1281 - mean_squared_error: 0.0274 - val_loss: 0.0613 - val_mean_absolute_error: 0.2930 - val_mean_squared_error: 0.1227\n",
      "Epoch 16/50\n",
      "18/18 [==============================] - 2s 131ms/step - loss: 0.0138 - mean_absolute_error: 0.1328 - mean_squared_error: 0.0277 - val_loss: 0.0513 - val_mean_absolute_error: 0.2659 - val_mean_squared_error: 0.1026\n",
      "Epoch 17/50\n",
      "18/18 [==============================] - 2s 133ms/step - loss: 0.0099 - mean_absolute_error: 0.1075 - mean_squared_error: 0.0199 - val_loss: 0.0549 - val_mean_absolute_error: 0.2783 - val_mean_squared_error: 0.1097\n",
      "Epoch 18/50\n",
      "18/18 [==============================] - 2s 128ms/step - loss: 0.0068 - mean_absolute_error: 0.0870 - mean_squared_error: 0.0136 - val_loss: 0.0527 - val_mean_absolute_error: 0.2711 - val_mean_squared_error: 0.1054\n",
      "Epoch 19/50\n",
      "18/18 [==============================] - 2s 132ms/step - loss: 0.0058 - mean_absolute_error: 0.0839 - mean_squared_error: 0.0116 - val_loss: 0.0683 - val_mean_absolute_error: 0.3050 - val_mean_squared_error: 0.1365\n",
      "Epoch 20/50\n",
      "18/18 [==============================] - 2s 128ms/step - loss: 0.0095 - mean_absolute_error: 0.1071 - mean_squared_error: 0.0189 - val_loss: 0.0511 - val_mean_absolute_error: 0.2642 - val_mean_squared_error: 0.1023\n",
      "Epoch 21/50\n",
      "18/18 [==============================] - 2s 133ms/step - loss: 0.0118 - mean_absolute_error: 0.1178 - mean_squared_error: 0.0236 - val_loss: 0.0515 - val_mean_absolute_error: 0.2708 - val_mean_squared_error: 0.1030\n",
      "Epoch 22/50\n",
      "18/18 [==============================] - 2s 130ms/step - loss: 0.0073 - mean_absolute_error: 0.0916 - mean_squared_error: 0.0145 - val_loss: 0.0545 - val_mean_absolute_error: 0.2595 - val_mean_squared_error: 0.1089\n",
      "Epoch 23/50\n",
      "18/18 [==============================] - 2s 133ms/step - loss: 0.0088 - mean_absolute_error: 0.1009 - mean_squared_error: 0.0176 - val_loss: 0.0517 - val_mean_absolute_error: 0.2524 - val_mean_squared_error: 0.1035\n",
      "Epoch 24/50\n",
      "18/18 [==============================] - 2s 124ms/step - loss: 0.0106 - mean_absolute_error: 0.1130 - mean_squared_error: 0.0212 - val_loss: 0.0463 - val_mean_absolute_error: 0.2475 - val_mean_squared_error: 0.0927\n",
      "Epoch 25/50\n",
      "18/18 [==============================] - 2s 126ms/step - loss: 0.0066 - mean_absolute_error: 0.0900 - mean_squared_error: 0.0133 - val_loss: 0.0521 - val_mean_absolute_error: 0.2645 - val_mean_squared_error: 0.1041\n",
      "Epoch 26/50\n",
      "18/18 [==============================] - 2s 130ms/step - loss: 0.0075 - mean_absolute_error: 0.0954 - mean_squared_error: 0.0150 - val_loss: 0.0573 - val_mean_absolute_error: 0.2654 - val_mean_squared_error: 0.1146\n",
      "Epoch 27/50\n",
      "18/18 [==============================] - 2s 130ms/step - loss: 0.0065 - mean_absolute_error: 0.0875 - mean_squared_error: 0.0131 - val_loss: 0.0518 - val_mean_absolute_error: 0.2630 - val_mean_squared_error: 0.1036\n",
      "Epoch 28/50\n",
      "18/18 [==============================] - 2s 132ms/step - loss: 0.0053 - mean_absolute_error: 0.0803 - mean_squared_error: 0.0106 - val_loss: 0.0469 - val_mean_absolute_error: 0.2554 - val_mean_squared_error: 0.0938\n",
      "Epoch 29/50\n",
      "18/18 [==============================] - 2s 128ms/step - loss: 0.0039 - mean_absolute_error: 0.0689 - mean_squared_error: 0.0078 - val_loss: 0.0484 - val_mean_absolute_error: 0.2614 - val_mean_squared_error: 0.0967\n",
      "Epoch 30/50\n",
      "18/18 [==============================] - 2s 123ms/step - loss: 0.0056 - mean_absolute_error: 0.0837 - mean_squared_error: 0.0112 - val_loss: 0.0476 - val_mean_absolute_error: 0.2512 - val_mean_squared_error: 0.0951\n",
      "Epoch 31/50\n",
      "18/18 [==============================] - 2s 121ms/step - loss: 0.0032 - mean_absolute_error: 0.0630 - mean_squared_error: 0.0064 - val_loss: 0.0621 - val_mean_absolute_error: 0.2809 - val_mean_squared_error: 0.1242\n",
      "Epoch 32/50\n",
      "18/18 [==============================] - 2s 132ms/step - loss: 0.0030 - mean_absolute_error: 0.0590 - mean_squared_error: 0.0059 - val_loss: 0.0528 - val_mean_absolute_error: 0.2633 - val_mean_squared_error: 0.1057\n",
      "Epoch 33/50\n",
      "18/18 [==============================] - 2s 125ms/step - loss: 0.0087 - mean_absolute_error: 0.1002 - mean_squared_error: 0.0175 - val_loss: 0.0513 - val_mean_absolute_error: 0.2553 - val_mean_squared_error: 0.1025\n",
      "Epoch 34/50\n",
      "18/18 [==============================] - 2s 128ms/step - loss: 0.0038 - mean_absolute_error: 0.0670 - mean_squared_error: 0.0077 - val_loss: 0.0518 - val_mean_absolute_error: 0.2624 - val_mean_squared_error: 0.1037\n",
      "Epoch 35/50\n",
      "18/18 [==============================] - 2s 126ms/step - loss: 0.0076 - mean_absolute_error: 0.0936 - mean_squared_error: 0.0151 - val_loss: 0.0475 - val_mean_absolute_error: 0.2513 - val_mean_squared_error: 0.0951\n",
      "Epoch 36/50\n",
      "18/18 [==============================] - 2s 127ms/step - loss: 0.0059 - mean_absolute_error: 0.0835 - mean_squared_error: 0.0117 - val_loss: 0.0467 - val_mean_absolute_error: 0.2561 - val_mean_squared_error: 0.0933\n",
      "Epoch 37/50\n"
     ]
    },
    {
     "name": "stdout",
     "output_type": "stream",
     "text": [
      "18/18 [==============================] - 2s 122ms/step - loss: 0.0045 - mean_absolute_error: 0.0742 - mean_squared_error: 0.0089 - val_loss: 0.0462 - val_mean_absolute_error: 0.2465 - val_mean_squared_error: 0.0924\n",
      "Epoch 38/50\n",
      "18/18 [==============================] - 2s 128ms/step - loss: 0.0068 - mean_absolute_error: 0.0934 - mean_squared_error: 0.0136 - val_loss: 0.0593 - val_mean_absolute_error: 0.2753 - val_mean_squared_error: 0.1187\n",
      "Epoch 39/50\n",
      "18/18 [==============================] - 2s 120ms/step - loss: 0.0078 - mean_absolute_error: 0.0945 - mean_squared_error: 0.0157 - val_loss: 0.0590 - val_mean_absolute_error: 0.2699 - val_mean_squared_error: 0.1181\n",
      "Epoch 40/50\n",
      "18/18 [==============================] - 2s 122ms/step - loss: 0.0074 - mean_absolute_error: 0.0959 - mean_squared_error: 0.0147 - val_loss: 0.0526 - val_mean_absolute_error: 0.2623 - val_mean_squared_error: 0.1052\n",
      "Epoch 41/50\n",
      "18/18 [==============================] - 2s 132ms/step - loss: 0.0078 - mean_absolute_error: 0.0987 - mean_squared_error: 0.0156 - val_loss: 0.0575 - val_mean_absolute_error: 0.2695 - val_mean_squared_error: 0.1149\n",
      "Epoch 42/50\n",
      "18/18 [==============================] - 2s 126ms/step - loss: 0.0065 - mean_absolute_error: 0.0855 - mean_squared_error: 0.0131 - val_loss: 0.0500 - val_mean_absolute_error: 0.2618 - val_mean_squared_error: 0.1000\n",
      "Epoch 43/50\n",
      "18/18 [==============================] - 2s 130ms/step - loss: 0.0054 - mean_absolute_error: 0.0787 - mean_squared_error: 0.0107 - val_loss: 0.0503 - val_mean_absolute_error: 0.2601 - val_mean_squared_error: 0.1007\n",
      "Epoch 44/50\n",
      "18/18 [==============================] - 2s 128ms/step - loss: 0.0051 - mean_absolute_error: 0.0800 - mean_squared_error: 0.0102 - val_loss: 0.0491 - val_mean_absolute_error: 0.2638 - val_mean_squared_error: 0.0981\n",
      "Epoch 45/50\n",
      "18/18 [==============================] - 2s 132ms/step - loss: 0.0047 - mean_absolute_error: 0.0746 - mean_squared_error: 0.0095 - val_loss: 0.0455 - val_mean_absolute_error: 0.2474 - val_mean_squared_error: 0.0911\n",
      "Epoch 46/50\n",
      "18/18 [==============================] - 2s 127ms/step - loss: 0.0074 - mean_absolute_error: 0.0938 - mean_squared_error: 0.0148 - val_loss: 0.0575 - val_mean_absolute_error: 0.2728 - val_mean_squared_error: 0.1150\n",
      "Epoch 47/50\n",
      "18/18 [==============================] - 2s 123ms/step - loss: 0.0126 - mean_absolute_error: 0.1298 - mean_squared_error: 0.0253 - val_loss: 0.0509 - val_mean_absolute_error: 0.2639 - val_mean_squared_error: 0.1018\n",
      "Epoch 48/50\n",
      "18/18 [==============================] - 2s 135ms/step - loss: 0.0079 - mean_absolute_error: 0.0992 - mean_squared_error: 0.0158 - val_loss: 0.0697 - val_mean_absolute_error: 0.3098 - val_mean_squared_error: 0.1394\n",
      "Epoch 49/50\n",
      "18/18 [==============================] - 2s 128ms/step - loss: 0.0078 - mean_absolute_error: 0.0973 - mean_squared_error: 0.0156 - val_loss: 0.0480 - val_mean_absolute_error: 0.2510 - val_mean_squared_error: 0.0960\n",
      "Epoch 50/50\n",
      "18/18 [==============================] - 2s 126ms/step - loss: 0.0036 - mean_absolute_error: 0.0665 - mean_squared_error: 0.0073 - val_loss: 0.0536 - val_mean_absolute_error: 0.2673 - val_mean_squared_error: 0.1071\n",
      "5/5 [==============================] - 0s 32ms/step - loss: 0.0503 - mean_absolute_error: 0.2470 - mean_squared_error: 0.1007\n",
      "Test loss:  0.050313908606767654\n",
      "Test metric 0:  0.24704311788082123\n",
      "Test metric 1:  0.10067389160394669\n",
      "5/5 [==============================] - 1s 26ms/step\n",
      "r2:  -0.6472700082287999\n",
      "MAE:  0.2470431211214916\n"
     ]
    }
   ],
   "source": [
    "model = dence_net.DenceNet()\n",
    "use_data = 4\n",
    "\n",
    "model.training(data.X[train_data_splits_index[use_data]], data.y[train_data_splits_index[use_data]], 50, 32)\n",
    "model.evaluate(data.X[test_data_splits_index[use_data]], data.y[test_data_splits_index[use_data]])\n",
    "model.save('DenseNet_20240520_model_4_v1.keras')"
   ]
  },
  {
   "cell_type": "code",
   "execution_count": 29,
   "id": "de1bcc09",
   "metadata": {},
   "outputs": [],
   "source": [
    "y.append(data.y[test_data_splits_index[use_data]])\n",
    "predict.append(model.predictions)"
   ]
  },
  {
   "cell_type": "code",
   "execution_count": 30,
   "id": "7d1e0220",
   "metadata": {},
   "outputs": [
    {
     "name": "stdout",
     "output_type": "stream",
     "text": [
      "5\n"
     ]
    }
   ],
   "source": [
    "print(len(y))"
   ]
  },
  {
   "cell_type": "code",
   "execution_count": 31,
   "id": "12480a08",
   "metadata": {},
   "outputs": [],
   "source": [
    "array_y = np.concatenate(y)\n",
    "array_pre = np.concatenate(predict)"
   ]
  },
  {
   "cell_type": "code",
   "execution_count": 32,
   "id": "f03be611",
   "metadata": {},
   "outputs": [
    {
     "data": {
      "image/png": "[encoded data removed]",
      "text/plain": [
       "<Figure size 640x480 with 1 Axes>"
      ]
     },
     "metadata": {},
     "output_type": "display_data"
    },
    {
     "name": "stdout",
     "output_type": "stream",
     "text": [
      "R2 Score: -0.03275016042602963\n",
      "Mean Absolute Error (MAE): 0.24701303916854866\n",
      "Root Mean Squared Error (RMSE): 0.3217123352149793\n"
     ]
    }
   ],
   "source": [
    "plt.scatter(array_y, array_pre)\n",
    "plt.xlabel('y')\n",
    "plt.ylabel('predict')\n",
    "plt.title('Scatter Plot of y vs predict')\n",
    "plt.show()\n",
    "\n",
    "# R2スコアの計算\n",
    "r2 = r2_score(array_y, array_pre)\n",
    "print(f\"R2 Score: {r2}\")\n",
    "\n",
    "# MAEの計算\n",
    "mae = mean_absolute_error(array_y, array_pre)\n",
    "print(f\"Mean Absolute Error (MAE): {mae}\")\n",
    "\n",
    "      \n",
    "      # RMSEの計算\n",
    "rmse = np.sqrt(mean_squared_error(array_y, array_pre))\n",
    "print(f\"Root Mean Squared Error (RMSE): {rmse}\")"
   ]
  },
  {
   "cell_type": "code",
   "execution_count": 33,
   "id": "41bbb4c8",
   "metadata": {},
   "outputs": [],
   "source": [
    "array_pre = array_pre.flatten()"
   ]
  },
  {
   "cell_type": "code",
   "execution_count": 34,
   "id": "dc84d4da",
   "metadata": {},
   "outputs": [],
   "source": [
    "combined_array = np.vstack((array_y, array_pre)).T\n",
    "np.savetxt(\"DenseNet_20240520.csv\", combined_array, delimiter=\",\", header=\"y,predict\", comments='')"
   ]
  },
  {
   "cell_type": "code",
   "execution_count": null,
   "id": "ca0d0aa7",
   "metadata": {},
   "outputs": [],
   "source": []
  }
 ],
 "metadata": {
  "kernelspec": {
   "display_name": "s2-washino",
   "language": "python",
   "name": "washino"
  },
  "language_info": {
   "codemirror_mode": {
    "name": "ipython",
    "version": 3
   },
   "file_extension": ".py",
   "mimetype": "text/x-python",
   "name": "python",
   "nbconvert_exporter": "python",
   "pygments_lexer": "ipython3",
   "version": "3.10.13"
  }
 },
 "nbformat": 4,
 "nbformat_minor": 5
}
