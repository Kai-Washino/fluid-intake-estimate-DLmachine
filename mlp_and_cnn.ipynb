{
 "cells": [
  {
   "cell_type": "code",
   "execution_count": 1,
   "id": "eff15462",
   "metadata": {},
   "outputs": [
    {
     "name": "stderr",
     "output_type": "stream",
     "text": [
      "2024-06-04 21:10:39.629525: I tensorflow/core/util/port.cc:110] oneDNN custom operations are on. You may see slightly different numerical results due to floating-point round-off errors from different computation orders. To turn them off, set the environment variable `TF_ENABLE_ONEDNN_OPTS=0`.\n",
      "2024-06-04 21:10:39.672907: I tensorflow/core/platform/cpu_feature_guard.cc:182] This TensorFlow binary is optimized to use available CPU instructions in performance-critical operations.\n",
      "To enable the following instructions: AVX2 AVX512F AVX512_VNNI FMA, in other operations, rebuild TensorFlow with the appropriate compiler flags.\n",
      "2024-06-04 21:10:40.354523: W tensorflow/compiler/tf2tensorrt/utils/py_utils.cc:38] TF-TRT Warning: Could not find TensorRT\n"
     ]
    }
   ],
   "source": [
    "import tensorflow as tf\n",
    "from tensorflow.keras.layers import Masking, Flatten\n",
    "from tensorflow.keras.callbacks import EarlyStopping\n",
    "from tensorflow.keras.callbacks import ModelCheckpoint\n",
    "from sklearn.model_selection import KFold"
   ]
  },
  {
   "cell_type": "code",
   "execution_count": 2,
   "id": "f7aa03bd",
   "metadata": {},
   "outputs": [],
   "source": [
    "import numpy as np\n",
    "import pandas as pd\n",
    "import cv2  # OpenCVライブラリ\n",
    "import matplotlib.pyplot as plt\n",
    "from matplotlib.colors import Normalize\n",
    "import glob\n",
    "import os\n",
    "import sys\n",
    "import pathlib\n",
    "from pathlib import Path\n",
    "\n",
    "from sklearn.metrics import r2_score, mean_absolute_error, mean_squared_error"
   ]
  },
  {
   "cell_type": "code",
   "execution_count": 3,
   "id": "a85d182a",
   "metadata": {},
   "outputs": [],
   "source": [
    "current_dir = os.getcwd()\n",
    "parent_dir = os.path.dirname(current_dir)\n",
    "sys.path.append(parent_dir)\n",
    "current_file_path = pathlib.Path(os.getcwd())\n",
    "parent_dir = current_file_path.parent"
   ]
  },
  {
   "cell_type": "code",
   "execution_count": 4,
   "id": "befedbcb",
   "metadata": {},
   "outputs": [
    {
     "name": "stdout",
     "output_type": "stream",
     "text": [
      "/home/s2/Desktop/washino/swallowing\n",
      "/home/s2/Desktop/washino/swallowing\n"
     ]
    }
   ],
   "source": [
    "import fluid_intake_estimate\n",
    "from fluid_intake_estimate import variable_data_set\n",
    "from fluid_intake_estimate import cnn\n",
    "from fluid_intake_estimate import mlp"
   ]
  },
  {
   "cell_type": "code",
   "execution_count": 5,
   "id": "ef3d2896",
   "metadata": {},
   "outputs": [],
   "source": [
    "directory_path = parent_dir / 'dataset'"
   ]
  },
  {
   "cell_type": "markdown",
   "id": "ca4febb8",
   "metadata": {},
   "source": [
    "# 鷲野のデータを学習"
   ]
  },
  {
   "cell_type": "code",
   "execution_count": null,
   "id": "eefba043",
   "metadata": {},
   "outputs": [],
   "source": [
    "path = directory_path / 'washino'\n",
    "csv_path = path / 'washino.csv'\n",
    "data = variable_data_set.VariableDataSet(300)\n",
    "data.csv_to_dataset(path, csv_path, 0)\n",
    "model = cnn.CNN()"
   ]
  },
  {
   "cell_type": "code",
   "execution_count": null,
   "id": "8ecec14e",
   "metadata": {
    "scrolled": true
   },
   "outputs": [],
   "source": [
    "model_checkpoint = ModelCheckpoint(\n",
    "    filepath='cnn_20240516_model_best.keras',  # 保存するファイルのパス\n",
    "    monitor='val_mean_absolute_error',        # 監視する値\n",
    "    save_best_only=True,       # 最良のモデルのみを保存\n",
    "    verbose=1,                 # 進行状況のメッセージ表示\n",
    "    mode='min'                 # 「減少」を監視\n",
    ")\n",
    "\n",
    "model.training(data.X, data.y, 50, 32, model_checkpoint = model_checkpoint)\n",
    "model.save('cnn_20240516_model_v1.keras')"
   ]
  },
  {
   "cell_type": "markdown",
   "id": "71662b92",
   "metadata": {},
   "source": [
    "# 全員のデータを学習して分割交差検証"
   ]
  },
  {
   "cell_type": "code",
   "execution_count": 11,
   "id": "04c813ea",
   "metadata": {},
   "outputs": [
    {
     "name": "stdout",
     "output_type": "stream",
     "text": [
      "Warning: No data available for signal processing.\n",
      "8\n",
      "[]\n",
      "Warning: No data available for signal processing.\n",
      "161\n",
      "[]\n",
      "352\n",
      "382\n",
      "413\n",
      "444\n",
      "Warning: No data available for signal processing.\n",
      "447\n",
      "[]\n",
      "474\n",
      "504\n",
      "538\n",
      "571\n",
      "601\n",
      "Warning: No data available for signal processing.\n",
      "627\n",
      "[]\n",
      "631\n",
      "661\n",
      "694\n",
      "724\n",
      "755\n",
      "786\n"
     ]
    }
   ],
   "source": [
    "names = ['washino', 'haruki', 'ezumi', 'hikaru', 'ibuki', 'kanata', 'kazuki', 'kishimoto', 'kosasayama', 'mocchi', 'nakaryo', 'ruku', 'shibata', 'soichiro', 'tsuji']\n",
    "\n",
    "data = variable_data_set.VariableDataSet(786, scale=222, time_range = 20000)\n",
    "# data = variable_data_set.VariableDataSet(786, scale=0, time_range = 20000)\n",
    "\n",
    "# path = directory_path / 'washino'\n",
    "# csv_path = path / 'washino.csv'\n",
    "# data.csv_to_dataset(path, csv_path, 0)\n",
    "\n",
    "count = 0\n",
    "\n",
    "for name in names:    \n",
    "    path = directory_path / name\n",
    "    wav_files = glob.glob(os.path.join(path, '*.wav'))\n",
    "    wav_file_count = len(wav_files)    \n",
    "    \n",
    "    csv_path = path / f'{name}.csv'    \n",
    "    data.csv_to_dataset(path, csv_path, count, signal_processing='fft')\n",
    "    count += wav_file_count\n",
    "    print(count)"
   ]
  },
  {
   "cell_type": "code",
   "execution_count": 12,
   "id": "820e741a",
   "metadata": {},
   "outputs": [],
   "source": [
    "# 分割交差検証の設定\n",
    "kf = KFold(n_splits=5, shuffle=True, random_state=42)\n",
    "\n",
    "# データを保持するためのリスト\n",
    "train_data_splits_index = []\n",
    "test_data_splits_index = []\n",
    "\n",
    "# データのインデックスを分割\n",
    "for train_index, test_index in kf.split(data.X):\n",
    "    train_data_splits_index.append(train_index)\n",
    "    test_data_splits_index.append(test_index)"
   ]
  },
  {
   "cell_type": "code",
   "execution_count": 13,
   "id": "86fa872a",
   "metadata": {},
   "outputs": [],
   "source": [
    "y = []\n",
    "predict = []"
   ]
  },
  {
   "cell_type": "code",
   "execution_count": 15,
   "id": "3d58c1a2",
   "metadata": {},
   "outputs": [
    {
     "name": "stderr",
     "output_type": "stream",
     "text": [
      "2024-06-04 21:20:06.389994: W tensorflow/tsl/framework/bfc_allocator.cc:485] Allocator (GPU_0_bfc) ran out of memory trying to allocate 9.34GiB (rounded to 10034400000)requested by op _EagerConst\n",
      "If the cause is memory fragmentation maybe the environment variable 'TF_GPU_ALLOCATOR=cuda_malloc_async' will improve the situation. \n",
      "Current allocation summary follows.\n",
      "Current allocation summary follows.\n",
      "2024-06-04 21:20:06.390721: I tensorflow/tsl/framework/bfc_allocator.cc:1039] BFCAllocator dump for GPU_0_bfc\n",
      "2024-06-04 21:20:06.390956: I tensorflow/tsl/framework/bfc_allocator.cc:1046] Bin (256): \tTotal Chunks: 83, Chunks in use: 83. 20.8KiB allocated for chunks. 20.8KiB in use in bin. 5.3KiB client-requested in use in bin.\n",
      "2024-06-04 21:20:06.391071: I tensorflow/tsl/framework/bfc_allocator.cc:1046] Bin (512): \tTotal Chunks: 5, Chunks in use: 5. 2.5KiB allocated for chunks. 2.5KiB in use in bin. 2.5KiB client-requested in use in bin.\n",
      "2024-06-04 21:20:06.391076: I tensorflow/tsl/framework/bfc_allocator.cc:1046] Bin (1024): \tTotal Chunks: 6, Chunks in use: 6. 8.8KiB allocated for chunks. 8.8KiB in use in bin. 8.5KiB client-requested in use in bin.\n",
      "2024-06-04 21:20:06.391080: I tensorflow/tsl/framework/bfc_allocator.cc:1046] Bin (2048): \tTotal Chunks: 3, Chunks in use: 2. 7.5KiB allocated for chunks. 5.5KiB in use in bin. 4.4KiB client-requested in use in bin.\n",
      "2024-06-04 21:20:06.391085: I tensorflow/tsl/framework/bfc_allocator.cc:1046] Bin (4096): \tTotal Chunks: 5, Chunks in use: 5. 31.8KiB allocated for chunks. 31.8KiB in use in bin. 30.0KiB client-requested in use in bin.\n",
      "2024-06-04 21:20:06.391183: I tensorflow/tsl/framework/bfc_allocator.cc:1046] Bin (8192): \tTotal Chunks: 0, Chunks in use: 0. 0B allocated for chunks. 0B in use in bin. 0B client-requested in use in bin.\n",
      "2024-06-04 21:20:06.391362: I tensorflow/tsl/framework/bfc_allocator.cc:1046] Bin (16384): \tTotal Chunks: 5, Chunks in use: 4. 113.0KiB allocated for chunks. 96.0KiB in use in bin. 96.0KiB client-requested in use in bin.\n",
      "2024-06-04 21:20:06.391368: I tensorflow/tsl/framework/bfc_allocator.cc:1046] Bin (32768): \tTotal Chunks: 8, Chunks in use: 6. 272.0KiB allocated for chunks. 192.0KiB in use in bin. 184.0KiB client-requested in use in bin.\n",
      "2024-06-04 21:20:06.391372: I tensorflow/tsl/framework/bfc_allocator.cc:1046] Bin (65536): \tTotal Chunks: 0, Chunks in use: 0. 0B allocated for chunks. 0B in use in bin. 0B client-requested in use in bin.\n",
      "2024-06-04 21:20:06.391376: I tensorflow/tsl/framework/bfc_allocator.cc:1046] Bin (131072): \tTotal Chunks: 1, Chunks in use: 0. 210.0KiB allocated for chunks. 0B in use in bin. 0B client-requested in use in bin.\n",
      "2024-06-04 21:20:06.391380: I tensorflow/tsl/framework/bfc_allocator.cc:1046] Bin (262144): \tTotal Chunks: 2, Chunks in use: 2. 960.0KiB allocated for chunks. 960.0KiB in use in bin. 960.0KiB client-requested in use in bin.\n",
      "2024-06-04 21:20:06.391385: I tensorflow/tsl/framework/bfc_allocator.cc:1046] Bin (524288): \tTotal Chunks: 4, Chunks in use: 3. 3.36MiB allocated for chunks. 2.42MiB in use in bin. 1.41MiB client-requested in use in bin.\n",
      "2024-06-04 21:20:06.391389: I tensorflow/tsl/framework/bfc_allocator.cc:1046] Bin (1048576): \tTotal Chunks: 4, Chunks in use: 4. 7.32MiB allocated for chunks. 7.32MiB in use in bin. 7.32MiB client-requested in use in bin.\n",
      "2024-06-04 21:20:06.391393: I tensorflow/tsl/framework/bfc_allocator.cc:1046] Bin (2097152): \tTotal Chunks: 1, Chunks in use: 1. 2.16MiB allocated for chunks. 2.16MiB in use in bin. 1.83MiB client-requested in use in bin.\n",
      "2024-06-04 21:20:06.391396: I tensorflow/tsl/framework/bfc_allocator.cc:1046] Bin (4194304): \tTotal Chunks: 0, Chunks in use: 0. 0B allocated for chunks. 0B in use in bin. 0B client-requested in use in bin.\n",
      "2024-06-04 21:20:06.391400: I tensorflow/tsl/framework/bfc_allocator.cc:1046] Bin (8388608): \tTotal Chunks: 0, Chunks in use: 0. 0B allocated for chunks. 0B in use in bin. 0B client-requested in use in bin.\n",
      "2024-06-04 21:20:06.391404: I tensorflow/tsl/framework/bfc_allocator.cc:1046] Bin (16777216): \tTotal Chunks: 0, Chunks in use: 0. 0B allocated for chunks. 0B in use in bin. 0B client-requested in use in bin.\n",
      "2024-06-04 21:20:06.391409: I tensorflow/tsl/framework/bfc_allocator.cc:1046] Bin (33554432): \tTotal Chunks: 1, Chunks in use: 1. 43.18MiB allocated for chunks. 43.18MiB in use in bin. 43.18MiB client-requested in use in bin.\n",
      "2024-06-04 21:20:06.391412: I tensorflow/tsl/framework/bfc_allocator.cc:1046] Bin (67108864): \tTotal Chunks: 0, Chunks in use: 0. 0B allocated for chunks. 0B in use in bin. 0B client-requested in use in bin.\n",
      "2024-06-04 21:20:06.391417: I tensorflow/tsl/framework/bfc_allocator.cc:1046] Bin (134217728): \tTotal Chunks: 0, Chunks in use: 0. 0B allocated for chunks. 0B in use in bin. 0B client-requested in use in bin.\n",
      "2024-06-04 21:20:06.391422: I tensorflow/tsl/framework/bfc_allocator.cc:1046] Bin (268435456): \tTotal Chunks: 4, Chunks in use: 2. 21.43GiB allocated for chunks. 10.40GiB in use in bin. 10.40GiB client-requested in use in bin.\n",
      "2024-06-04 21:20:06.391431: I tensorflow/tsl/framework/bfc_allocator.cc:1062] Bin for 9.34GiB was 256.00MiB, Chunk State: \n",
      "2024-06-04 21:20:06.391538: I tensorflow/tsl/framework/bfc_allocator.cc:1068]   Size: 5.20GiB | Requested Size: 2.60GiB | in_use: 0 | bin_num: 20, prev:   Size: 1.04GiB | Requested Size: 1.04GiB | in_use: 1 | bin_num: -1, next:   Size: 1.83MiB | Requested Size: 1.83MiB | in_use: 1 | bin_num: -1\n",
      "2024-06-04 21:20:06.391544: I tensorflow/tsl/framework/bfc_allocator.cc:1068]   Size: 5.83GiB | Requested Size: 116B | in_use: 0 | bin_num: 20, prev:   Size: 1.83MiB | Requested Size: 1.83MiB | in_use: 1 | bin_num: -1\n",
      "2024-06-04 21:20:06.391548: I tensorflow/tsl/framework/bfc_allocator.cc:1075] Next region of size 23075553280\n",
      "2024-06-04 21:20:06.391553: I tensorflow/tsl/framework/bfc_allocator.cc:1095] InUse at 72307c000000 of size 256 next 1\n",
      "2024-06-04 21:20:06.391556: I tensorflow/tsl/framework/bfc_allocator.cc:1095] InUse at 72307c000100 of size 1280 next 2\n",
      "2024-06-04 21:20:06.391560: I tensorflow/tsl/framework/bfc_allocator.cc:1095] InUse at 72307c000600 of size 256 next 3\n",
      "2024-06-04 21:20:06.391563: I tensorflow/tsl/framework/bfc_allocator.cc:1095] InUse at 72307c000700 of size 256 next 4\n",
      "2024-06-04 21:20:06.391566: I tensorflow/tsl/framework/bfc_allocator.cc:1095] InUse at 72307c000800 of size 256 next 6\n",
      "2024-06-04 21:20:06.391569: I tensorflow/tsl/framework/bfc_allocator.cc:1095] InUse at 72307c000900 of size 256 next 7\n",
      "2024-06-04 21:20:06.391572: I tensorflow/tsl/framework/bfc_allocator.cc:1095] InUse at 72307c000a00 of size 256 next 5\n",
      "2024-06-04 21:20:06.391575: I tensorflow/tsl/framework/bfc_allocator.cc:1095] InUse at 72307c000b00 of size 256 next 8\n",
      "2024-06-04 21:20:06.391578: I tensorflow/tsl/framework/bfc_allocator.cc:1095] InUse at 72307c000c00 of size 256 next 12\n",
      "2024-06-04 21:20:06.391581: I tensorflow/tsl/framework/bfc_allocator.cc:1095] InUse at 72307c000d00 of size 256 next 13\n",
      "2024-06-04 21:20:06.391584: I tensorflow/tsl/framework/bfc_allocator.cc:1095] InUse at 72307c000e00 of size 256 next 11\n",
      "2024-06-04 21:20:06.391587: I tensorflow/tsl/framework/bfc_allocator.cc:1095] InUse at 72307c000f00 of size 256 next 18\n",
      "2024-06-04 21:20:06.391590: I tensorflow/tsl/framework/bfc_allocator.cc:1095] InUse at 72307c001000 of size 256 next 14\n",
      "2024-06-04 21:20:06.391592: I tensorflow/tsl/framework/bfc_allocator.cc:1095] InUse at 72307c001100 of size 256 next 17\n",
      "2024-06-04 21:20:06.391596: I tensorflow/tsl/framework/bfc_allocator.cc:1095] InUse at 72307c001200 of size 256 next 23\n",
      "2024-06-04 21:20:06.391599: I tensorflow/tsl/framework/bfc_allocator.cc:1095] InUse at 72307c001300 of size 256 next 21\n",
      "2024-06-04 21:20:06.391602: I tensorflow/tsl/framework/bfc_allocator.cc:1095] InUse at 72307c001400 of size 256 next 22\n",
      "2024-06-04 21:20:06.391605: I tensorflow/tsl/framework/bfc_allocator.cc:1095] InUse at 72307c001500 of size 512 next 28\n",
      "2024-06-04 21:20:06.391609: I tensorflow/tsl/framework/bfc_allocator.cc:1095] InUse at 72307c001700 of size 256 next 26\n",
      "2024-06-04 21:20:06.391612: I tensorflow/tsl/framework/bfc_allocator.cc:1095] InUse at 72307c001800 of size 256 next 27\n",
      "2024-06-04 21:20:06.391615: I tensorflow/tsl/framework/bfc_allocator.cc:1095] InUse at 72307c001900 of size 256 next 31\n",
      "2024-06-04 21:20:06.391617: I tensorflow/tsl/framework/bfc_allocator.cc:1095] InUse at 72307c001a00 of size 256 next 15\n",
      "2024-06-04 21:20:06.391621: I tensorflow/tsl/framework/bfc_allocator.cc:1095] InUse at 72307c001b00 of size 1536 next 16\n",
      "2024-06-04 21:20:06.391624: I tensorflow/tsl/framework/bfc_allocator.cc:1095] InUse at 72307c002100 of size 256 next 34\n",
      "2024-06-04 21:20:06.391628: I tensorflow/tsl/framework/bfc_allocator.cc:1095] InUse at 72307c002200 of size 256 next 36\n",
      "2024-06-04 21:20:06.391631: I tensorflow/tsl/framework/bfc_allocator.cc:1095] InUse at 72307c002300 of size 256 next 35\n",
      "2024-06-04 21:20:06.391634: I tensorflow/tsl/framework/bfc_allocator.cc:1095] InUse at 72307c002400 of size 256 next 37\n",
      "2024-06-04 21:20:06.391637: I tensorflow/tsl/framework/bfc_allocator.cc:1095] InUse at 72307c002500 of size 256 next 38\n",
      "2024-06-04 21:20:06.391640: I tensorflow/tsl/framework/bfc_allocator.cc:1095] InUse at 72307c002600 of size 256 next 39\n",
      "2024-06-04 21:20:06.391643: I tensorflow/tsl/framework/bfc_allocator.cc:1095] InUse at 72307c002700 of size 256 next 40\n",
      "2024-06-04 21:20:06.391646: I tensorflow/tsl/framework/bfc_allocator.cc:1095] InUse at 72307c002800 of size 2304 next 42\n",
      "2024-06-04 21:20:06.391649: I tensorflow/tsl/framework/bfc_allocator.cc:1095] InUse at 72307c003100 of size 256 next 43\n",
      "2024-06-04 21:20:06.391652: I tensorflow/tsl/framework/bfc_allocator.cc:1095] InUse at 72307c003200 of size 256 next 44\n",
      "2024-06-04 21:20:06.391655: I tensorflow/tsl/framework/bfc_allocator.cc:1095] InUse at 72307c003300 of size 256 next 45\n",
      "2024-06-04 21:20:06.391658: I tensorflow/tsl/framework/bfc_allocator.cc:1095] InUse at 72307c003400 of size 256 next 63\n",
      "2024-06-04 21:20:06.391661: I tensorflow/tsl/framework/bfc_allocator.cc:1095] InUse at 72307c003500 of size 256 next 64\n",
      "2024-06-04 21:20:06.391664: I tensorflow/tsl/framework/bfc_allocator.cc:1095] InUse at 72307c003600 of size 3328 next 52\n",
      "2024-06-04 21:20:06.391667: I tensorflow/tsl/framework/bfc_allocator.cc:1095] InUse at 72307c004300 of size 1536 next 53\n",
      "2024-06-04 21:20:06.391670: I tensorflow/tsl/framework/bfc_allocator.cc:1095] InUse at 72307c004900 of size 256 next 49\n",
      "2024-06-04 21:20:06.391673: I tensorflow/tsl/framework/bfc_allocator.cc:1095] InUse at 72307c004a00 of size 256 next 51\n",
      "2024-06-04 21:20:06.391676: I tensorflow/tsl/framework/bfc_allocator.cc:1095] InUse at 72307c004b00 of size 256 next 56\n",
      "2024-06-04 21:20:06.391679: I tensorflow/tsl/framework/bfc_allocator.cc:1095] InUse at 72307c004c00 of size 512 next 50\n",
      "2024-06-04 21:20:06.391682: I tensorflow/tsl/framework/bfc_allocator.cc:1095] InUse at 72307c004e00 of size 256 next 46\n",
      "2024-06-04 21:20:06.391685: I tensorflow/tsl/framework/bfc_allocator.cc:1095] InUse at 72307c004f00 of size 256 next 60\n",
      "2024-06-04 21:20:06.391688: I tensorflow/tsl/framework/bfc_allocator.cc:1095] InUse at 72307c005000 of size 256 next 20\n",
      "2024-06-04 21:20:06.391691: I tensorflow/tsl/framework/bfc_allocator.cc:1095] InUse at 72307c005100 of size 6144 next 19\n"
     ]
    },
    {
     "name": "stderr",
     "output_type": "stream",
     "text": [
      "2024-06-04 21:20:06.391791: I tensorflow/tsl/framework/bfc_allocator.cc:1095] InUse at 72307c006900 of size 24576 next 77\n",
      "2024-06-04 21:20:06.391795: I tensorflow/tsl/framework/bfc_allocator.cc:1095] InUse at 72307c00c900 of size 256 next 131\n",
      "2024-06-04 21:20:06.391798: I tensorflow/tsl/framework/bfc_allocator.cc:1095] InUse at 72307c00ca00 of size 256 next 115\n",
      "2024-06-04 21:20:06.391801: I tensorflow/tsl/framework/bfc_allocator.cc:1095] InUse at 72307c00cb00 of size 256 next 141\n",
      "2024-06-04 21:20:06.391804: I tensorflow/tsl/framework/bfc_allocator.cc:1095] InUse at 72307c00cc00 of size 256 next 127\n",
      "2024-06-04 21:20:06.391807: I tensorflow/tsl/framework/bfc_allocator.cc:1095] InUse at 72307c00cd00 of size 256 next 138\n",
      "2024-06-04 21:20:06.391810: I tensorflow/tsl/framework/bfc_allocator.cc:1095] InUse at 72307c00ce00 of size 256 next 105\n",
      "2024-06-04 21:20:06.391813: I tensorflow/tsl/framework/bfc_allocator.cc:1095] InUse at 72307c00cf00 of size 256 next 118\n",
      "2024-06-04 21:20:06.391816: I tensorflow/tsl/framework/bfc_allocator.cc:1095] InUse at 72307c00d000 of size 256 next 119\n",
      "2024-06-04 21:20:06.391819: I tensorflow/tsl/framework/bfc_allocator.cc:1095] InUse at 72307c00d100 of size 256 next 133\n",
      "2024-06-04 21:20:06.391822: I tensorflow/tsl/framework/bfc_allocator.cc:1095] InUse at 72307c00d200 of size 256 next 106\n",
      "2024-06-04 21:20:06.391826: I tensorflow/tsl/framework/bfc_allocator.cc:1095] InUse at 72307c00d300 of size 512 next 143\n",
      "2024-06-04 21:20:06.391829: I tensorflow/tsl/framework/bfc_allocator.cc:1095] InUse at 72307c00d500 of size 256 next 117\n",
      "2024-06-04 21:20:06.391832: I tensorflow/tsl/framework/bfc_allocator.cc:1095] InUse at 72307c00d600 of size 256 next 90\n",
      "2024-06-04 21:20:06.391835: I tensorflow/tsl/framework/bfc_allocator.cc:1095] Free  at 72307c00d700 of size 2048 next 139\n",
      "2024-06-04 21:20:06.391838: I tensorflow/tsl/framework/bfc_allocator.cc:1095] InUse at 72307c00df00 of size 1536 next 137\n",
      "2024-06-04 21:20:06.391841: I tensorflow/tsl/framework/bfc_allocator.cc:1095] Free  at 72307c00e500 of size 17408 next 25\n",
      "2024-06-04 21:20:06.391844: I tensorflow/tsl/framework/bfc_allocator.cc:1095] InUse at 72307c012900 of size 24576 next 24\n",
      "2024-06-04 21:20:06.391847: I tensorflow/tsl/framework/bfc_allocator.cc:1095] InUse at 72307c018900 of size 256 next 66\n",
      "2024-06-04 21:20:06.391850: I tensorflow/tsl/framework/bfc_allocator.cc:1095] InUse at 72307c018a00 of size 256 next 68\n",
      "2024-06-04 21:20:06.391853: I tensorflow/tsl/framework/bfc_allocator.cc:1095] InUse at 72307c018b00 of size 256 next 69\n",
      "2024-06-04 21:20:06.391856: I tensorflow/tsl/framework/bfc_allocator.cc:1095] InUse at 72307c018c00 of size 1536 next 70\n",
      "2024-06-04 21:20:06.391859: I tensorflow/tsl/framework/bfc_allocator.cc:1095] InUse at 72307c019200 of size 1536 next 71\n",
      "2024-06-04 21:20:06.391862: I tensorflow/tsl/framework/bfc_allocator.cc:1095] InUse at 72307c019800 of size 256 next 72\n",
      "2024-06-04 21:20:06.391865: I tensorflow/tsl/framework/bfc_allocator.cc:1095] InUse at 72307c019900 of size 256 next 73\n",
      "2024-06-04 21:20:06.391868: I tensorflow/tsl/framework/bfc_allocator.cc:1095] InUse at 72307c019a00 of size 7936 next 55\n",
      "2024-06-04 21:20:06.391871: I tensorflow/tsl/framework/bfc_allocator.cc:1095] InUse at 72307c01b900 of size 6144 next 54\n",
      "2024-06-04 21:20:06.391874: I tensorflow/tsl/framework/bfc_allocator.cc:1095] InUse at 72307c01d100 of size 6144 next 74\n",
      "2024-06-04 21:20:06.391877: I tensorflow/tsl/framework/bfc_allocator.cc:1095] InUse at 72307c01e900 of size 256 next 75\n",
      "2024-06-04 21:20:06.391880: I tensorflow/tsl/framework/bfc_allocator.cc:1095] InUse at 72307c01ea00 of size 256 next 76\n",
      "2024-06-04 21:20:06.391883: I tensorflow/tsl/framework/bfc_allocator.cc:1095] InUse at 72307c01eb00 of size 256 next 78\n",
      "2024-06-04 21:20:06.391886: I tensorflow/tsl/framework/bfc_allocator.cc:1095] InUse at 72307c01ec00 of size 256 next 79\n",
      "2024-06-04 21:20:06.391889: I tensorflow/tsl/framework/bfc_allocator.cc:1095] InUse at 72307c01ed00 of size 512 next 80\n",
      "2024-06-04 21:20:06.391892: I tensorflow/tsl/framework/bfc_allocator.cc:1095] InUse at 72307c01ef00 of size 512 next 81\n",
      "2024-06-04 21:20:06.391895: I tensorflow/tsl/framework/bfc_allocator.cc:1095] InUse at 72307c01f100 of size 256 next 84\n",
      "2024-06-04 21:20:06.391898: I tensorflow/tsl/framework/bfc_allocator.cc:1095] InUse at 72307c01f200 of size 256 next 85\n",
      "2024-06-04 21:20:06.391901: I tensorflow/tsl/framework/bfc_allocator.cc:1095] InUse at 72307c01f300 of size 256 next 86\n",
      "2024-06-04 21:20:06.391904: I tensorflow/tsl/framework/bfc_allocator.cc:1095] InUse at 72307c01f400 of size 256 next 87\n",
      "2024-06-04 21:20:06.391907: I tensorflow/tsl/framework/bfc_allocator.cc:1095] InUse at 72307c01f500 of size 256 next 88\n",
      "2024-06-04 21:20:06.391910: I tensorflow/tsl/framework/bfc_allocator.cc:1095] InUse at 72307c01f600 of size 256 next 89\n",
      "2024-06-04 21:20:06.391913: I tensorflow/tsl/framework/bfc_allocator.cc:1095] InUse at 72307c01f700 of size 256 next 135\n",
      "2024-06-04 21:20:06.391916: I tensorflow/tsl/framework/bfc_allocator.cc:1095] InUse at 72307c01f800 of size 256 next 134\n",
      "2024-06-04 21:20:06.391919: I tensorflow/tsl/framework/bfc_allocator.cc:1095] InUse at 72307c01f900 of size 256 next 92\n",
      "2024-06-04 21:20:06.391922: I tensorflow/tsl/framework/bfc_allocator.cc:1095] InUse at 72307c01fa00 of size 256 next 93\n",
      "2024-06-04 21:20:06.391926: I tensorflow/tsl/framework/bfc_allocator.cc:1095] InUse at 72307c01fb00 of size 256 next 94\n",
      "2024-06-04 21:20:06.391929: I tensorflow/tsl/framework/bfc_allocator.cc:1095] InUse at 72307c01fc00 of size 256 next 95\n",
      "2024-06-04 21:20:06.391932: I tensorflow/tsl/framework/bfc_allocator.cc:1095] InUse at 72307c01fd00 of size 256 next 96\n",
      "2024-06-04 21:20:06.391935: I tensorflow/tsl/framework/bfc_allocator.cc:1095] InUse at 72307c01fe00 of size 256 next 97\n",
      "2024-06-04 21:20:06.391937: I tensorflow/tsl/framework/bfc_allocator.cc:1095] InUse at 72307c01ff00 of size 256 next 98\n",
      "2024-06-04 21:20:06.391940: I tensorflow/tsl/framework/bfc_allocator.cc:1095] InUse at 72307c020000 of size 256 next 99\n",
      "2024-06-04 21:20:06.391943: I tensorflow/tsl/framework/bfc_allocator.cc:1095] InUse at 72307c020100 of size 256 next 101\n",
      "2024-06-04 21:20:06.391946: I tensorflow/tsl/framework/bfc_allocator.cc:1095] InUse at 72307c020200 of size 256 next 103\n",
      "2024-06-04 21:20:06.391949: I tensorflow/tsl/framework/bfc_allocator.cc:1095] InUse at 72307c020300 of size 256 next 112\n",
      "2024-06-04 21:20:06.391952: I tensorflow/tsl/framework/bfc_allocator.cc:1095] InUse at 72307c020400 of size 256 next 126\n",
      "2024-06-04 21:20:06.391955: I tensorflow/tsl/framework/bfc_allocator.cc:1095] InUse at 72307c020500 of size 256 next 104\n",
      "2024-06-04 21:20:06.391958: I tensorflow/tsl/framework/bfc_allocator.cc:1095] InUse at 72307c020600 of size 256 next 132\n",
      "2024-06-04 21:20:06.391961: I tensorflow/tsl/framework/bfc_allocator.cc:1095] InUse at 72307c020700 of size 256 next 116\n",
      "2024-06-04 21:20:06.391964: I tensorflow/tsl/framework/bfc_allocator.cc:1095] InUse at 72307c020800 of size 256 next 33\n",
      "2024-06-04 21:20:06.391967: I tensorflow/tsl/framework/bfc_allocator.cc:1095] InUse at 72307c020900 of size 32768 next 32\n",
      "2024-06-04 21:20:06.391971: I tensorflow/tsl/framework/bfc_allocator.cc:1095] InUse at 72307c028900 of size 24576 next 57\n",
      "2024-06-04 21:20:06.391974: I tensorflow/tsl/framework/bfc_allocator.cc:1095] InUse at 72307c02e900 of size 892928 next 30\n",
      "2024-06-04 21:20:06.391977: I tensorflow/tsl/framework/bfc_allocator.cc:1095] InUse at 72307c108900 of size 491520 next 29\n",
      "2024-06-04 21:20:06.391981: I tensorflow/tsl/framework/bfc_allocator.cc:1095] InUse at 72307c180900 of size 2267648 next 9\n",
      "2024-06-04 21:20:06.391984: I tensorflow/tsl/framework/bfc_allocator.cc:1095] InUse at 72307c3aa300 of size 1920000 next 10\n",
      "2024-06-04 21:20:06.391987: I tensorflow/tsl/framework/bfc_allocator.cc:1095] InUse at 72307c57ef00 of size 45280000 next 41\n",
      "2024-06-04 21:20:06.391993: I tensorflow/tsl/framework/bfc_allocator.cc:1095] InUse at 72307f0ada00 of size 32768 next 61\n",
      "2024-06-04 21:20:06.391996: I tensorflow/tsl/framework/bfc_allocator.cc:1095] InUse at 72307f0b5a00 of size 32768 next 62\n",
      "2024-06-04 21:20:06.391999: I tensorflow/tsl/framework/bfc_allocator.cc:1095] InUse at 72307f0bda00 of size 32768 next 82\n",
      "2024-06-04 21:20:06.392002: I tensorflow/tsl/framework/bfc_allocator.cc:1095] InUse at 72307f0c5a00 of size 32768 next 83\n",
      "2024-06-04 21:20:06.392005: I tensorflow/tsl/framework/bfc_allocator.cc:1095] InUse at 72307f0cda00 of size 6144 next 125\n",
      "2024-06-04 21:20:06.392008: I tensorflow/tsl/framework/bfc_allocator.cc:1095] Free  at 72307f0cf200 of size 49152 next 128\n",
      "2024-06-04 21:20:06.392011: I tensorflow/tsl/framework/bfc_allocator.cc:1095] InUse at 72307f0db200 of size 24576 next 91\n",
      "2024-06-04 21:20:06.392014: I tensorflow/tsl/framework/bfc_allocator.cc:1095] Free  at 72307f0e1200 of size 32768 next 130\n",
      "2024-06-04 21:20:06.392017: I tensorflow/tsl/framework/bfc_allocator.cc:1095] InUse at 72307f0e9200 of size 32768 next 107\n",
      "2024-06-04 21:20:06.392020: I tensorflow/tsl/framework/bfc_allocator.cc:1095] Free  at 72307f0f1200 of size 215040 next 59\n",
      "2024-06-04 21:20:06.392023: I tensorflow/tsl/framework/bfc_allocator.cc:1095] InUse at 72307f125a00 of size 491520 next 58\n",
      "2024-06-04 21:20:06.392026: I tensorflow/tsl/framework/bfc_allocator.cc:1095] InUse at 72307f19da00 of size 936960 next 48\n",
      "2024-06-04 21:20:06.392030: I tensorflow/tsl/framework/bfc_allocator.cc:1095] InUse at 72307f282600 of size 1920000 next 47\n",
      "2024-06-04 21:20:06.392033: I tensorflow/tsl/framework/bfc_allocator.cc:1095] InUse at 72307f457200 of size 10052160000 next 65\n",
      "2024-06-04 21:20:06.392036: I tensorflow/tsl/framework/bfc_allocator.cc:1095] InUse at 7232d66d3c00 of size 1920000 next 67\n",
      "2024-06-04 21:20:06.392039: I tensorflow/tsl/framework/bfc_allocator.cc:1095] Free  at 7232d68a8800 of size 983040 next 121\n",
      "2024-06-04 21:20:06.392042: I tensorflow/tsl/framework/bfc_allocator.cc:1095] InUse at 7232d6998800 of size 712704 next 109\n",
      "2024-06-04 21:20:06.392045: I tensorflow/tsl/framework/bfc_allocator.cc:1095] InUse at 7232d6a46800 of size 1118880000 next 111\n",
      "2024-06-04 21:20:06.392048: I tensorflow/tsl/framework/bfc_allocator.cc:1095] Free  at 723319552900 of size 5580480000 next 110\n",
      "2024-06-04 21:20:06.392051: I tensorflow/tsl/framework/bfc_allocator.cc:1095] InUse at 723465f48700 of size 1920000 next 100\n",
      "2024-06-04 21:20:06.392055: I tensorflow/tsl/framework/bfc_allocator.cc:1095] Free  at 72346611d300 of size 6263614720 next 18446744073709551615\n",
      "2024-06-04 21:20:06.392458: I tensorflow/tsl/framework/bfc_allocator.cc:1100]      Summary of in-use Chunks by size: \n",
      "2024-06-04 21:20:06.392463: I tensorflow/tsl/framework/bfc_allocator.cc:1103] 83 Chunks of size 256 totalling 20.8KiB\n",
      "2024-06-04 21:20:06.392467: I tensorflow/tsl/framework/bfc_allocator.cc:1103] 5 Chunks of size 512 totalling 2.5KiB\n",
      "2024-06-04 21:20:06.392471: I tensorflow/tsl/framework/bfc_allocator.cc:1103] 1 Chunks of size 1280 totalling 1.2KiB\n",
      "2024-06-04 21:20:06.392474: I tensorflow/tsl/framework/bfc_allocator.cc:1103] 5 Chunks of size 1536 totalling 7.5KiB\n",
      "2024-06-04 21:20:06.392477: I tensorflow/tsl/framework/bfc_allocator.cc:1103] 1 Chunks of size 2304 totalling 2.2KiB\n",
      "2024-06-04 21:20:06.392481: I tensorflow/tsl/framework/bfc_allocator.cc:1103] 1 Chunks of size 3328 totalling 3.2KiB\n",
      "2024-06-04 21:20:06.392484: I tensorflow/tsl/framework/bfc_allocator.cc:1103] 4 Chunks of size 6144 totalling 24.0KiB\n",
      "2024-06-04 21:20:06.392487: I tensorflow/tsl/framework/bfc_allocator.cc:1103] 1 Chunks of size 7936 totalling 7.8KiB\n",
      "2024-06-04 21:20:06.392491: I tensorflow/tsl/framework/bfc_allocator.cc:1103] 4 Chunks of size 24576 totalling 96.0KiB\n",
      "2024-06-04 21:20:06.392495: I tensorflow/tsl/framework/bfc_allocator.cc:1103] 6 Chunks of size 32768 totalling 192.0KiB\n",
      "2024-06-04 21:20:06.392498: I tensorflow/tsl/framework/bfc_allocator.cc:1103] 2 Chunks of size 491520 totalling 960.0KiB\n",
      "2024-06-04 21:20:06.392502: I tensorflow/tsl/framework/bfc_allocator.cc:1103] 1 Chunks of size 712704 totalling 696.0KiB\n",
      "2024-06-04 21:20:06.392505: I tensorflow/tsl/framework/bfc_allocator.cc:1103] 1 Chunks of size 892928 totalling 872.0KiB\n",
      "2024-06-04 21:20:06.392509: I tensorflow/tsl/framework/bfc_allocator.cc:1103] 1 Chunks of size 936960 totalling 915.0KiB\n",
      "2024-06-04 21:20:06.392512: I tensorflow/tsl/framework/bfc_allocator.cc:1103] 4 Chunks of size 1920000 totalling 7.32MiB\n",
      "2024-06-04 21:20:06.392515: I tensorflow/tsl/framework/bfc_allocator.cc:1103] 1 Chunks of size 2267648 totalling 2.16MiB\n",
      "2024-06-04 21:20:06.392519: I tensorflow/tsl/framework/bfc_allocator.cc:1103] 1 Chunks of size 45280000 totalling 43.18MiB\n",
      "2024-06-04 21:20:06.392523: I tensorflow/tsl/framework/bfc_allocator.cc:1103] 1 Chunks of size 1118880000 totalling 1.04GiB\n",
      "2024-06-04 21:20:06.392526: I tensorflow/tsl/framework/bfc_allocator.cc:1103] 1 Chunks of size 10052160000 totalling 9.36GiB\n",
      "2024-06-04 21:20:06.392530: I tensorflow/tsl/framework/bfc_allocator.cc:1107] Sum Total of in-use chunks: 10.46GiB\n",
      "2024-06-04 21:20:06.392533: I tensorflow/tsl/framework/bfc_allocator.cc:1109] Total bytes in pool: 23075553280 memory_limit_: 23075553280 available bytes: 0 curr_region_allocation_bytes_: 46151106560\n",
      "2024-06-04 21:20:06.392540: I tensorflow/tsl/framework/bfc_allocator.cc:1114] Stats: \n",
      "Limit:                     23075553280\n",
      "InUse:                     11230159104\n",
      "MaxInUse:                  17945842944\n",
      "NumAllocs:                      116953\n",
      "MaxAllocSize:              10052160000\n",
      "Reserved:                            0\n",
      "PeakReserved:                        0\n",
      "LargestFreeBlock:                    0\n",
      "\n",
      "2024-06-04 21:20:06.392615: W tensorflow/tsl/framework/bfc_allocator.cc:497] *************************************************_______________________*___________________________\n"
     ]
    },
    {
     "ename": "KeyboardInterrupt",
     "evalue": "",
     "output_type": "error",
     "traceback": [
      "\u001b[0;31m---------------------------------------------------------------------------\u001b[0m",
      "\u001b[0;31mKeyboardInterrupt\u001b[0m                         Traceback (most recent call last)",
      "Cell \u001b[0;32mIn[15], line 15\u001b[0m\n\u001b[1;32m      4\u001b[0m model_checkpoint \u001b[38;5;241m=\u001b[39m ModelCheckpoint(\n\u001b[1;32m      5\u001b[0m     filepath\u001b[38;5;241m=\u001b[39m\u001b[38;5;124m'\u001b[39m\u001b[38;5;124mcnn_20240604_model_best_0.keras\u001b[39m\u001b[38;5;124m'\u001b[39m,  \u001b[38;5;66;03m# 保存するファイルのパス\u001b[39;00m\n\u001b[1;32m      6\u001b[0m     monitor\u001b[38;5;241m=\u001b[39m\u001b[38;5;124m'\u001b[39m\u001b[38;5;124mval_mean_absolute_error\u001b[39m\u001b[38;5;124m'\u001b[39m,        \u001b[38;5;66;03m# 監視する値\u001b[39;00m\n\u001b[0;32m   (...)\u001b[0m\n\u001b[1;32m      9\u001b[0m     mode\u001b[38;5;241m=\u001b[39m\u001b[38;5;124m'\u001b[39m\u001b[38;5;124mmin\u001b[39m\u001b[38;5;124m'\u001b[39m                 \u001b[38;5;66;03m# 「減少」を監視\u001b[39;00m\n\u001b[1;32m     10\u001b[0m )\n\u001b[1;32m     13\u001b[0m use_data \u001b[38;5;241m=\u001b[39m \u001b[38;5;241m0\u001b[39m\n\u001b[0;32m---> 15\u001b[0m \u001b[43mmodel\u001b[49m\u001b[38;5;241;43m.\u001b[39;49m\u001b[43mtraining\u001b[49m\u001b[43m(\u001b[49m\u001b[43mdata\u001b[49m\u001b[38;5;241;43m.\u001b[39;49m\u001b[43mX\u001b[49m\u001b[43m[\u001b[49m\u001b[43mtrain_data_splits_index\u001b[49m\u001b[43m[\u001b[49m\u001b[43muse_data\u001b[49m\u001b[43m]\u001b[49m\u001b[43m]\u001b[49m\u001b[43m,\u001b[49m\u001b[43m \u001b[49m\u001b[43mdata\u001b[49m\u001b[38;5;241;43m.\u001b[39;49m\u001b[43my\u001b[49m\u001b[43m[\u001b[49m\u001b[43mtrain_data_splits_index\u001b[49m\u001b[43m[\u001b[49m\u001b[43muse_data\u001b[49m\u001b[43m]\u001b[49m\u001b[43m]\u001b[49m\u001b[43m,\u001b[49m\u001b[43m \u001b[49m\u001b[38;5;241;43m50\u001b[39;49m\u001b[43m,\u001b[49m\u001b[43m \u001b[49m\u001b[38;5;241;43m32\u001b[39;49m\u001b[43m)\u001b[49m\n\u001b[1;32m     16\u001b[0m model\u001b[38;5;241m.\u001b[39mevaluate(data\u001b[38;5;241m.\u001b[39mX[test_data_splits_index[use_data]], data\u001b[38;5;241m.\u001b[39my[test_data_splits_index[use_data]])\n\u001b[1;32m     17\u001b[0m model\u001b[38;5;241m.\u001b[39msave(\u001b[38;5;124m'\u001b[39m\u001b[38;5;124mcnn_20240604_model_0.keras1.keras\u001b[39m\u001b[38;5;124m'\u001b[39m)\n",
      "File \u001b[0;32m~/Desktop/washino/fluid_intake/fluid_intake_estimate/dence_net.py:23\u001b[0m, in \u001b[0;36mDenceNet.training\u001b[0;34m(self, X_train, y_train, epochs, batch_size, early_stopping, model_checkpoint)\u001b[0m\n\u001b[1;32m     21\u001b[0m \u001b[38;5;28;01mdef\u001b[39;00m \u001b[38;5;21mtraining\u001b[39m(\u001b[38;5;28mself\u001b[39m, X_train, y_train, epochs, batch_size, early_stopping \u001b[38;5;241m=\u001b[39m \u001b[38;5;28;01mNone\u001b[39;00m, model_checkpoint \u001b[38;5;241m=\u001b[39m \u001b[38;5;28;01mNone\u001b[39;00m):\n\u001b[1;32m     22\u001b[0m     \u001b[38;5;28;01mif\u001b[39;00m early_stopping \u001b[38;5;241m==\u001b[39m \u001b[38;5;28;01mNone\u001b[39;00m \u001b[38;5;129;01mand\u001b[39;00m model_checkpoint \u001b[38;5;241m==\u001b[39m \u001b[38;5;28;01mNone\u001b[39;00m:\n\u001b[0;32m---> 23\u001b[0m         \u001b[38;5;28;43mself\u001b[39;49m\u001b[38;5;241;43m.\u001b[39;49m\u001b[43mmodel\u001b[49m\u001b[38;5;241;43m.\u001b[39;49m\u001b[43mfit\u001b[49m\u001b[43m(\u001b[49m\u001b[43mX_train\u001b[49m\u001b[43m,\u001b[49m\u001b[43m \u001b[49m\u001b[43my_train\u001b[49m\u001b[43m,\u001b[49m\u001b[43m \u001b[49m\u001b[43mepochs\u001b[49m\u001b[38;5;241;43m=\u001b[39;49m\u001b[43mepochs\u001b[49m\u001b[43m,\u001b[49m\u001b[43m \u001b[49m\u001b[43mvalidation_split\u001b[49m\u001b[38;5;241;43m=\u001b[39;49m\u001b[38;5;241;43m0.1\u001b[39;49m\u001b[43m,\u001b[49m\u001b[43m \u001b[49m\u001b[43mbatch_size\u001b[49m\u001b[38;5;241;43m=\u001b[39;49m\u001b[43m \u001b[49m\u001b[43mbatch_size\u001b[49m\u001b[43m)\u001b[49m\n\u001b[1;32m     24\u001b[0m     \u001b[38;5;28;01melif\u001b[39;00m early_stopping \u001b[38;5;241m==\u001b[39m \u001b[38;5;28;01mNone\u001b[39;00m:\n\u001b[1;32m     25\u001b[0m         \u001b[38;5;28mself\u001b[39m\u001b[38;5;241m.\u001b[39mmodel\u001b[38;5;241m.\u001b[39mfit(X_train, y_train, epochs\u001b[38;5;241m=\u001b[39mepochs, validation_split\u001b[38;5;241m=\u001b[39m\u001b[38;5;241m0.1\u001b[39m, batch_size\u001b[38;5;241m=\u001b[39m batch_size, callbacks\u001b[38;5;241m=\u001b[39m[model_checkpoint])\n",
      "File \u001b[0;32m~/.conda/envs/washino/lib/python3.10/site-packages/keras/utils/traceback_utils.py:65\u001b[0m, in \u001b[0;36mfilter_traceback.<locals>.error_handler\u001b[0;34m(*args, **kwargs)\u001b[0m\n\u001b[1;32m     63\u001b[0m filtered_tb \u001b[38;5;241m=\u001b[39m \u001b[38;5;28;01mNone\u001b[39;00m\n\u001b[1;32m     64\u001b[0m \u001b[38;5;28;01mtry\u001b[39;00m:\n\u001b[0;32m---> 65\u001b[0m     \u001b[38;5;28;01mreturn\u001b[39;00m \u001b[43mfn\u001b[49m\u001b[43m(\u001b[49m\u001b[38;5;241;43m*\u001b[39;49m\u001b[43margs\u001b[49m\u001b[43m,\u001b[49m\u001b[43m \u001b[49m\u001b[38;5;241;43m*\u001b[39;49m\u001b[38;5;241;43m*\u001b[39;49m\u001b[43mkwargs\u001b[49m\u001b[43m)\u001b[49m\n\u001b[1;32m     66\u001b[0m \u001b[38;5;28;01mexcept\u001b[39;00m \u001b[38;5;167;01mException\u001b[39;00m \u001b[38;5;28;01mas\u001b[39;00m e:\n\u001b[1;32m     67\u001b[0m     filtered_tb \u001b[38;5;241m=\u001b[39m _process_traceback_frames(e\u001b[38;5;241m.\u001b[39m__traceback__)\n",
      "File \u001b[0;32m~/.conda/envs/washino/lib/python3.10/site-packages/keras/engine/training.py:1625\u001b[0m, in \u001b[0;36mModel.fit\u001b[0;34m(self, x, y, batch_size, epochs, verbose, callbacks, validation_split, validation_data, shuffle, class_weight, sample_weight, initial_epoch, steps_per_epoch, validation_steps, validation_batch_size, validation_freq, max_queue_size, workers, use_multiprocessing)\u001b[0m\n\u001b[1;32m   1615\u001b[0m     \u001b[38;5;28mself\u001b[39m\u001b[38;5;241m.\u001b[39m_cluster_coordinator \u001b[38;5;241m=\u001b[39m (\n\u001b[1;32m   1616\u001b[0m         tf\u001b[38;5;241m.\u001b[39mdistribute\u001b[38;5;241m.\u001b[39mexperimental\u001b[38;5;241m.\u001b[39mcoordinator\u001b[38;5;241m.\u001b[39mClusterCoordinator(\n\u001b[1;32m   1617\u001b[0m             \u001b[38;5;28mself\u001b[39m\u001b[38;5;241m.\u001b[39mdistribute_strategy\n\u001b[1;32m   1618\u001b[0m         )\n\u001b[1;32m   1619\u001b[0m     )\n\u001b[1;32m   1621\u001b[0m \u001b[38;5;28;01mwith\u001b[39;00m \u001b[38;5;28mself\u001b[39m\u001b[38;5;241m.\u001b[39mdistribute_strategy\u001b[38;5;241m.\u001b[39mscope(), training_utils\u001b[38;5;241m.\u001b[39mRespectCompiledTrainableState(  \u001b[38;5;66;03m# noqa: E501\u001b[39;00m\n\u001b[1;32m   1622\u001b[0m     \u001b[38;5;28mself\u001b[39m\n\u001b[1;32m   1623\u001b[0m ):\n\u001b[1;32m   1624\u001b[0m     \u001b[38;5;66;03m# Creates a `tf.data.Dataset` and handles batch and epoch iteration.\u001b[39;00m\n\u001b[0;32m-> 1625\u001b[0m     data_handler \u001b[38;5;241m=\u001b[39m \u001b[43mdata_adapter\u001b[49m\u001b[38;5;241;43m.\u001b[39;49m\u001b[43mget_data_handler\u001b[49m\u001b[43m(\u001b[49m\n\u001b[1;32m   1626\u001b[0m \u001b[43m        \u001b[49m\u001b[43mx\u001b[49m\u001b[38;5;241;43m=\u001b[39;49m\u001b[43mx\u001b[49m\u001b[43m,\u001b[49m\n\u001b[1;32m   1627\u001b[0m \u001b[43m        \u001b[49m\u001b[43my\u001b[49m\u001b[38;5;241;43m=\u001b[39;49m\u001b[43my\u001b[49m\u001b[43m,\u001b[49m\n\u001b[1;32m   1628\u001b[0m \u001b[43m        \u001b[49m\u001b[43msample_weight\u001b[49m\u001b[38;5;241;43m=\u001b[39;49m\u001b[43msample_weight\u001b[49m\u001b[43m,\u001b[49m\n\u001b[1;32m   1629\u001b[0m \u001b[43m        \u001b[49m\u001b[43mbatch_size\u001b[49m\u001b[38;5;241;43m=\u001b[39;49m\u001b[43mbatch_size\u001b[49m\u001b[43m,\u001b[49m\n\u001b[1;32m   1630\u001b[0m \u001b[43m        \u001b[49m\u001b[43msteps_per_epoch\u001b[49m\u001b[38;5;241;43m=\u001b[39;49m\u001b[43msteps_per_epoch\u001b[49m\u001b[43m,\u001b[49m\n\u001b[1;32m   1631\u001b[0m \u001b[43m        \u001b[49m\u001b[43minitial_epoch\u001b[49m\u001b[38;5;241;43m=\u001b[39;49m\u001b[43minitial_epoch\u001b[49m\u001b[43m,\u001b[49m\n\u001b[1;32m   1632\u001b[0m \u001b[43m        \u001b[49m\u001b[43mepochs\u001b[49m\u001b[38;5;241;43m=\u001b[39;49m\u001b[43mepochs\u001b[49m\u001b[43m,\u001b[49m\n\u001b[1;32m   1633\u001b[0m \u001b[43m        \u001b[49m\u001b[43mshuffle\u001b[49m\u001b[38;5;241;43m=\u001b[39;49m\u001b[43mshuffle\u001b[49m\u001b[43m,\u001b[49m\n\u001b[1;32m   1634\u001b[0m \u001b[43m        \u001b[49m\u001b[43mclass_weight\u001b[49m\u001b[38;5;241;43m=\u001b[39;49m\u001b[43mclass_weight\u001b[49m\u001b[43m,\u001b[49m\n\u001b[1;32m   1635\u001b[0m \u001b[43m        \u001b[49m\u001b[43mmax_queue_size\u001b[49m\u001b[38;5;241;43m=\u001b[39;49m\u001b[43mmax_queue_size\u001b[49m\u001b[43m,\u001b[49m\n\u001b[1;32m   1636\u001b[0m \u001b[43m        \u001b[49m\u001b[43mworkers\u001b[49m\u001b[38;5;241;43m=\u001b[39;49m\u001b[43mworkers\u001b[49m\u001b[43m,\u001b[49m\n\u001b[1;32m   1637\u001b[0m \u001b[43m        \u001b[49m\u001b[43muse_multiprocessing\u001b[49m\u001b[38;5;241;43m=\u001b[39;49m\u001b[43muse_multiprocessing\u001b[49m\u001b[43m,\u001b[49m\n\u001b[1;32m   1638\u001b[0m \u001b[43m        \u001b[49m\u001b[43mmodel\u001b[49m\u001b[38;5;241;43m=\u001b[39;49m\u001b[38;5;28;43mself\u001b[39;49m\u001b[43m,\u001b[49m\n\u001b[1;32m   1639\u001b[0m \u001b[43m        \u001b[49m\u001b[43msteps_per_execution\u001b[49m\u001b[38;5;241;43m=\u001b[39;49m\u001b[38;5;28;43mself\u001b[39;49m\u001b[38;5;241;43m.\u001b[39;49m\u001b[43m_steps_per_execution\u001b[49m\u001b[43m,\u001b[49m\n\u001b[1;32m   1640\u001b[0m \u001b[43m    \u001b[49m\u001b[43m)\u001b[49m\n\u001b[1;32m   1642\u001b[0m     \u001b[38;5;66;03m# Container that configures and calls `tf.keras.Callback`s.\u001b[39;00m\n\u001b[1;32m   1643\u001b[0m     \u001b[38;5;28;01mif\u001b[39;00m \u001b[38;5;129;01mnot\u001b[39;00m \u001b[38;5;28misinstance\u001b[39m(callbacks, callbacks_module\u001b[38;5;241m.\u001b[39mCallbackList):\n",
      "File \u001b[0;32m~/.conda/envs/washino/lib/python3.10/site-packages/keras/engine/data_adapter.py:1583\u001b[0m, in \u001b[0;36mget_data_handler\u001b[0;34m(*args, **kwargs)\u001b[0m\n\u001b[1;32m   1581\u001b[0m \u001b[38;5;28;01mif\u001b[39;00m \u001b[38;5;28mgetattr\u001b[39m(kwargs[\u001b[38;5;124m\"\u001b[39m\u001b[38;5;124mmodel\u001b[39m\u001b[38;5;124m\"\u001b[39m], \u001b[38;5;124m\"\u001b[39m\u001b[38;5;124m_cluster_coordinator\u001b[39m\u001b[38;5;124m\"\u001b[39m, \u001b[38;5;28;01mNone\u001b[39;00m):\n\u001b[1;32m   1582\u001b[0m     \u001b[38;5;28;01mreturn\u001b[39;00m _ClusterCoordinatorDataHandler(\u001b[38;5;241m*\u001b[39margs, \u001b[38;5;241m*\u001b[39m\u001b[38;5;241m*\u001b[39mkwargs)\n\u001b[0;32m-> 1583\u001b[0m \u001b[38;5;28;01mreturn\u001b[39;00m \u001b[43mDataHandler\u001b[49m\u001b[43m(\u001b[49m\u001b[38;5;241;43m*\u001b[39;49m\u001b[43margs\u001b[49m\u001b[43m,\u001b[49m\u001b[43m \u001b[49m\u001b[38;5;241;43m*\u001b[39;49m\u001b[38;5;241;43m*\u001b[39;49m\u001b[43mkwargs\u001b[49m\u001b[43m)\u001b[49m\n",
      "File \u001b[0;32m~/.conda/envs/washino/lib/python3.10/site-packages/keras/engine/data_adapter.py:1260\u001b[0m, in \u001b[0;36mDataHandler.__init__\u001b[0;34m(self, x, y, sample_weight, batch_size, steps_per_epoch, initial_epoch, epochs, shuffle, class_weight, max_queue_size, workers, use_multiprocessing, model, steps_per_execution, distribute)\u001b[0m\n\u001b[1;32m   1257\u001b[0m     \u001b[38;5;28mself\u001b[39m\u001b[38;5;241m.\u001b[39m_steps_per_execution \u001b[38;5;241m=\u001b[39m steps_per_execution\n\u001b[1;32m   1259\u001b[0m adapter_cls \u001b[38;5;241m=\u001b[39m select_data_adapter(x, y)\n\u001b[0;32m-> 1260\u001b[0m \u001b[38;5;28mself\u001b[39m\u001b[38;5;241m.\u001b[39m_adapter \u001b[38;5;241m=\u001b[39m \u001b[43madapter_cls\u001b[49m\u001b[43m(\u001b[49m\n\u001b[1;32m   1261\u001b[0m \u001b[43m    \u001b[49m\u001b[43mx\u001b[49m\u001b[43m,\u001b[49m\n\u001b[1;32m   1262\u001b[0m \u001b[43m    \u001b[49m\u001b[43my\u001b[49m\u001b[43m,\u001b[49m\n\u001b[1;32m   1263\u001b[0m \u001b[43m    \u001b[49m\u001b[43mbatch_size\u001b[49m\u001b[38;5;241;43m=\u001b[39;49m\u001b[43mbatch_size\u001b[49m\u001b[43m,\u001b[49m\n\u001b[1;32m   1264\u001b[0m \u001b[43m    \u001b[49m\u001b[43msteps\u001b[49m\u001b[38;5;241;43m=\u001b[39;49m\u001b[43msteps_per_epoch\u001b[49m\u001b[43m,\u001b[49m\n\u001b[1;32m   1265\u001b[0m \u001b[43m    \u001b[49m\u001b[43mepochs\u001b[49m\u001b[38;5;241;43m=\u001b[39;49m\u001b[43mepochs\u001b[49m\u001b[43m \u001b[49m\u001b[38;5;241;43m-\u001b[39;49m\u001b[43m \u001b[49m\u001b[43minitial_epoch\u001b[49m\u001b[43m,\u001b[49m\n\u001b[1;32m   1266\u001b[0m \u001b[43m    \u001b[49m\u001b[43msample_weights\u001b[49m\u001b[38;5;241;43m=\u001b[39;49m\u001b[43msample_weight\u001b[49m\u001b[43m,\u001b[49m\n\u001b[1;32m   1267\u001b[0m \u001b[43m    \u001b[49m\u001b[43mshuffle\u001b[49m\u001b[38;5;241;43m=\u001b[39;49m\u001b[43mshuffle\u001b[49m\u001b[43m,\u001b[49m\n\u001b[1;32m   1268\u001b[0m \u001b[43m    \u001b[49m\u001b[43mmax_queue_size\u001b[49m\u001b[38;5;241;43m=\u001b[39;49m\u001b[43mmax_queue_size\u001b[49m\u001b[43m,\u001b[49m\n\u001b[1;32m   1269\u001b[0m \u001b[43m    \u001b[49m\u001b[43mworkers\u001b[49m\u001b[38;5;241;43m=\u001b[39;49m\u001b[43mworkers\u001b[49m\u001b[43m,\u001b[49m\n\u001b[1;32m   1270\u001b[0m \u001b[43m    \u001b[49m\u001b[43muse_multiprocessing\u001b[49m\u001b[38;5;241;43m=\u001b[39;49m\u001b[43muse_multiprocessing\u001b[49m\u001b[43m,\u001b[49m\n\u001b[1;32m   1271\u001b[0m \u001b[43m    \u001b[49m\u001b[43mdistribution_strategy\u001b[49m\u001b[38;5;241;43m=\u001b[39;49m\u001b[43mtf\u001b[49m\u001b[38;5;241;43m.\u001b[39;49m\u001b[43mdistribute\u001b[49m\u001b[38;5;241;43m.\u001b[39;49m\u001b[43mget_strategy\u001b[49m\u001b[43m(\u001b[49m\u001b[43m)\u001b[49m\u001b[43m,\u001b[49m\n\u001b[1;32m   1272\u001b[0m \u001b[43m    \u001b[49m\u001b[43mmodel\u001b[49m\u001b[38;5;241;43m=\u001b[39;49m\u001b[43mmodel\u001b[49m\u001b[43m,\u001b[49m\n\u001b[1;32m   1273\u001b[0m \u001b[43m\u001b[49m\u001b[43m)\u001b[49m\n\u001b[1;32m   1275\u001b[0m strategy \u001b[38;5;241m=\u001b[39m tf\u001b[38;5;241m.\u001b[39mdistribute\u001b[38;5;241m.\u001b[39mget_strategy()\n\u001b[1;32m   1277\u001b[0m \u001b[38;5;28mself\u001b[39m\u001b[38;5;241m.\u001b[39m_current_step \u001b[38;5;241m=\u001b[39m \u001b[38;5;241m0\u001b[39m\n",
      "File \u001b[0;32m~/.conda/envs/washino/lib/python3.10/site-packages/keras/engine/data_adapter.py:246\u001b[0m, in \u001b[0;36mTensorLikeDataAdapter.__init__\u001b[0;34m(self, x, y, sample_weights, sample_weight_modes, batch_size, epochs, steps, shuffle, **kwargs)\u001b[0m\n\u001b[1;32m    233\u001b[0m \u001b[38;5;28;01mdef\u001b[39;00m \u001b[38;5;21m__init__\u001b[39m(\n\u001b[1;32m    234\u001b[0m     \u001b[38;5;28mself\u001b[39m,\n\u001b[1;32m    235\u001b[0m     x,\n\u001b[0;32m   (...)\u001b[0m\n\u001b[1;32m    243\u001b[0m     \u001b[38;5;241m*\u001b[39m\u001b[38;5;241m*\u001b[39mkwargs,\n\u001b[1;32m    244\u001b[0m ):\n\u001b[1;32m    245\u001b[0m     \u001b[38;5;28msuper\u001b[39m()\u001b[38;5;241m.\u001b[39m\u001b[38;5;21m__init__\u001b[39m(x, y, \u001b[38;5;241m*\u001b[39m\u001b[38;5;241m*\u001b[39mkwargs)\n\u001b[0;32m--> 246\u001b[0m     x, y, sample_weights \u001b[38;5;241m=\u001b[39m \u001b[43m_process_tensorlike\u001b[49m\u001b[43m(\u001b[49m\u001b[43m(\u001b[49m\u001b[43mx\u001b[49m\u001b[43m,\u001b[49m\u001b[43m \u001b[49m\u001b[43my\u001b[49m\u001b[43m,\u001b[49m\u001b[43m \u001b[49m\u001b[43msample_weights\u001b[49m\u001b[43m)\u001b[49m\u001b[43m)\u001b[49m\n\u001b[1;32m    247\u001b[0m     sample_weight_modes \u001b[38;5;241m=\u001b[39m broadcast_sample_weight_modes(\n\u001b[1;32m    248\u001b[0m         sample_weights, sample_weight_modes\n\u001b[1;32m    249\u001b[0m     )\n\u001b[1;32m    251\u001b[0m     \u001b[38;5;66;03m# If sample_weights are not specified for an output use 1.0 as weights.\u001b[39;00m\n",
      "File \u001b[0;32m~/.conda/envs/washino/lib/python3.10/site-packages/keras/engine/data_adapter.py:1140\u001b[0m, in \u001b[0;36m_process_tensorlike\u001b[0;34m(inputs)\u001b[0m\n\u001b[1;32m   1137\u001b[0m         \u001b[38;5;28;01mreturn\u001b[39;00m _scipy_sparse_to_sparse_tensor(x)\n\u001b[1;32m   1138\u001b[0m     \u001b[38;5;28;01mreturn\u001b[39;00m x\n\u001b[0;32m-> 1140\u001b[0m inputs \u001b[38;5;241m=\u001b[39m \u001b[43mtf\u001b[49m\u001b[38;5;241;43m.\u001b[39;49m\u001b[43mnest\u001b[49m\u001b[38;5;241;43m.\u001b[39;49m\u001b[43mmap_structure\u001b[49m\u001b[43m(\u001b[49m\u001b[43m_convert_single_tensor\u001b[49m\u001b[43m,\u001b[49m\u001b[43m \u001b[49m\u001b[43minputs\u001b[49m\u001b[43m)\u001b[49m\n\u001b[1;32m   1141\u001b[0m \u001b[38;5;28;01mreturn\u001b[39;00m tf\u001b[38;5;241m.\u001b[39m__internal__\u001b[38;5;241m.\u001b[39mnest\u001b[38;5;241m.\u001b[39mlist_to_tuple(inputs)\n",
      "File \u001b[0;32m~/.conda/envs/washino/lib/python3.10/site-packages/tensorflow/python/util/nest.py:917\u001b[0m, in \u001b[0;36mmap_structure\u001b[0;34m(func, *structure, **kwargs)\u001b[0m\n\u001b[1;32m    913\u001b[0m flat_structure \u001b[38;5;241m=\u001b[39m (flatten(s, expand_composites) \u001b[38;5;28;01mfor\u001b[39;00m s \u001b[38;5;129;01min\u001b[39;00m structure)\n\u001b[1;32m    914\u001b[0m entries \u001b[38;5;241m=\u001b[39m \u001b[38;5;28mzip\u001b[39m(\u001b[38;5;241m*\u001b[39mflat_structure)\n\u001b[1;32m    916\u001b[0m \u001b[38;5;28;01mreturn\u001b[39;00m pack_sequence_as(\n\u001b[0;32m--> 917\u001b[0m     structure[\u001b[38;5;241m0\u001b[39m], [func(\u001b[38;5;241m*\u001b[39mx) \u001b[38;5;28;01mfor\u001b[39;00m x \u001b[38;5;129;01min\u001b[39;00m entries],\n\u001b[1;32m    918\u001b[0m     expand_composites\u001b[38;5;241m=\u001b[39mexpand_composites)\n",
      "File \u001b[0;32m~/.conda/envs/washino/lib/python3.10/site-packages/tensorflow/python/util/nest.py:917\u001b[0m, in \u001b[0;36m<listcomp>\u001b[0;34m(.0)\u001b[0m\n\u001b[1;32m    913\u001b[0m flat_structure \u001b[38;5;241m=\u001b[39m (flatten(s, expand_composites) \u001b[38;5;28;01mfor\u001b[39;00m s \u001b[38;5;129;01min\u001b[39;00m structure)\n\u001b[1;32m    914\u001b[0m entries \u001b[38;5;241m=\u001b[39m \u001b[38;5;28mzip\u001b[39m(\u001b[38;5;241m*\u001b[39mflat_structure)\n\u001b[1;32m    916\u001b[0m \u001b[38;5;28;01mreturn\u001b[39;00m pack_sequence_as(\n\u001b[0;32m--> 917\u001b[0m     structure[\u001b[38;5;241m0\u001b[39m], [\u001b[43mfunc\u001b[49m\u001b[43m(\u001b[49m\u001b[38;5;241;43m*\u001b[39;49m\u001b[43mx\u001b[49m\u001b[43m)\u001b[49m \u001b[38;5;28;01mfor\u001b[39;00m x \u001b[38;5;129;01min\u001b[39;00m entries],\n\u001b[1;32m    918\u001b[0m     expand_composites\u001b[38;5;241m=\u001b[39mexpand_composites)\n",
      "File \u001b[0;32m~/.conda/envs/washino/lib/python3.10/site-packages/keras/engine/data_adapter.py:1135\u001b[0m, in \u001b[0;36m_process_tensorlike.<locals>._convert_single_tensor\u001b[0;34m(x)\u001b[0m\n\u001b[1;32m   1133\u001b[0m     \u001b[38;5;28;01mif\u001b[39;00m \u001b[38;5;28missubclass\u001b[39m(x\u001b[38;5;241m.\u001b[39mdtype\u001b[38;5;241m.\u001b[39mtype, np\u001b[38;5;241m.\u001b[39mfloating):\n\u001b[1;32m   1134\u001b[0m         dtype \u001b[38;5;241m=\u001b[39m backend\u001b[38;5;241m.\u001b[39mfloatx()\n\u001b[0;32m-> 1135\u001b[0m     \u001b[38;5;28;01mreturn\u001b[39;00m \u001b[43mtf\u001b[49m\u001b[38;5;241;43m.\u001b[39;49m\u001b[43mconvert_to_tensor\u001b[49m\u001b[43m(\u001b[49m\u001b[43mx\u001b[49m\u001b[43m,\u001b[49m\u001b[43m \u001b[49m\u001b[43mdtype\u001b[49m\u001b[38;5;241;43m=\u001b[39;49m\u001b[43mdtype\u001b[49m\u001b[43m)\u001b[49m\n\u001b[1;32m   1136\u001b[0m \u001b[38;5;28;01melif\u001b[39;00m _is_scipy_sparse(x):\n\u001b[1;32m   1137\u001b[0m     \u001b[38;5;28;01mreturn\u001b[39;00m _scipy_sparse_to_sparse_tensor(x)\n",
      "File \u001b[0;32m~/.conda/envs/washino/lib/python3.10/site-packages/tensorflow/python/util/traceback_utils.py:150\u001b[0m, in \u001b[0;36mfilter_traceback.<locals>.error_handler\u001b[0;34m(*args, **kwargs)\u001b[0m\n\u001b[1;32m    148\u001b[0m filtered_tb \u001b[38;5;241m=\u001b[39m \u001b[38;5;28;01mNone\u001b[39;00m\n\u001b[1;32m    149\u001b[0m \u001b[38;5;28;01mtry\u001b[39;00m:\n\u001b[0;32m--> 150\u001b[0m   \u001b[38;5;28;01mreturn\u001b[39;00m \u001b[43mfn\u001b[49m\u001b[43m(\u001b[49m\u001b[38;5;241;43m*\u001b[39;49m\u001b[43margs\u001b[49m\u001b[43m,\u001b[49m\u001b[43m \u001b[49m\u001b[38;5;241;43m*\u001b[39;49m\u001b[38;5;241;43m*\u001b[39;49m\u001b[43mkwargs\u001b[49m\u001b[43m)\u001b[49m\n\u001b[1;32m    151\u001b[0m \u001b[38;5;28;01mexcept\u001b[39;00m \u001b[38;5;167;01mException\u001b[39;00m \u001b[38;5;28;01mas\u001b[39;00m e:\n\u001b[1;32m    152\u001b[0m   filtered_tb \u001b[38;5;241m=\u001b[39m _process_traceback_frames(e\u001b[38;5;241m.\u001b[39m__traceback__)\n",
      "File \u001b[0;32m~/.conda/envs/washino/lib/python3.10/site-packages/tensorflow/python/framework/errors_impl.py:462\u001b[0m, in \u001b[0;36mInternalError.__init__\u001b[0;34m(self, node_def, op, message, *args)\u001b[0m\n\u001b[1;32m    454\u001b[0m \u001b[38;5;129m@tf_export\u001b[39m(\u001b[38;5;124m\"\u001b[39m\u001b[38;5;124merrors.InternalError\u001b[39m\u001b[38;5;124m\"\u001b[39m)\n\u001b[1;32m    455\u001b[0m \u001b[38;5;28;01mclass\u001b[39;00m \u001b[38;5;21;01mInternalError\u001b[39;00m(OpError):\n\u001b[1;32m    456\u001b[0m \u001b[38;5;250m  \u001b[39m\u001b[38;5;124;03m\"\"\"Raised when the system experiences an internal error.\u001b[39;00m\n\u001b[1;32m    457\u001b[0m \n\u001b[1;32m    458\u001b[0m \u001b[38;5;124;03m  This exception is raised when some invariant expected by the runtime\u001b[39;00m\n\u001b[1;32m    459\u001b[0m \u001b[38;5;124;03m  has been broken. Catching this exception is not recommended.\u001b[39;00m\n\u001b[1;32m    460\u001b[0m \u001b[38;5;124;03m  \"\"\"\u001b[39;00m\n\u001b[0;32m--> 462\u001b[0m   \u001b[38;5;28;01mdef\u001b[39;00m \u001b[38;5;21m__init__\u001b[39m(\u001b[38;5;28mself\u001b[39m, node_def, op, message, \u001b[38;5;241m*\u001b[39margs):\n\u001b[1;32m    463\u001b[0m \u001b[38;5;250m    \u001b[39m\u001b[38;5;124;03m\"\"\"Creates an `InternalError`.\"\"\"\u001b[39;00m\n\u001b[1;32m    464\u001b[0m     \u001b[38;5;28msuper\u001b[39m(InternalError, \u001b[38;5;28mself\u001b[39m)\u001b[38;5;241m.\u001b[39m\u001b[38;5;21m__init__\u001b[39m(node_def, op, message, INTERNAL, \u001b[38;5;241m*\u001b[39margs)\n",
      "\u001b[0;31mKeyboardInterrupt\u001b[0m: "
     ]
    }
   ],
   "source": [
    "model = cnn.CNN(scale = 222, time_range = 20000)\n",
    "# model = mlp.MLP(time_range = 20000)\n",
    "\n",
    "model_checkpoint = ModelCheckpoint(\n",
    "    filepath='cnn_20240604_model_best_0.keras',  # 保存するファイルのパス\n",
    "    monitor='val_mean_absolute_error',        # 監視する値\n",
    "    save_best_only=True,       # 最良のモデルのみを保存\n",
    "    verbose=1,                 # 進行状況のメッセージ表示\n",
    "    mode='min'                 # 「減少」を監視\n",
    ")\n",
    "\n",
    "\n",
    "use_data = 0\n",
    "\n",
    "model.training(data.X[train_data_splits_index[use_data]], data.y[train_data_splits_index[use_data]], 50, 32)\n",
    "model.evaluate(data.X[test_data_splits_index[use_data]], data.y[test_data_splits_index[use_data]])\n",
    "model.save('cnn_20240604_model_0.keras1.keras')"
   ]
  },
  {
   "cell_type": "code",
   "execution_count": null,
   "id": "0d884c0c",
   "metadata": {},
   "outputs": [],
   "source": [
    "y.append(data.y[test_data_splits_index[use_data]])\n",
    "predict.append(model.predictions)"
   ]
  },
  {
   "cell_type": "code",
   "execution_count": null,
   "id": "13ea10a4",
   "metadata": {},
   "outputs": [],
   "source": [
    "print(len(predict))"
   ]
  },
  {
   "cell_type": "code",
   "execution_count": null,
   "id": "4a348be1",
   "metadata": {},
   "outputs": [],
   "source": [
    "array_y = np.concatenate(y)\n",
    "array_pre = np.concatenate(predict)"
   ]
  },
  {
   "cell_type": "code",
   "execution_count": null,
   "id": "49791915",
   "metadata": {},
   "outputs": [],
   "source": [
    "plt.scatter(array_y, array_pre)\n",
    "plt.xlabel('y')\n",
    "plt.ylabel('predict')\n",
    "plt.title('Scatter Plot of y vs predict')\n",
    "plt.show()\n",
    "\n",
    "# R2スコアの計算\n",
    "r2 = r2_score(array_y, array_pre)\n",
    "print(f\"R2 Score: {r2}\")\n",
    "\n",
    "# MAEの計算\n",
    "mae = mean_absolute_error(array_y, array_pre)\n",
    "print(f\"Mean Absolute Error (MAE): {mae}\")\n",
    "\n",
    "      \n",
    "      # RMSEの計算\n",
    "rmse = np.sqrt(mean_squared_error(array_y, array_pre))\n",
    "print(f\"Root Mean Squared Error (RMSE): {rmse}\")"
   ]
  },
  {
   "cell_type": "code",
   "execution_count": 26,
   "id": "047843dd",
   "metadata": {},
   "outputs": [],
   "source": [
    "array_pre = array_pre.flatten()"
   ]
  },
  {
   "cell_type": "code",
   "execution_count": 27,
   "id": "fd6daf5e",
   "metadata": {},
   "outputs": [],
   "source": [
    "combined_array = np.vstack((array_y, array_pre)).T\n",
    "np.savetxt(\"mlp_20240520.csv\", combined_array, delimiter=\",\", header=\"y,predict\", comments='')"
   ]
  },
  {
   "cell_type": "code",
   "execution_count": 20,
   "id": "782e8f53",
   "metadata": {},
   "outputs": [
    {
     "name": "stdout",
     "output_type": "stream",
     "text": [
      "         y   predict\n",
      "0    1.045  0.763706\n",
      "1    0.677  0.237178\n",
      "2    0.791  0.455848\n",
      "3    0.069  0.602695\n",
      "4    0.323  0.157330\n",
      "..     ...       ...\n",
      "153  0.570  0.417902\n",
      "154  0.830  0.493793\n",
      "155  0.824  0.522705\n",
      "156  0.876  0.518229\n",
      "157  0.999  0.392987\n",
      "\n",
      "[158 rows x 2 columns]\n",
      "         y   predict\n",
      "0    0.215  0.627778\n",
      "1    0.343  0.457409\n",
      "2    0.442  0.806398\n",
      "3    0.064  0.615129\n",
      "4    0.134  0.581777\n",
      "..     ...       ...\n",
      "152  0.559  0.217453\n",
      "153  0.400  0.451681\n",
      "154  0.499  0.565259\n",
      "155  0.472  0.553005\n",
      "156  0.662  0.555584\n",
      "\n",
      "[157 rows x 2 columns]\n",
      "         y   predict\n",
      "0    0.446  0.244687\n",
      "1    0.862  0.392548\n",
      "2    0.281  0.668674\n",
      "3    0.600  0.469109\n",
      "4    0.099  0.351028\n",
      "..     ...       ...\n",
      "152  0.375  0.426757\n",
      "153  0.383  0.267976\n",
      "154  0.599  0.633823\n",
      "155  0.723  0.188216\n",
      "156  0.934  0.384642\n",
      "\n",
      "[157 rows x 2 columns]\n",
      "         y   predict\n",
      "0    0.264  0.438693\n",
      "1    0.251  0.478662\n",
      "2    0.000 -0.000524\n",
      "3    0.440  0.436390\n",
      "4    0.169  0.685015\n",
      "..     ...       ...\n",
      "152  0.064  0.154220\n",
      "153  0.077  0.508919\n",
      "154  0.201  0.564548\n",
      "155  0.442  0.232688\n",
      "156  0.741  1.017699\n",
      "\n",
      "[157 rows x 2 columns]\n",
      "         y   predict\n",
      "0    0.328  0.251175\n",
      "1    0.581  0.512503\n",
      "2    0.184  0.454065\n",
      "3    0.457  0.448094\n",
      "4    0.138  0.763446\n",
      "..     ...       ...\n",
      "152  0.300  0.482164\n",
      "153  0.634  0.405774\n",
      "154  0.572  0.651532\n",
      "155  0.736  0.174094\n",
      "156  0.944  0.619232\n",
      "\n",
      "[157 rows x 2 columns]\n"
     ]
    }
   ],
   "source": [
    "df0 = pd.read_csv(\"stft_cnn_20240520_0.csv\")\n",
    "print(df0)\n",
    "df1 = pd.read_csv(\"stft_cnn_20240520_1.csv\")\n",
    "print(df1)\n",
    "df2 = pd.read_csv(\"stft_cnn_20240520_2.csv\")\n",
    "print(df2)\n",
    "df3 = pd.read_csv(\"stft_cnn_20240520_3.csv\")\n",
    "print(df3)\n",
    "df4 = pd.read_csv(\"stft_cnn_20240520_4.csv\")\n",
    "print(df4)"
   ]
  },
  {
   "cell_type": "code",
   "execution_count": 22,
   "id": "86caeaa5",
   "metadata": {},
   "outputs": [
    {
     "name": "stdout",
     "output_type": "stream",
     "text": [
      "         y   predict\n",
      "0    1.045  0.763706\n",
      "1    0.677  0.237178\n",
      "2    0.791  0.455848\n",
      "3    0.069  0.602695\n",
      "4    0.323  0.157330\n",
      "..     ...       ...\n",
      "781  0.300  0.482164\n",
      "782  0.634  0.405774\n",
      "783  0.572  0.651532\n",
      "784  0.736  0.174094\n",
      "785  0.944  0.619232\n",
      "\n",
      "[786 rows x 2 columns]\n"
     ]
    }
   ],
   "source": [
    "df = [df0, df1, df2, df3, df4]\n",
    "combined_df = pd.concat(df, ignore_index=True)\n",
    "\n",
    "# 結合したDataFrameを表示\n",
    "print(combined_df)"
   ]
  },
  {
   "cell_type": "code",
   "execution_count": 23,
   "id": "266257a1",
   "metadata": {},
   "outputs": [
    {
     "data": {
      "image/png": "[encoded data removed]",
      "text/plain": [
       "<Figure size 640x480 with 1 Axes>"
      ]
     },
     "metadata": {},
     "output_type": "display_data"
    },
    {
     "name": "stdout",
     "output_type": "stream",
     "text": [
      "R2 Score: -0.025248048455605465\n",
      "Mean Absolute Error (MAE): 0.24721094137931637\n",
      "Root Mean Squared Error (RMSE): 0.3213839436367265\n"
     ]
    }
   ],
   "source": [
    "plt.scatter(combined_df['y'], combined_df['predict'])\n",
    "plt.xlabel('y')\n",
    "plt.ylabel('predict')\n",
    "plt.title('Scatter Plot of y vs predict')\n",
    "plt.show()\n",
    "\n",
    "# R2スコアの計算\n",
    "r2 = r2_score(combined_df['y'], combined_df['predict'])\n",
    "print(f\"R2 Score: {r2}\")\n",
    "\n",
    "# MAEの計算\n",
    "mae = mean_absolute_error(combined_df['y'], combined_df['predict'])\n",
    "print(f\"Mean Absolute Error (MAE): {mae}\")\n",
    "\n",
    "      \n",
    "      # RMSEの計算\n",
    "rmse = np.sqrt(mean_squared_error(combined_df['y'], combined_df['predict']))\n",
    "print(f\"Root Mean Squared Error (RMSE): {rmse}\")"
   ]
  },
  {
   "cell_type": "code",
   "execution_count": null,
   "id": "ce770aaf",
   "metadata": {},
   "outputs": [],
   "source": []
  }
 ],
 "metadata": {
  "kernelspec": {
   "display_name": "s2-washino",
   "language": "python",
   "name": "washino"
  },
  "language_info": {
   "codemirror_mode": {
    "name": "ipython",
    "version": 3
   },
   "file_extension": ".py",
   "mimetype": "text/x-python",
   "name": "python",
   "nbconvert_exporter": "python",
   "pygments_lexer": "ipython3",
   "version": "3.10.13"
  }
 },
 "nbformat": 4,
 "nbformat_minor": 5
}
