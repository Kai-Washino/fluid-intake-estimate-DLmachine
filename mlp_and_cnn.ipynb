{
 "cells": [
  {
   "cell_type": "code",
   "execution_count": 1,
   "id": "eff15462",
   "metadata": {},
   "outputs": [
    {
     "name": "stderr",
     "output_type": "stream",
     "text": [
      "2024-05-16 18:27:49.886713: I tensorflow/core/util/port.cc:110] oneDNN custom operations are on. You may see slightly different numerical results due to floating-point round-off errors from different computation orders. To turn them off, set the environment variable `TF_ENABLE_ONEDNN_OPTS=0`.\n",
      "2024-05-16 18:27:49.929618: I tensorflow/core/platform/cpu_feature_guard.cc:182] This TensorFlow binary is optimized to use available CPU instructions in performance-critical operations.\n",
      "To enable the following instructions: AVX2 AVX512F AVX512_VNNI FMA, in other operations, rebuild TensorFlow with the appropriate compiler flags.\n",
      "2024-05-16 18:27:50.640096: W tensorflow/compiler/tf2tensorrt/utils/py_utils.cc:38] TF-TRT Warning: Could not find TensorRT\n"
     ]
    }
   ],
   "source": [
    "import tensorflow as tf\n",
    "from tensorflow.keras.layers import Masking, Flatten\n",
    "from tensorflow.keras.callbacks import EarlyStopping\n",
    "from tensorflow.keras.callbacks import ModelCheckpoint"
   ]
  },
  {
   "cell_type": "code",
   "execution_count": 2,
   "id": "f7aa03bd",
   "metadata": {},
   "outputs": [],
   "source": [
    "import numpy as np\n",
    "import cv2  # OpenCVライブラリ\n",
    "import matplotlib.pyplot as plt\n",
    "from matplotlib.colors import Normalize\n",
    "import os\n",
    "import sys\n",
    "import pathlib\n",
    "from pathlib import Path"
   ]
  },
  {
   "cell_type": "code",
   "execution_count": 3,
   "id": "a85d182a",
   "metadata": {},
   "outputs": [],
   "source": [
    "current_dir = os.getcwd()\n",
    "parent_dir = os.path.dirname(current_dir)\n",
    "sys.path.append(parent_dir)\n",
    "current_file_path = pathlib.Path(os.getcwd())\n",
    "parent_dir = current_file_path.parent"
   ]
  },
  {
   "cell_type": "code",
   "execution_count": 4,
   "id": "befedbcb",
   "metadata": {},
   "outputs": [
    {
     "name": "stdout",
     "output_type": "stream",
     "text": [
      "/home/s2/Desktop/washino/swallowing\n",
      "/home/s2/Desktop/washino/swallowing\n"
     ]
    }
   ],
   "source": [
    "import fluid_intake_estimate\n",
    "from fluid_intake_estimate import variable_data_set\n",
    "from fluid_intake_estimate import cnn"
   ]
  },
  {
   "cell_type": "code",
   "execution_count": 6,
   "id": "c683570d",
   "metadata": {},
   "outputs": [],
   "source": [
    "directory_path = parent_dir / 'dataset'\n",
    "path = directory_path / 'washino'"
   ]
  },
  {
   "cell_type": "code",
   "execution_count": 7,
   "id": "eefba043",
   "metadata": {},
   "outputs": [
    {
     "name": "stderr",
     "output_type": "stream",
     "text": [
      "2024-05-16 18:28:48.726409: I tensorflow/core/common_runtime/gpu/gpu_device.cc:1635] Created device /job:localhost/replica:0/task:0/device:GPU:0 with 22040 MB memory:  -> device: 0, name: NVIDIA GeForce RTX 3090, pci bus id: 0000:65:00.0, compute capability: 8.6\n"
     ]
    }
   ],
   "source": [
    "csv_path = path / 'washino.csv'\n",
    "data = variable_data_set.VariableDataSet(300)\n",
    "data.csv_to_dataset(path, csv_path, 0)\n",
    "model = cnn.CNN()"
   ]
  },
  {
   "cell_type": "code",
   "execution_count": 8,
   "id": "8ecec14e",
   "metadata": {
    "scrolled": true
   },
   "outputs": [
    {
     "name": "stdout",
     "output_type": "stream",
     "text": [
      "Epoch 1/50\n"
     ]
    },
    {
     "name": "stderr",
     "output_type": "stream",
     "text": [
      "2024-05-16 18:29:05.155569: I tensorflow/compiler/xla/stream_executor/cuda/cuda_dnn.cc:424] Loaded cuDNN version 8600\n",
      "2024-05-16 18:29:05.769446: I tensorflow/compiler/xla/stream_executor/cuda/cuda_blas.cc:637] TensorFloat-32 will be used for the matrix multiplication. This will only be logged once.\n",
      "2024-05-16 18:29:05.788680: I tensorflow/compiler/xla/service/service.cc:169] XLA service 0x3853dc0 initialized for platform CUDA (this does not guarantee that XLA will be used). Devices:\n",
      "2024-05-16 18:29:05.788704: I tensorflow/compiler/xla/service/service.cc:177]   StreamExecutor device (0): NVIDIA GeForce RTX 3090, Compute Capability 8.6\n",
      "2024-05-16 18:29:05.792288: I tensorflow/compiler/mlir/tensorflow/utils/dump_mlir_util.cc:269] disabling MLIR crash reproducer, set env var `MLIR_CRASH_REPRODUCER_DIRECTORY` to enable.\n",
      "2024-05-16 18:29:05.918646: I ./tensorflow/compiler/jit/device_compiler.h:180] Compiled cluster using XLA!  This line is logged at most once for the lifetime of the process.\n"
     ]
    },
    {
     "name": "stdout",
     "output_type": "stream",
     "text": [
      "9/9 [==============================] - ETA: 0s - loss: 0.4065 - mean_absolute_error: 0.4100 - mean_squared_error: 0.4065\n",
      "Epoch 1: val_mean_absolute_error improved from inf to 0.07100, saving model to cnn_20240516_model_best.keras\n",
      "9/9 [==============================] - 8s 498ms/step - loss: 0.4065 - mean_absolute_error: 0.4100 - mean_squared_error: 0.4065 - val_loss: 0.0050 - val_mean_absolute_error: 0.0710 - val_mean_squared_error: 0.0050\n",
      "Epoch 2/50\n",
      "9/9 [==============================] - ETA: 0s - loss: 0.1672 - mean_absolute_error: 0.3280 - mean_squared_error: 0.1672\n",
      "Epoch 2: val_mean_absolute_error did not improve from 0.07100\n",
      "9/9 [==============================] - 2s 176ms/step - loss: 0.1672 - mean_absolute_error: 0.3280 - mean_squared_error: 0.1672 - val_loss: 0.0320 - val_mean_absolute_error: 0.1788 - val_mean_squared_error: 0.0320\n",
      "Epoch 3/50\n",
      "9/9 [==============================] - ETA: 0s - loss: 0.0945 - mean_absolute_error: 0.2581 - mean_squared_error: 0.0945\n",
      "Epoch 3: val_mean_absolute_error did not improve from 0.07100\n",
      "9/9 [==============================] - 2s 181ms/step - loss: 0.0945 - mean_absolute_error: 0.2581 - mean_squared_error: 0.0945 - val_loss: 0.0979 - val_mean_absolute_error: 0.3128 - val_mean_squared_error: 0.0979\n",
      "Epoch 4/50\n",
      "9/9 [==============================] - ETA: 0s - loss: 0.0723 - mean_absolute_error: 0.2294 - mean_squared_error: 0.0723\n",
      "Epoch 4: val_mean_absolute_error did not improve from 0.07100\n",
      "9/9 [==============================] - 2s 185ms/step - loss: 0.0723 - mean_absolute_error: 0.2294 - mean_squared_error: 0.0723 - val_loss: 0.0915 - val_mean_absolute_error: 0.3025 - val_mean_squared_error: 0.0915\n",
      "Epoch 5/50\n",
      "9/9 [==============================] - ETA: 0s - loss: 0.0577 - mean_absolute_error: 0.2034 - mean_squared_error: 0.0577\n",
      "Epoch 5: val_mean_absolute_error did not improve from 0.07100\n",
      "9/9 [==============================] - 2s 176ms/step - loss: 0.0577 - mean_absolute_error: 0.2034 - mean_squared_error: 0.0577 - val_loss: 0.0631 - val_mean_absolute_error: 0.2512 - val_mean_squared_error: 0.0631\n",
      "Epoch 6/50\n",
      "9/9 [==============================] - ETA: 0s - loss: 0.0490 - mean_absolute_error: 0.1795 - mean_squared_error: 0.0490\n",
      "Epoch 6: val_mean_absolute_error did not improve from 0.07100\n",
      "9/9 [==============================] - 2s 180ms/step - loss: 0.0490 - mean_absolute_error: 0.1795 - mean_squared_error: 0.0490 - val_loss: 0.0549 - val_mean_absolute_error: 0.2344 - val_mean_squared_error: 0.0549\n",
      "Epoch 7/50\n",
      "9/9 [==============================] - ETA: 0s - loss: 0.0399 - mean_absolute_error: 0.1599 - mean_squared_error: 0.0399\n",
      "Epoch 7: val_mean_absolute_error did not improve from 0.07100\n",
      "9/9 [==============================] - 2s 188ms/step - loss: 0.0399 - mean_absolute_error: 0.1599 - mean_squared_error: 0.0399 - val_loss: 0.0302 - val_mean_absolute_error: 0.1737 - val_mean_squared_error: 0.0302\n",
      "Epoch 8/50\n",
      "9/9 [==============================] - ETA: 0s - loss: 0.0345 - mean_absolute_error: 0.1449 - mean_squared_error: 0.0345\n",
      "Epoch 8: val_mean_absolute_error did not improve from 0.07100\n",
      "9/9 [==============================] - 2s 179ms/step - loss: 0.0345 - mean_absolute_error: 0.1449 - mean_squared_error: 0.0345 - val_loss: 0.0170 - val_mean_absolute_error: 0.1305 - val_mean_squared_error: 0.0170\n",
      "Epoch 9/50\n",
      "9/9 [==============================] - ETA: 0s - loss: 0.0300 - mean_absolute_error: 0.1312 - mean_squared_error: 0.0300\n",
      "Epoch 9: val_mean_absolute_error did not improve from 0.07100\n",
      "9/9 [==============================] - 2s 179ms/step - loss: 0.0300 - mean_absolute_error: 0.1312 - mean_squared_error: 0.0300 - val_loss: 0.0064 - val_mean_absolute_error: 0.0799 - val_mean_squared_error: 0.0064\n",
      "Epoch 10/50\n",
      "9/9 [==============================] - ETA: 0s - loss: 0.0273 - mean_absolute_error: 0.1247 - mean_squared_error: 0.0273\n",
      "Epoch 10: val_mean_absolute_error did not improve from 0.07100\n",
      "9/9 [==============================] - 2s 183ms/step - loss: 0.0273 - mean_absolute_error: 0.1247 - mean_squared_error: 0.0273 - val_loss: 0.0099 - val_mean_absolute_error: 0.0996 - val_mean_squared_error: 0.0099\n",
      "Epoch 11/50\n",
      "9/9 [==============================] - ETA: 0s - loss: 0.0252 - mean_absolute_error: 0.1168 - mean_squared_error: 0.0252\n",
      "Epoch 11: val_mean_absolute_error improved from 0.07100 to 0.05677, saving model to cnn_20240516_model_best.keras\n",
      "9/9 [==============================] - 2s 193ms/step - loss: 0.0252 - mean_absolute_error: 0.1168 - mean_squared_error: 0.0252 - val_loss: 0.0032 - val_mean_absolute_error: 0.0568 - val_mean_squared_error: 0.0032\n",
      "Epoch 12/50\n",
      "9/9 [==============================] - ETA: 0s - loss: 0.0220 - mean_absolute_error: 0.1080 - mean_squared_error: 0.0220\n",
      "Epoch 12: val_mean_absolute_error improved from 0.05677 to 0.03478, saving model to cnn_20240516_model_best.keras\n",
      "9/9 [==============================] - 2s 186ms/step - loss: 0.0220 - mean_absolute_error: 0.1080 - mean_squared_error: 0.0220 - val_loss: 0.0012 - val_mean_absolute_error: 0.0348 - val_mean_squared_error: 0.0012\n",
      "Epoch 13/50\n",
      "9/9 [==============================] - ETA: 0s - loss: 0.0205 - mean_absolute_error: 0.1026 - mean_squared_error: 0.0205\n",
      "Epoch 13: val_mean_absolute_error did not improve from 0.03478\n",
      "9/9 [==============================] - 2s 175ms/step - loss: 0.0205 - mean_absolute_error: 0.1026 - mean_squared_error: 0.0205 - val_loss: 0.0030 - val_mean_absolute_error: 0.0545 - val_mean_squared_error: 0.0030\n",
      "Epoch 14/50\n",
      "9/9 [==============================] - ETA: 0s - loss: 0.0177 - mean_absolute_error: 0.0929 - mean_squared_error: 0.0177\n",
      "Epoch 14: val_mean_absolute_error did not improve from 0.03478\n",
      "9/9 [==============================] - 2s 182ms/step - loss: 0.0177 - mean_absolute_error: 0.0929 - mean_squared_error: 0.0177 - val_loss: 0.0013 - val_mean_absolute_error: 0.0358 - val_mean_squared_error: 0.0013\n",
      "Epoch 15/50\n",
      "9/9 [==============================] - ETA: 0s - loss: 0.0163 - mean_absolute_error: 0.0882 - mean_squared_error: 0.0163\n",
      "Epoch 15: val_mean_absolute_error did not improve from 0.03478\n",
      "9/9 [==============================] - 2s 180ms/step - loss: 0.0163 - mean_absolute_error: 0.0882 - mean_squared_error: 0.0163 - val_loss: 0.0043 - val_mean_absolute_error: 0.0652 - val_mean_squared_error: 0.0043\n",
      "Epoch 16/50\n",
      "9/9 [==============================] - ETA: 0s - loss: 0.0159 - mean_absolute_error: 0.0875 - mean_squared_error: 0.0159\n",
      "Epoch 16: val_mean_absolute_error did not improve from 0.03478\n",
      "9/9 [==============================] - 2s 182ms/step - loss: 0.0159 - mean_absolute_error: 0.0875 - mean_squared_error: 0.0159 - val_loss: 0.0070 - val_mean_absolute_error: 0.0836 - val_mean_squared_error: 0.0070\n",
      "Epoch 17/50\n",
      "9/9 [==============================] - ETA: 0s - loss: 0.0166 - mean_absolute_error: 0.0906 - mean_squared_error: 0.0166\n",
      "Epoch 17: val_mean_absolute_error did not improve from 0.03478\n",
      "9/9 [==============================] - 2s 176ms/step - loss: 0.0166 - mean_absolute_error: 0.0906 - mean_squared_error: 0.0166 - val_loss: 0.0020 - val_mean_absolute_error: 0.0446 - val_mean_squared_error: 0.0020\n",
      "Epoch 18/50\n",
      "9/9 [==============================] - ETA: 0s - loss: 0.0148 - mean_absolute_error: 0.0868 - mean_squared_error: 0.0148\n",
      "Epoch 18: val_mean_absolute_error did not improve from 0.03478\n",
      "9/9 [==============================] - 2s 176ms/step - loss: 0.0148 - mean_absolute_error: 0.0868 - mean_squared_error: 0.0148 - val_loss: 0.0027 - val_mean_absolute_error: 0.0520 - val_mean_squared_error: 0.0027\n",
      "Epoch 19/50\n",
      "9/9 [==============================] - ETA: 0s - loss: 0.0118 - mean_absolute_error: 0.0747 - mean_squared_error: 0.0118\n",
      "Epoch 19: val_mean_absolute_error improved from 0.03478 to 0.02552, saving model to cnn_20240516_model_best.keras\n",
      "9/9 [==============================] - 2s 187ms/step - loss: 0.0118 - mean_absolute_error: 0.0747 - mean_squared_error: 0.0118 - val_loss: 6.5123e-04 - val_mean_absolute_error: 0.0255 - val_mean_squared_error: 6.5123e-04\n",
      "Epoch 20/50\n",
      "9/9 [==============================] - ETA: 0s - loss: 0.0123 - mean_absolute_error: 0.0763 - mean_squared_error: 0.0123\n",
      "Epoch 20: val_mean_absolute_error did not improve from 0.02552\n",
      "9/9 [==============================] - 2s 178ms/step - loss: 0.0123 - mean_absolute_error: 0.0763 - mean_squared_error: 0.0123 - val_loss: 0.0047 - val_mean_absolute_error: 0.0687 - val_mean_squared_error: 0.0047\n"
     ]
    },
    {
     "name": "stdout",
     "output_type": "stream",
     "text": [
      "Epoch 21/50\n",
      "9/9 [==============================] - ETA: 0s - loss: 0.0100 - mean_absolute_error: 0.0691 - mean_squared_error: 0.0100\n",
      "Epoch 21: val_mean_absolute_error did not improve from 0.02552\n",
      "9/9 [==============================] - 2s 179ms/step - loss: 0.0100 - mean_absolute_error: 0.0691 - mean_squared_error: 0.0100 - val_loss: 6.6023e-04 - val_mean_absolute_error: 0.0257 - val_mean_squared_error: 6.6023e-04\n",
      "Epoch 22/50\n",
      "9/9 [==============================] - ETA: 0s - loss: 0.0086 - mean_absolute_error: 0.0623 - mean_squared_error: 0.0086\n",
      "Epoch 22: val_mean_absolute_error did not improve from 0.02552\n",
      "9/9 [==============================] - 2s 180ms/step - loss: 0.0086 - mean_absolute_error: 0.0623 - mean_squared_error: 0.0086 - val_loss: 0.0039 - val_mean_absolute_error: 0.0626 - val_mean_squared_error: 0.0039\n",
      "Epoch 23/50\n",
      "9/9 [==============================] - ETA: 0s - loss: 0.0078 - mean_absolute_error: 0.0585 - mean_squared_error: 0.0078\n",
      "Epoch 23: val_mean_absolute_error did not improve from 0.02552\n",
      "9/9 [==============================] - 2s 178ms/step - loss: 0.0078 - mean_absolute_error: 0.0585 - mean_squared_error: 0.0078 - val_loss: 0.0017 - val_mean_absolute_error: 0.0413 - val_mean_squared_error: 0.0017\n",
      "Epoch 24/50\n",
      "9/9 [==============================] - ETA: 0s - loss: 0.0076 - mean_absolute_error: 0.0561 - mean_squared_error: 0.0076\n",
      "Epoch 24: val_mean_absolute_error improved from 0.02552 to 0.02150, saving model to cnn_20240516_model_best.keras\n",
      "9/9 [==============================] - 2s 184ms/step - loss: 0.0076 - mean_absolute_error: 0.0561 - mean_squared_error: 0.0076 - val_loss: 4.6222e-04 - val_mean_absolute_error: 0.0215 - val_mean_squared_error: 4.6222e-04\n",
      "Epoch 25/50\n",
      "9/9 [==============================] - ETA: 0s - loss: 0.0063 - mean_absolute_error: 0.0502 - mean_squared_error: 0.0063\n",
      "Epoch 25: val_mean_absolute_error did not improve from 0.02150\n",
      "9/9 [==============================] - 2s 178ms/step - loss: 0.0063 - mean_absolute_error: 0.0502 - mean_squared_error: 0.0063 - val_loss: 0.0013 - val_mean_absolute_error: 0.0359 - val_mean_squared_error: 0.0013\n",
      "Epoch 26/50\n",
      "9/9 [==============================] - ETA: 0s - loss: 0.0058 - mean_absolute_error: 0.0503 - mean_squared_error: 0.0058\n",
      "Epoch 26: val_mean_absolute_error did not improve from 0.02150\n",
      "9/9 [==============================] - 2s 179ms/step - loss: 0.0058 - mean_absolute_error: 0.0503 - mean_squared_error: 0.0058 - val_loss: 0.0018 - val_mean_absolute_error: 0.0423 - val_mean_squared_error: 0.0018\n",
      "Epoch 27/50\n",
      "9/9 [==============================] - ETA: 0s - loss: 0.0061 - mean_absolute_error: 0.0518 - mean_squared_error: 0.0061\n",
      "Epoch 27: val_mean_absolute_error did not improve from 0.02150\n",
      "9/9 [==============================] - 2s 179ms/step - loss: 0.0061 - mean_absolute_error: 0.0518 - mean_squared_error: 0.0061 - val_loss: 8.4365e-04 - val_mean_absolute_error: 0.0290 - val_mean_squared_error: 8.4365e-04\n",
      "Epoch 28/50\n",
      "9/9 [==============================] - ETA: 0s - loss: 0.0062 - mean_absolute_error: 0.0521 - mean_squared_error: 0.0062\n",
      "Epoch 28: val_mean_absolute_error did not improve from 0.02150\n",
      "9/9 [==============================] - 2s 179ms/step - loss: 0.0062 - mean_absolute_error: 0.0521 - mean_squared_error: 0.0062 - val_loss: 0.0030 - val_mean_absolute_error: 0.0544 - val_mean_squared_error: 0.0030\n",
      "Epoch 29/50\n",
      "9/9 [==============================] - ETA: 0s - loss: 0.0084 - mean_absolute_error: 0.0559 - mean_squared_error: 0.0084\n",
      "Epoch 29: val_mean_absolute_error did not improve from 0.02150\n",
      "9/9 [==============================] - 2s 174ms/step - loss: 0.0084 - mean_absolute_error: 0.0559 - mean_squared_error: 0.0084 - val_loss: 0.0011 - val_mean_absolute_error: 0.0334 - val_mean_squared_error: 0.0011\n",
      "Epoch 30/50\n",
      "9/9 [==============================] - ETA: 0s - loss: 0.0082 - mean_absolute_error: 0.0641 - mean_squared_error: 0.0082\n",
      "Epoch 30: val_mean_absolute_error did not improve from 0.02150\n",
      "9/9 [==============================] - 2s 177ms/step - loss: 0.0082 - mean_absolute_error: 0.0641 - mean_squared_error: 0.0082 - val_loss: 0.0038 - val_mean_absolute_error: 0.0619 - val_mean_squared_error: 0.0038\n",
      "Epoch 31/50\n",
      "9/9 [==============================] - ETA: 0s - loss: 0.0070 - mean_absolute_error: 0.0619 - mean_squared_error: 0.0070\n",
      "Epoch 31: val_mean_absolute_error did not improve from 0.02150\n",
      "9/9 [==============================] - 2s 178ms/step - loss: 0.0070 - mean_absolute_error: 0.0619 - mean_squared_error: 0.0070 - val_loss: 0.0016 - val_mean_absolute_error: 0.0394 - val_mean_squared_error: 0.0016\n",
      "Epoch 32/50\n",
      "9/9 [==============================] - ETA: 0s - loss: 0.0060 - mean_absolute_error: 0.0557 - mean_squared_error: 0.0060\n",
      "Epoch 32: val_mean_absolute_error did not improve from 0.02150\n",
      "9/9 [==============================] - 2s 176ms/step - loss: 0.0060 - mean_absolute_error: 0.0557 - mean_squared_error: 0.0060 - val_loss: 0.0019 - val_mean_absolute_error: 0.0436 - val_mean_squared_error: 0.0019\n",
      "Epoch 33/50\n",
      "9/9 [==============================] - ETA: 0s - loss: 0.0049 - mean_absolute_error: 0.0510 - mean_squared_error: 0.0049\n",
      "Epoch 33: val_mean_absolute_error did not improve from 0.02150\n",
      "9/9 [==============================] - 2s 178ms/step - loss: 0.0049 - mean_absolute_error: 0.0510 - mean_squared_error: 0.0049 - val_loss: 0.0022 - val_mean_absolute_error: 0.0466 - val_mean_squared_error: 0.0022\n",
      "Epoch 34/50\n",
      "9/9 [==============================] - ETA: 0s - loss: 0.0045 - mean_absolute_error: 0.0469 - mean_squared_error: 0.0045\n",
      "Epoch 34: val_mean_absolute_error improved from 0.02150 to 0.01557, saving model to cnn_20240516_model_best.keras\n",
      "9/9 [==============================] - 2s 186ms/step - loss: 0.0045 - mean_absolute_error: 0.0469 - mean_squared_error: 0.0045 - val_loss: 2.4230e-04 - val_mean_absolute_error: 0.0156 - val_mean_squared_error: 2.4230e-04\n",
      "Epoch 35/50\n",
      "9/9 [==============================] - ETA: 0s - loss: 0.0040 - mean_absolute_error: 0.0460 - mean_squared_error: 0.0040\n",
      "Epoch 35: val_mean_absolute_error improved from 0.01557 to 0.01174, saving model to cnn_20240516_model_best.keras\n",
      "9/9 [==============================] - 2s 184ms/step - loss: 0.0040 - mean_absolute_error: 0.0460 - mean_squared_error: 0.0040 - val_loss: 1.3792e-04 - val_mean_absolute_error: 0.0117 - val_mean_squared_error: 1.3792e-04\n",
      "Epoch 36/50\n",
      "9/9 [==============================] - ETA: 0s - loss: 0.0037 - mean_absolute_error: 0.0431 - mean_squared_error: 0.0037\n",
      "Epoch 36: val_mean_absolute_error did not improve from 0.01174\n",
      "9/9 [==============================] - 2s 173ms/step - loss: 0.0037 - mean_absolute_error: 0.0431 - mean_squared_error: 0.0037 - val_loss: 7.0693e-04 - val_mean_absolute_error: 0.0266 - val_mean_squared_error: 7.0693e-04\n",
      "Epoch 37/50\n",
      "9/9 [==============================] - ETA: 0s - loss: 0.0043 - mean_absolute_error: 0.0469 - mean_squared_error: 0.0043\n",
      "Epoch 37: val_mean_absolute_error improved from 0.01174 to 0.00929, saving model to cnn_20240516_model_best.keras\n",
      "9/9 [==============================] - 2s 182ms/step - loss: 0.0043 - mean_absolute_error: 0.0469 - mean_squared_error: 0.0043 - val_loss: 8.6361e-05 - val_mean_absolute_error: 0.0093 - val_mean_squared_error: 8.6361e-05\n",
      "Epoch 38/50\n",
      "9/9 [==============================] - ETA: 0s - loss: 0.0043 - mean_absolute_error: 0.0483 - mean_squared_error: 0.0043\n",
      "Epoch 38: val_mean_absolute_error did not improve from 0.00929\n",
      "9/9 [==============================] - 2s 179ms/step - loss: 0.0043 - mean_absolute_error: 0.0483 - mean_squared_error: 0.0043 - val_loss: 1.6739e-04 - val_mean_absolute_error: 0.0129 - val_mean_squared_error: 1.6739e-04\n",
      "Epoch 39/50\n",
      "9/9 [==============================] - ETA: 0s - loss: 0.0042 - mean_absolute_error: 0.0497 - mean_squared_error: 0.0042\n",
      "Epoch 39: val_mean_absolute_error improved from 0.00929 to 0.00649, saving model to cnn_20240516_model_best.keras\n",
      "9/9 [==============================] - 2s 186ms/step - loss: 0.0042 - mean_absolute_error: 0.0497 - mean_squared_error: 0.0042 - val_loss: 4.2133e-05 - val_mean_absolute_error: 0.0065 - val_mean_squared_error: 4.2133e-05\n",
      "Epoch 40/50\n"
     ]
    },
    {
     "name": "stdout",
     "output_type": "stream",
     "text": [
      "9/9 [==============================] - ETA: 0s - loss: 0.0056 - mean_absolute_error: 0.0581 - mean_squared_error: 0.0056\n",
      "Epoch 40: val_mean_absolute_error did not improve from 0.00649\n",
      "9/9 [==============================] - 2s 178ms/step - loss: 0.0056 - mean_absolute_error: 0.0581 - mean_squared_error: 0.0056 - val_loss: 2.0355e-04 - val_mean_absolute_error: 0.0143 - val_mean_squared_error: 2.0355e-04\n",
      "Epoch 41/50\n",
      "9/9 [==============================] - ETA: 0s - loss: 0.0040 - mean_absolute_error: 0.0469 - mean_squared_error: 0.0040\n",
      "Epoch 41: val_mean_absolute_error improved from 0.00649 to 0.00137, saving model to cnn_20240516_model_best.keras\n",
      "9/9 [==============================] - 2s 180ms/step - loss: 0.0040 - mean_absolute_error: 0.0469 - mean_squared_error: 0.0040 - val_loss: 1.8706e-06 - val_mean_absolute_error: 0.0014 - val_mean_squared_error: 1.8706e-06\n",
      "Epoch 42/50\n",
      "9/9 [==============================] - ETA: 0s - loss: 0.0041 - mean_absolute_error: 0.0484 - mean_squared_error: 0.0041\n",
      "Epoch 42: val_mean_absolute_error did not improve from 0.00137\n",
      "9/9 [==============================] - 2s 178ms/step - loss: 0.0041 - mean_absolute_error: 0.0484 - mean_squared_error: 0.0041 - val_loss: 1.7635e-04 - val_mean_absolute_error: 0.0133 - val_mean_squared_error: 1.7635e-04\n",
      "Epoch 43/50\n",
      "9/9 [==============================] - ETA: 0s - loss: 0.0031 - mean_absolute_error: 0.0379 - mean_squared_error: 0.0031\n",
      "Epoch 43: val_mean_absolute_error did not improve from 0.00137\n",
      "9/9 [==============================] - 2s 178ms/step - loss: 0.0031 - mean_absolute_error: 0.0379 - mean_squared_error: 0.0031 - val_loss: 1.3524e-04 - val_mean_absolute_error: 0.0116 - val_mean_squared_error: 1.3524e-04\n",
      "Epoch 44/50\n",
      "9/9 [==============================] - ETA: 0s - loss: 0.0022 - mean_absolute_error: 0.0337 - mean_squared_error: 0.0022\n",
      "Epoch 44: val_mean_absolute_error did not improve from 0.00137\n",
      "9/9 [==============================] - 2s 180ms/step - loss: 0.0022 - mean_absolute_error: 0.0337 - mean_squared_error: 0.0022 - val_loss: 4.9926e-04 - val_mean_absolute_error: 0.0223 - val_mean_squared_error: 4.9926e-04\n",
      "Epoch 45/50\n",
      "9/9 [==============================] - ETA: 0s - loss: 0.0018 - mean_absolute_error: 0.0292 - mean_squared_error: 0.0018\n",
      "Epoch 45: val_mean_absolute_error did not improve from 0.00137\n",
      "9/9 [==============================] - 2s 176ms/step - loss: 0.0018 - mean_absolute_error: 0.0292 - mean_squared_error: 0.0018 - val_loss: 1.6053e-05 - val_mean_absolute_error: 0.0040 - val_mean_squared_error: 1.6053e-05\n",
      "Epoch 46/50\n",
      "9/9 [==============================] - ETA: 0s - loss: 0.0016 - mean_absolute_error: 0.0253 - mean_squared_error: 0.0016\n",
      "Epoch 46: val_mean_absolute_error did not improve from 0.00137\n",
      "9/9 [==============================] - 2s 181ms/step - loss: 0.0016 - mean_absolute_error: 0.0253 - mean_squared_error: 0.0016 - val_loss: 3.5370e-06 - val_mean_absolute_error: 0.0019 - val_mean_squared_error: 3.5370e-06\n",
      "Epoch 47/50\n",
      "9/9 [==============================] - ETA: 0s - loss: 0.0012 - mean_absolute_error: 0.0246 - mean_squared_error: 0.0012\n",
      "Epoch 47: val_mean_absolute_error did not improve from 0.00137\n",
      "9/9 [==============================] - 2s 178ms/step - loss: 0.0012 - mean_absolute_error: 0.0246 - mean_squared_error: 0.0012 - val_loss: 1.0162e-05 - val_mean_absolute_error: 0.0032 - val_mean_squared_error: 1.0162e-05\n",
      "Epoch 48/50\n",
      "9/9 [==============================] - ETA: 0s - loss: 9.1880e-04 - mean_absolute_error: 0.0205 - mean_squared_error: 9.1880e-04\n",
      "Epoch 48: val_mean_absolute_error did not improve from 0.00137\n",
      "9/9 [==============================] - 2s 180ms/step - loss: 9.1880e-04 - mean_absolute_error: 0.0205 - mean_squared_error: 9.1880e-04 - val_loss: 1.2976e-04 - val_mean_absolute_error: 0.0114 - val_mean_squared_error: 1.2976e-04\n",
      "Epoch 49/50\n",
      "9/9 [==============================] - ETA: 0s - loss: 0.0011 - mean_absolute_error: 0.0219 - mean_squared_error: 0.0011      \n",
      "Epoch 49: val_mean_absolute_error did not improve from 0.00137\n",
      "9/9 [==============================] - 2s 178ms/step - loss: 0.0011 - mean_absolute_error: 0.0219 - mean_squared_error: 0.0011 - val_loss: 3.1468e-05 - val_mean_absolute_error: 0.0056 - val_mean_squared_error: 3.1468e-05\n",
      "Epoch 50/50\n",
      "9/9 [==============================] - ETA: 0s - loss: 7.1849e-04 - mean_absolute_error: 0.0174 - mean_squared_error: 7.1849e-04\n",
      "Epoch 50: val_mean_absolute_error did not improve from 0.00137\n",
      "9/9 [==============================] - 2s 177ms/step - loss: 7.1849e-04 - mean_absolute_error: 0.0174 - mean_squared_error: 7.1849e-04 - val_loss: 9.0101e-06 - val_mean_absolute_error: 0.0030 - val_mean_squared_error: 9.0101e-06\n"
     ]
    }
   ],
   "source": [
    "model_checkpoint = ModelCheckpoint(\n",
    "    filepath='cnn_20240516_model_best.keras',  # 保存するファイルのパス\n",
    "    monitor='val_mean_absolute_error',        # 監視する値\n",
    "    save_best_only=True,       # 最良のモデルのみを保存\n",
    "    verbose=1,                 # 進行状況のメッセージ表示\n",
    "    mode='min'                 # 「減少」を監視\n",
    ")\n",
    "\n",
    "model.training(data.X, data.y, 50, 32, model_checkpoint = model_checkpoint)"
   ]
  },
  {
   "cell_type": "code",
   "execution_count": null,
   "id": "04c813ea",
   "metadata": {},
   "outputs": [],
   "source": []
  }
 ],
 "metadata": {
  "kernelspec": {
   "display_name": "s2-washino",
   "language": "python",
   "name": "washino"
  },
  "language_info": {
   "codemirror_mode": {
    "name": "ipython",
    "version": 3
   },
   "file_extension": ".py",
   "mimetype": "text/x-python",
   "name": "python",
   "nbconvert_exporter": "python",
   "pygments_lexer": "ipython3",
   "version": "3.10.13"
  }
 },
 "nbformat": 4,
 "nbformat_minor": 5
}
