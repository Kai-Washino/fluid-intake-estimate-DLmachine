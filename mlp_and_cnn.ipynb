{
 "cells": [
  {
   "cell_type": "code",
   "execution_count": null,
   "id": "eff15462",
   "metadata": {},
   "outputs": [],
   "source": [
    "import tensorflow as tf\n",
    "from tensorflow.keras.layers import Masking, Flatten\n",
    "from tensorflow.keras.callbacks import EarlyStopping\n",
    "from tensorflow.keras.callbacks import ModelCheckpoint\n",
    "from sklearn.model_selection import KFold"
   ]
  },
  {
   "cell_type": "code",
   "execution_count": 2,
   "id": "f7aa03bd",
   "metadata": {},
   "outputs": [],
   "source": [
    "import numpy as np\n",
    "import pandas as pd\n",
    "import cv2  # OpenCVライブラリ\n",
    "import matplotlib.pyplot as plt\n",
    "from matplotlib.colors import Normalize\n",
    "import glob\n",
    "import os\n",
    "import sys\n",
    "import pathlib\n",
    "from pathlib import Path\n",
    "\n",
    "from sklearn.metrics import r2_score, mean_absolute_error, mean_squared_error"
   ]
  },
  {
   "cell_type": "code",
   "execution_count": 3,
   "id": "a85d182a",
   "metadata": {},
   "outputs": [],
   "source": [
    "current_dir = os.getcwd()\n",
    "parent_dir = os.path.dirname(current_dir)\n",
    "sys.path.append(parent_dir)\n",
    "current_file_path = pathlib.Path(os.getcwd())\n",
    "parent_dir = current_file_path.parent"
   ]
  },
  {
   "cell_type": "code",
   "execution_count": 4,
   "id": "befedbcb",
   "metadata": {},
   "outputs": [
    {
     "name": "stdout",
     "output_type": "stream",
     "text": [
      "/home/s2/Desktop/washino/swallowing\n",
      "/home/s2/Desktop/washino/swallowing\n"
     ]
    }
   ],
   "source": [
    "import fluid_intake_estimate\n",
    "from fluid_intake_estimate import variable_data_set\n",
    "from fluid_intake_estimate import cnn\n",
    "from fluid_intake_estimate import mlp"
   ]
  },
  {
   "cell_type": "code",
   "execution_count": 5,
   "id": "ef3d2896",
   "metadata": {},
   "outputs": [],
   "source": [
    "directory_path = parent_dir / 'dataset'"
   ]
  },
  {
   "cell_type": "markdown",
   "id": "ca4febb8",
   "metadata": {},
   "source": [
    "# 鷲野のデータを学習"
   ]
  },
  {
   "cell_type": "code",
   "execution_count": null,
   "id": "eefba043",
   "metadata": {},
   "outputs": [],
   "source": [
    "path = directory_path / 'washino'\n",
    "csv_path = path / 'washino.csv'\n",
    "data = variable_data_set.VariableDataSet(300)\n",
    "data.csv_to_dataset(path, csv_path, 0)\n",
    "model = cnn.CNN()"
   ]
  },
  {
   "cell_type": "code",
   "execution_count": null,
   "id": "8ecec14e",
   "metadata": {
    "scrolled": true
   },
   "outputs": [],
   "source": [
    "model_checkpoint = ModelCheckpoint(\n",
    "    filepath='cnn_20240516_model_best.keras',  # 保存するファイルのパス\n",
    "    monitor='val_mean_absolute_error',        # 監視する値\n",
    "    save_best_only=True,       # 最良のモデルのみを保存\n",
    "    verbose=1,                 # 進行状況のメッセージ表示\n",
    "    mode='min'                 # 「減少」を監視\n",
    ")\n",
    "\n",
    "model.training(data.X, data.y, 50, 32, model_checkpoint = model_checkpoint)\n",
    "model.save('cnn_20240516_model_v1.keras')"
   ]
  },
  {
   "cell_type": "markdown",
   "id": "71662b92",
   "metadata": {},
   "source": [
    "# 全員のデータを学習して分割交差検証"
   ]
  },
  {
   "cell_type": "code",
   "execution_count": 6,
   "id": "04c813ea",
   "metadata": {},
   "outputs": [
    {
     "name": "stdout",
     "output_type": "stream",
     "text": [
      "Warning: No data available for signal processing.\n",
      "8\n",
      "[]\n",
      "Warning: No data available for signal processing.\n",
      "161\n",
      "[]\n",
      "352\n",
      "382\n",
      "413\n",
      "444\n",
      "Warning: No data available for signal processing.\n",
      "447\n",
      "[]\n",
      "474\n",
      "504\n",
      "538\n",
      "571\n",
      "601\n",
      "Warning: No data available for signal processing.\n",
      "627\n",
      "[]\n",
      "631\n",
      "661\n",
      "694\n",
      "724\n",
      "755\n",
      "786\n"
     ]
    }
   ],
   "source": [
    "names = ['washino', 'haruki', 'ezumi', 'hikaru', 'ibuki', 'kanata', 'kazuki', 'kishimoto', 'kosasayama', 'mocchi', 'nakaryo', 'ruku', 'shibata', 'soichiro', 'tsuji']\n",
    "# data = variable_data_set.VariableDataSet(786, scale=1, time_range = 70000)\n",
    "data = variable_data_set.VariableDataSet(786, scale=222, time_range = 20000)\n",
    "# data = variable_data_set.VariableDataSet(786, scale=0, time_range = 20000)\n",
    "\n",
    "# path = directory_path / 'washino'\n",
    "# csv_path = path / 'washino.csv'\n",
    "# data.csv_to_dataset(path, csv_path, 0)\n",
    "\n",
    "count = 0\n",
    "\n",
    "for name in names:    \n",
    "    path = directory_path / name\n",
    "    wav_files = glob.glob(os.path.join(path, '*.wav'))\n",
    "    wav_file_count = len(wav_files)    \n",
    "    \n",
    "    csv_path = path / f'{name}.csv'    \n",
    "    data.csv_to_dataset(path, csv_path, count, signal_processing='fft')\n",
    "    count += wav_file_count\n",
    "    print(count)"
   ]
  },
  {
   "cell_type": "code",
   "execution_count": 7,
   "id": "820e741a",
   "metadata": {},
   "outputs": [],
   "source": [
    "# 分割交差検証の設定\n",
    "kf = KFold(n_splits=5, shuffle=True, random_state=42)\n",
    "\n",
    "# データを保持するためのリスト\n",
    "train_data_splits_index = []\n",
    "test_data_splits_index = []\n",
    "\n",
    "# データのインデックスを分割\n",
    "for train_index, test_index in kf.split(data.X):\n",
    "    train_data_splits_index.append(train_index)\n",
    "    test_data_splits_index.append(test_index)"
   ]
  },
  {
   "cell_type": "code",
   "execution_count": 8,
   "id": "86fa872a",
   "metadata": {},
   "outputs": [],
   "source": [
    "y = []\n",
    "predict = []"
   ]
  },
  {
   "cell_type": "code",
   "execution_count": 9,
   "id": "3d58c1a2",
   "metadata": {},
   "outputs": [
    {
     "name": "stderr",
     "output_type": "stream",
     "text": [
      "2024-06-06 15:40:28.736593: I tensorflow/core/common_runtime/gpu/gpu_device.cc:1635] Created device /job:localhost/replica:0/task:0/device:GPU:0 with 22006 MB memory:  -> device: 0, name: NVIDIA GeForce RTX 3090, pci bus id: 0000:65:00.0, compute capability: 8.6\n"
     ]
    },
    {
     "name": "stdout",
     "output_type": "stream",
     "text": [
      "(786, 20000, 222)\n",
      "Epoch 1/50\n"
     ]
    },
    {
     "name": "stderr",
     "output_type": "stream",
     "text": [
      "2024-06-06 15:40:48.864643: I tensorflow/compiler/xla/stream_executor/cuda/cuda_dnn.cc:424] Loaded cuDNN version 8600\n",
      "2024-06-06 15:40:49.218513: I tensorflow/compiler/xla/stream_executor/cuda/cuda_blas.cc:637] TensorFloat-32 will be used for the matrix multiplication. This will only be logged once.\n",
      "2024-06-06 15:40:49.256882: I tensorflow/compiler/xla/service/service.cc:169] XLA service 0x8275360 initialized for platform CUDA (this does not guarantee that XLA will be used). Devices:\n",
      "2024-06-06 15:40:49.256913: I tensorflow/compiler/xla/service/service.cc:177]   StreamExecutor device (0): NVIDIA GeForce RTX 3090, Compute Capability 8.6\n",
      "2024-06-06 15:40:49.262852: I tensorflow/compiler/mlir/tensorflow/utils/dump_mlir_util.cc:269] disabling MLIR crash reproducer, set env var `MLIR_CRASH_REPRODUCER_DIRECTORY` to enable.\n",
      "2024-06-06 15:40:49.410589: I ./tensorflow/compiler/jit/device_compiler.h:180] Compiled cluster using XLA!  This line is logged at most once for the lifetime of the process.\n"
     ]
    },
    {
     "name": "stdout",
     "output_type": "stream",
     "text": [
      "18/18 [==============================] - 8s 237ms/step - loss: 0.1271 - mean_absolute_error: 0.2881 - mean_squared_error: 0.1271 - val_loss: 0.0859 - val_mean_absolute_error: 0.2499 - val_mean_squared_error: 0.0859\n",
      "Epoch 2/50\n",
      "18/18 [==============================] - 2s 110ms/step - loss: 0.0844 - mean_absolute_error: 0.2482 - mean_squared_error: 0.0844 - val_loss: 0.0811 - val_mean_absolute_error: 0.2423 - val_mean_squared_error: 0.0811\n",
      "Epoch 3/50\n",
      "18/18 [==============================] - 2s 112ms/step - loss: 0.0894 - mean_absolute_error: 0.2500 - mean_squared_error: 0.0894 - val_loss: 0.0867 - val_mean_absolute_error: 0.2550 - val_mean_squared_error: 0.0867\n",
      "Epoch 4/50\n",
      "18/18 [==============================] - 2s 111ms/step - loss: 0.0821 - mean_absolute_error: 0.2445 - mean_squared_error: 0.0821 - val_loss: 0.0835 - val_mean_absolute_error: 0.2509 - val_mean_squared_error: 0.0835\n",
      "Epoch 5/50\n",
      "18/18 [==============================] - 2s 106ms/step - loss: 0.0717 - mean_absolute_error: 0.2255 - mean_squared_error: 0.0717 - val_loss: 0.0786 - val_mean_absolute_error: 0.2414 - val_mean_squared_error: 0.0786\n",
      "Epoch 6/50\n",
      "18/18 [==============================] - 2s 114ms/step - loss: 0.0716 - mean_absolute_error: 0.2220 - mean_squared_error: 0.0716 - val_loss: 0.0807 - val_mean_absolute_error: 0.2464 - val_mean_squared_error: 0.0807\n",
      "Epoch 7/50\n",
      "18/18 [==============================] - 2s 110ms/step - loss: 0.0545 - mean_absolute_error: 0.1924 - mean_squared_error: 0.0545 - val_loss: 0.0946 - val_mean_absolute_error: 0.2591 - val_mean_squared_error: 0.0946\n",
      "Epoch 8/50\n",
      "18/18 [==============================] - 2s 102ms/step - loss: 0.0404 - mean_absolute_error: 0.1581 - mean_squared_error: 0.0404 - val_loss: 0.1094 - val_mean_absolute_error: 0.2748 - val_mean_squared_error: 0.1094\n",
      "Epoch 9/50\n",
      "18/18 [==============================] - 2s 109ms/step - loss: 0.0320 - mean_absolute_error: 0.1398 - mean_squared_error: 0.0320 - val_loss: 0.1167 - val_mean_absolute_error: 0.2801 - val_mean_squared_error: 0.1167\n",
      "Epoch 10/50\n",
      "18/18 [==============================] - 2s 110ms/step - loss: 0.0279 - mean_absolute_error: 0.1256 - mean_squared_error: 0.0279 - val_loss: 0.1281 - val_mean_absolute_error: 0.3007 - val_mean_squared_error: 0.1281\n",
      "Epoch 11/50\n",
      "18/18 [==============================] - 2s 106ms/step - loss: 0.0240 - mean_absolute_error: 0.1132 - mean_squared_error: 0.0240 - val_loss: 0.1246 - val_mean_absolute_error: 0.2926 - val_mean_squared_error: 0.1246\n",
      "Epoch 12/50\n",
      "18/18 [==============================] - 2s 111ms/step - loss: 0.0219 - mean_absolute_error: 0.1099 - mean_squared_error: 0.0219 - val_loss: 0.1171 - val_mean_absolute_error: 0.2873 - val_mean_squared_error: 0.1171\n",
      "Epoch 13/50\n",
      "18/18 [==============================] - 2s 109ms/step - loss: 0.0174 - mean_absolute_error: 0.0913 - mean_squared_error: 0.0174 - val_loss: 0.1276 - val_mean_absolute_error: 0.2979 - val_mean_squared_error: 0.1276\n",
      "Epoch 14/50\n",
      "18/18 [==============================] - 2s 110ms/step - loss: 0.0141 - mean_absolute_error: 0.0808 - mean_squared_error: 0.0141 - val_loss: 0.1328 - val_mean_absolute_error: 0.3018 - val_mean_squared_error: 0.1328\n",
      "Epoch 15/50\n",
      "18/18 [==============================] - 2s 110ms/step - loss: 0.0130 - mean_absolute_error: 0.0771 - mean_squared_error: 0.0130 - val_loss: 0.1229 - val_mean_absolute_error: 0.2915 - val_mean_squared_error: 0.1229\n",
      "Epoch 16/50\n",
      "18/18 [==============================] - 2s 109ms/step - loss: 0.0111 - mean_absolute_error: 0.0687 - mean_squared_error: 0.0111 - val_loss: 0.1419 - val_mean_absolute_error: 0.3091 - val_mean_squared_error: 0.1419\n",
      "Epoch 17/50\n",
      "18/18 [==============================] - 2s 109ms/step - loss: 0.0100 - mean_absolute_error: 0.0650 - mean_squared_error: 0.0100 - val_loss: 0.1365 - val_mean_absolute_error: 0.3005 - val_mean_squared_error: 0.1365\n",
      "Epoch 18/50\n",
      "18/18 [==============================] - 2s 114ms/step - loss: 0.0095 - mean_absolute_error: 0.0642 - mean_squared_error: 0.0095 - val_loss: 0.1330 - val_mean_absolute_error: 0.2987 - val_mean_squared_error: 0.1330\n",
      "Epoch 19/50\n",
      "18/18 [==============================] - 2s 110ms/step - loss: 0.0080 - mean_absolute_error: 0.0570 - mean_squared_error: 0.0080 - val_loss: 0.1296 - val_mean_absolute_error: 0.2921 - val_mean_squared_error: 0.1296\n",
      "Epoch 20/50\n",
      "18/18 [==============================] - 2s 109ms/step - loss: 0.0071 - mean_absolute_error: 0.0526 - mean_squared_error: 0.0071 - val_loss: 0.1289 - val_mean_absolute_error: 0.2933 - val_mean_squared_error: 0.1289\n",
      "Epoch 21/50\n",
      "18/18 [==============================] - 2s 108ms/step - loss: 0.0064 - mean_absolute_error: 0.0497 - mean_squared_error: 0.0064 - val_loss: 0.1306 - val_mean_absolute_error: 0.2937 - val_mean_squared_error: 0.1306\n",
      "Epoch 22/50\n",
      "18/18 [==============================] - 2s 112ms/step - loss: 0.0059 - mean_absolute_error: 0.0488 - mean_squared_error: 0.0059 - val_loss: 0.1315 - val_mean_absolute_error: 0.2978 - val_mean_squared_error: 0.1315\n",
      "Epoch 23/50\n",
      "18/18 [==============================] - 2s 109ms/step - loss: 0.0050 - mean_absolute_error: 0.0419 - mean_squared_error: 0.0050 - val_loss: 0.1280 - val_mean_absolute_error: 0.2903 - val_mean_squared_error: 0.1280\n",
      "Epoch 24/50\n",
      "18/18 [==============================] - 2s 111ms/step - loss: 0.0048 - mean_absolute_error: 0.0412 - mean_squared_error: 0.0048 - val_loss: 0.1342 - val_mean_absolute_error: 0.2985 - val_mean_squared_error: 0.1342\n",
      "Epoch 25/50\n",
      "18/18 [==============================] - 2s 109ms/step - loss: 0.0055 - mean_absolute_error: 0.0510 - mean_squared_error: 0.0055 - val_loss: 0.1285 - val_mean_absolute_error: 0.2910 - val_mean_squared_error: 0.1285\n",
      "Epoch 26/50\n",
      "18/18 [==============================] - 2s 101ms/step - loss: 0.0060 - mean_absolute_error: 0.0517 - mean_squared_error: 0.0060 - val_loss: 0.1266 - val_mean_absolute_error: 0.2914 - val_mean_squared_error: 0.1266\n",
      "Epoch 27/50\n",
      "18/18 [==============================] - 2s 109ms/step - loss: 0.0048 - mean_absolute_error: 0.0450 - mean_squared_error: 0.0048 - val_loss: 0.1238 - val_mean_absolute_error: 0.2881 - val_mean_squared_error: 0.1238\n",
      "Epoch 28/50\n",
      "18/18 [==============================] - 2s 110ms/step - loss: 0.0040 - mean_absolute_error: 0.0390 - mean_squared_error: 0.0040 - val_loss: 0.1284 - val_mean_absolute_error: 0.2927 - val_mean_squared_error: 0.1284\n",
      "Epoch 29/50\n",
      "18/18 [==============================] - 2s 115ms/step - loss: 0.0036 - mean_absolute_error: 0.0345 - mean_squared_error: 0.0036 - val_loss: 0.1271 - val_mean_absolute_error: 0.2923 - val_mean_squared_error: 0.1271\n",
      "Epoch 30/50\n",
      "18/18 [==============================] - 2s 109ms/step - loss: 0.0031 - mean_absolute_error: 0.0313 - mean_squared_error: 0.0031 - val_loss: 0.1292 - val_mean_absolute_error: 0.2939 - val_mean_squared_error: 0.1292\n",
      "Epoch 31/50\n",
      "18/18 [==============================] - 2s 104ms/step - loss: 0.0033 - mean_absolute_error: 0.0352 - mean_squared_error: 0.0033 - val_loss: 0.1362 - val_mean_absolute_error: 0.3027 - val_mean_squared_error: 0.1362\n",
      "Epoch 32/50\n",
      "18/18 [==============================] - 2s 112ms/step - loss: 0.0044 - mean_absolute_error: 0.0443 - mean_squared_error: 0.0044 - val_loss: 0.1327 - val_mean_absolute_error: 0.2961 - val_mean_squared_error: 0.1327\n",
      "Epoch 33/50\n",
      "18/18 [==============================] - 2s 110ms/step - loss: 0.0040 - mean_absolute_error: 0.0421 - mean_squared_error: 0.0040 - val_loss: 0.1265 - val_mean_absolute_error: 0.2880 - val_mean_squared_error: 0.1265\n",
      "Epoch 34/50\n",
      "18/18 [==============================] - 2s 108ms/step - loss: 0.0055 - mean_absolute_error: 0.0530 - mean_squared_error: 0.0055 - val_loss: 0.1248 - val_mean_absolute_error: 0.2915 - val_mean_squared_error: 0.1248\n",
      "Epoch 35/50\n",
      "18/18 [==============================] - 2s 104ms/step - loss: 0.0050 - mean_absolute_error: 0.0504 - mean_squared_error: 0.0050 - val_loss: 0.1251 - val_mean_absolute_error: 0.2861 - val_mean_squared_error: 0.1251\n",
      "Epoch 36/50\n",
      "18/18 [==============================] - 2s 105ms/step - loss: 0.0040 - mean_absolute_error: 0.0430 - mean_squared_error: 0.0040 - val_loss: 0.1315 - val_mean_absolute_error: 0.2987 - val_mean_squared_error: 0.1315\n",
      "Epoch 37/50\n"
     ]
    },
    {
     "name": "stdout",
     "output_type": "stream",
     "text": [
      "18/18 [==============================] - 2s 110ms/step - loss: 0.0030 - mean_absolute_error: 0.0347 - mean_squared_error: 0.0030 - val_loss: 0.1308 - val_mean_absolute_error: 0.2953 - val_mean_squared_error: 0.1308\n",
      "Epoch 38/50\n",
      "18/18 [==============================] - 2s 106ms/step - loss: 0.0025 - mean_absolute_error: 0.0289 - mean_squared_error: 0.0025 - val_loss: 0.1306 - val_mean_absolute_error: 0.2981 - val_mean_squared_error: 0.1306\n",
      "Epoch 39/50\n",
      "18/18 [==============================] - 2s 109ms/step - loss: 0.0021 - mean_absolute_error: 0.0267 - mean_squared_error: 0.0021 - val_loss: 0.1290 - val_mean_absolute_error: 0.2941 - val_mean_squared_error: 0.1290\n",
      "Epoch 40/50\n",
      "18/18 [==============================] - 2s 107ms/step - loss: 0.0021 - mean_absolute_error: 0.0266 - mean_squared_error: 0.0021 - val_loss: 0.1269 - val_mean_absolute_error: 0.2938 - val_mean_squared_error: 0.1269\n",
      "Epoch 41/50\n",
      "18/18 [==============================] - 2s 111ms/step - loss: 0.0022 - mean_absolute_error: 0.0273 - mean_squared_error: 0.0022 - val_loss: 0.1189 - val_mean_absolute_error: 0.2828 - val_mean_squared_error: 0.1189\n",
      "Epoch 42/50\n",
      "18/18 [==============================] - 2s 111ms/step - loss: 0.0020 - mean_absolute_error: 0.0289 - mean_squared_error: 0.0020 - val_loss: 0.1281 - val_mean_absolute_error: 0.2946 - val_mean_squared_error: 0.1281\n",
      "Epoch 43/50\n",
      "18/18 [==============================] - 2s 109ms/step - loss: 0.0024 - mean_absolute_error: 0.0338 - mean_squared_error: 0.0024 - val_loss: 0.1190 - val_mean_absolute_error: 0.2834 - val_mean_squared_error: 0.1190\n",
      "Epoch 44/50\n",
      "18/18 [==============================] - 2s 106ms/step - loss: 0.0023 - mean_absolute_error: 0.0307 - mean_squared_error: 0.0023 - val_loss: 0.1244 - val_mean_absolute_error: 0.2907 - val_mean_squared_error: 0.1244\n",
      "Epoch 45/50\n",
      "18/18 [==============================] - 2s 108ms/step - loss: 0.0018 - mean_absolute_error: 0.0256 - mean_squared_error: 0.0018 - val_loss: 0.1271 - val_mean_absolute_error: 0.2943 - val_mean_squared_error: 0.1271\n",
      "Epoch 46/50\n",
      "18/18 [==============================] - 2s 104ms/step - loss: 0.0018 - mean_absolute_error: 0.0271 - mean_squared_error: 0.0018 - val_loss: 0.1249 - val_mean_absolute_error: 0.2901 - val_mean_squared_error: 0.1249\n",
      "Epoch 47/50\n",
      "18/18 [==============================] - 2s 108ms/step - loss: 0.0027 - mean_absolute_error: 0.0369 - mean_squared_error: 0.0027 - val_loss: 0.1186 - val_mean_absolute_error: 0.2806 - val_mean_squared_error: 0.1186\n",
      "Epoch 48/50\n",
      "18/18 [==============================] - 2s 107ms/step - loss: 0.0029 - mean_absolute_error: 0.0376 - mean_squared_error: 0.0029 - val_loss: 0.1356 - val_mean_absolute_error: 0.3012 - val_mean_squared_error: 0.1356\n",
      "Epoch 49/50\n",
      "18/18 [==============================] - 2s 107ms/step - loss: 0.0022 - mean_absolute_error: 0.0336 - mean_squared_error: 0.0022 - val_loss: 0.1185 - val_mean_absolute_error: 0.2842 - val_mean_squared_error: 0.1185\n",
      "Epoch 50/50\n",
      "18/18 [==============================] - 2s 105ms/step - loss: 0.0026 - mean_absolute_error: 0.0357 - mean_squared_error: 0.0026 - val_loss: 0.1192 - val_mean_absolute_error: 0.2833 - val_mean_squared_error: 0.1192\n",
      "5/5 [==============================] - 1s 115ms/step - loss: 0.0982 - mean_absolute_error: 0.2518 - mean_squared_error: 0.0982\n",
      "Test loss:  0.09821916371583939\n",
      "Test metric 0:  0.2517806887626648\n",
      "Test metric 1:  0.09821916371583939\n",
      "5/5 [==============================] - 1s 72ms/step\n",
      "r2:  -1.3641699174706878\n",
      "MAE:  0.2517806854453057\n"
     ]
    }
   ],
   "source": [
    "model = cnn.CNN(scale = 222, time_range = 20000)\n",
    "# model = mlp.MLP(time_range = 20000)\n",
    "\n",
    "model_checkpoint = ModelCheckpoint(\n",
    "    filepath='stft_cnn_20240606_model_best_4.keras',  # 保存するファイルのパス\n",
    "    monitor='val_mean_absolute_error',        # 監視する値\n",
    "    save_best_only=True,       # 最良のモデルのみを保存\n",
    "    verbose=1,                 # 進行状況のメッセージ表示\n",
    "    mode='min'                 # 「減少」を監視\n",
    ")\n",
    "\n",
    "\n",
    "use_data = 4\n",
    "print(data.X.shape)\n",
    "model.training(data.X[train_data_splits_index[use_data]], data.y[train_data_splits_index[use_data]], 50, 32)\n",
    "model.evaluate(data.X[test_data_splits_index[use_data]], data.y[test_data_splits_index[use_data]])\n",
    "model.save('stft_cnn_20240606_model_4.keras')"
   ]
  },
  {
   "cell_type": "code",
   "execution_count": 10,
   "id": "0d884c0c",
   "metadata": {},
   "outputs": [],
   "source": [
    "y.append(data.y[test_data_splits_index[use_data]])\n",
    "predict.append(model.predictions)"
   ]
  },
  {
   "cell_type": "code",
   "execution_count": 11,
   "id": "13ea10a4",
   "metadata": {},
   "outputs": [
    {
     "name": "stdout",
     "output_type": "stream",
     "text": [
      "1\n"
     ]
    }
   ],
   "source": [
    "print(len(predict))"
   ]
  },
  {
   "cell_type": "code",
   "execution_count": 12,
   "id": "4a348be1",
   "metadata": {},
   "outputs": [],
   "source": [
    "array_y = np.concatenate(y)\n",
    "array_pre = np.concatenate(predict)"
   ]
  },
  {
   "cell_type": "code",
   "execution_count": 13,
   "id": "49791915",
   "metadata": {},
   "outputs": [
    {
     "data": {
      "image/png": "[encoded data removed]",
      "text/plain": [
       "<Figure size 640x480 with 1 Axes>"
      ]
     },
     "metadata": {},
     "output_type": "display_data"
    },
    {
     "name": "stdout",
     "output_type": "stream",
     "text": [
      "R2 Score: -0.16628912211934876\n",
      "Mean Absolute Error (MAE): 0.2517806854453057\n",
      "Root Mean Squared Error (RMSE): 0.31339935666222485\n"
     ]
    }
   ],
   "source": [
    "plt.scatter(array_y, array_pre)\n",
    "plt.xlabel('y')\n",
    "plt.ylabel('predict')\n",
    "plt.title('Scatter Plot of y vs predict')\n",
    "plt.show()\n",
    "\n",
    "# R2スコアの計算\n",
    "r2 = r2_score(array_y, array_pre)\n",
    "print(f\"R2 Score: {r2}\")\n",
    "\n",
    "# MAEの計算\n",
    "mae = mean_absolute_error(array_y, array_pre)\n",
    "print(f\"Mean Absolute Error (MAE): {mae}\")\n",
    "\n",
    "      \n",
    "      # RMSEの計算\n",
    "rmse = np.sqrt(mean_squared_error(array_y, array_pre))\n",
    "print(f\"Root Mean Squared Error (RMSE): {rmse}\")"
   ]
  },
  {
   "cell_type": "code",
   "execution_count": 14,
   "id": "047843dd",
   "metadata": {},
   "outputs": [],
   "source": [
    "array_pre = array_pre.flatten()"
   ]
  },
  {
   "cell_type": "code",
   "execution_count": 15,
   "id": "fd6daf5e",
   "metadata": {},
   "outputs": [],
   "source": [
    "combined_array = np.vstack((array_y, array_pre)).T\n",
    "np.savetxt(\"stft_cnn_20240606_4.csv\", combined_array, delimiter=\",\", header=\"y,predict\", comments='')"
   ]
  },
  {
   "cell_type": "code",
   "execution_count": 16,
   "id": "782e8f53",
   "metadata": {},
   "outputs": [
    {
     "name": "stdout",
     "output_type": "stream",
     "text": [
      "         y   predict\n",
      "0    1.045  0.893857\n",
      "1    0.677  0.623885\n",
      "2    0.791  0.458902\n",
      "3    0.069  0.676550\n",
      "4    0.323 -0.070589\n",
      "..     ...       ...\n",
      "153  0.570  0.427727\n",
      "154  0.830  0.531241\n",
      "155  0.824  0.841097\n",
      "156  0.876  1.042310\n",
      "157  0.999  0.519359\n",
      "\n",
      "[158 rows x 2 columns]\n",
      "         y   predict\n",
      "0    0.215  0.287790\n",
      "1    0.343  0.511660\n",
      "2    0.442  0.615001\n",
      "3    0.064  0.064877\n",
      "4    0.134  0.324287\n",
      "..     ...       ...\n",
      "152  0.559  0.490444\n",
      "153  0.400  0.292400\n",
      "154  0.499  0.321912\n",
      "155  0.472  0.551244\n",
      "156  0.662  0.677523\n",
      "\n",
      "[157 rows x 2 columns]\n",
      "         y   predict\n",
      "0    0.446  0.389901\n",
      "1    0.862  0.409784\n",
      "2    0.281  0.446852\n",
      "3    0.600  0.655110\n",
      "4    0.099  0.497841\n",
      "..     ...       ...\n",
      "152  0.375  0.248908\n",
      "153  0.383  0.383159\n",
      "154  0.599  0.783591\n",
      "155  0.723  0.431893\n",
      "156  0.934  0.794962\n",
      "\n",
      "[157 rows x 2 columns]\n",
      "         y   predict\n",
      "0    0.264  0.287141\n",
      "1    0.251  0.576503\n",
      "2    0.000  0.152607\n",
      "3    0.440  0.390783\n",
      "4    0.169  0.380915\n",
      "..     ...       ...\n",
      "309  0.064  0.226314\n",
      "310  0.077  0.284610\n",
      "311  0.201  0.392931\n",
      "312  0.442  0.538589\n",
      "313  0.741  0.506490\n",
      "\n",
      "[314 rows x 2 columns]\n",
      "         y   predict\n",
      "0    0.328  0.415388\n",
      "1    0.581  0.598340\n",
      "2    0.184  0.471874\n",
      "3    0.457  0.410919\n",
      "4    0.138  0.724506\n",
      "..     ...       ...\n",
      "152  0.300  0.415812\n",
      "153  0.634  0.494824\n",
      "154  0.572  0.871051\n",
      "155  0.736  0.811253\n",
      "156  0.944  0.958134\n",
      "\n",
      "[157 rows x 2 columns]\n"
     ]
    }
   ],
   "source": [
    "df0 = pd.read_csv(\"stft_cnn_20240606_0.csv\")\n",
    "print(df0)\n",
    "df1 = pd.read_csv(\"stft_cnn_20240606_1.csv\")\n",
    "print(df1)\n",
    "df2 = pd.read_csv(\"stft_cnn_20240606_2.csv\")\n",
    "print(df2)\n",
    "df3 = pd.read_csv(\"stft_cnn_20240606_3.csv\")\n",
    "print(df3)\n",
    "df4 = pd.read_csv(\"stft_cnn_20240606_4.csv\")\n",
    "print(df4)"
   ]
  },
  {
   "cell_type": "code",
   "execution_count": 17,
   "id": "86caeaa5",
   "metadata": {},
   "outputs": [
    {
     "name": "stdout",
     "output_type": "stream",
     "text": [
      "         y   predict\n",
      "0    1.045  0.893857\n",
      "1    0.677  0.623885\n",
      "2    0.791  0.458902\n",
      "3    0.069  0.676550\n",
      "4    0.323 -0.070589\n",
      "..     ...       ...\n",
      "938  0.300  0.415812\n",
      "939  0.634  0.494824\n",
      "940  0.572  0.871051\n",
      "941  0.736  0.811253\n",
      "942  0.944  0.958134\n",
      "\n",
      "[943 rows x 2 columns]\n"
     ]
    }
   ],
   "source": [
    "df = [df0, df1, df2, df3, df4]\n",
    "combined_df = pd.concat(df, ignore_index=True)\n",
    "\n",
    "# 結合したDataFrameを表示\n",
    "print(combined_df)"
   ]
  },
  {
   "cell_type": "code",
   "execution_count": 18,
   "id": "266257a1",
   "metadata": {},
   "outputs": [
    {
     "data": {
      "image/png": "[encoded data removed]",
      "text/plain": [
       "<Figure size 640x480 with 1 Axes>"
      ]
     },
     "metadata": {},
     "output_type": "display_data"
    },
    {
     "name": "stdout",
     "output_type": "stream",
     "text": [
      "R2 Score: -0.18224444492339797\n",
      "Mean Absolute Error (MAE): 0.2543389245957642\n",
      "Root Mean Squared Error (RMSE): 0.3137364125943031\n"
     ]
    }
   ],
   "source": [
    "plt.scatter(combined_df['y'], combined_df['predict'])\n",
    "plt.xlabel('y')\n",
    "plt.ylabel('predict')\n",
    "plt.title('Scatter Plot of y vs predict')\n",
    "plt.show()\n",
    "\n",
    "# R2スコアの計算\n",
    "r2 = r2_score(combined_df['y'], combined_df['predict'])\n",
    "print(f\"R2 Score: {r2}\")\n",
    "\n",
    "# MAEの計算\n",
    "mae = mean_absolute_error(combined_df['y'], combined_df['predict'])\n",
    "print(f\"Mean Absolute Error (MAE): {mae}\")\n",
    "\n",
    "      \n",
    "      # RMSEの計算\n",
    "rmse = np.sqrt(mean_squared_error(combined_df['y'], combined_df['predict']))\n",
    "print(f\"Root Mean Squared Error (RMSE): {rmse}\")"
   ]
  },
  {
   "cell_type": "code",
   "execution_count": null,
   "id": "ce770aaf",
   "metadata": {},
   "outputs": [],
   "source": []
  }
 ],
 "metadata": {
  "kernelspec": {
   "display_name": "s2-washino",
   "language": "python",
   "name": "washino"
  },
  "language_info": {
   "codemirror_mode": {
    "name": "ipython",
    "version": 3
   },
   "file_extension": ".py",
   "mimetype": "text/x-python",
   "name": "python",
   "nbconvert_exporter": "python",
   "pygments_lexer": "ipython3",
   "version": "3.10.13"
  }
 },
 "nbformat": 4,
 "nbformat_minor": 5
}
