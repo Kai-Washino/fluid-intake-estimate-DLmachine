{
 "cells": [
  {
   "cell_type": "code",
   "execution_count": 1,
   "id": "eff15462",
   "metadata": {},
   "outputs": [
    {
     "name": "stderr",
     "output_type": "stream",
     "text": [
      "2024-06-05 20:51:05.653612: I tensorflow/core/util/port.cc:110] oneDNN custom operations are on. You may see slightly different numerical results due to floating-point round-off errors from different computation orders. To turn them off, set the environment variable `TF_ENABLE_ONEDNN_OPTS=0`.\n",
      "2024-06-05 20:51:05.697923: I tensorflow/core/platform/cpu_feature_guard.cc:182] This TensorFlow binary is optimized to use available CPU instructions in performance-critical operations.\n",
      "To enable the following instructions: AVX2 AVX512F AVX512_VNNI FMA, in other operations, rebuild TensorFlow with the appropriate compiler flags.\n",
      "2024-06-05 20:51:06.372143: W tensorflow/compiler/tf2tensorrt/utils/py_utils.cc:38] TF-TRT Warning: Could not find TensorRT\n"
     ]
    }
   ],
   "source": [
    "import tensorflow as tf\n",
    "from tensorflow.keras.layers import Masking, Flatten\n",
    "from tensorflow.keras.callbacks import EarlyStopping\n",
    "from tensorflow.keras.callbacks import ModelCheckpoint\n",
    "from sklearn.model_selection import KFold"
   ]
  },
  {
   "cell_type": "code",
   "execution_count": 2,
   "id": "f7aa03bd",
   "metadata": {},
   "outputs": [],
   "source": [
    "import numpy as np\n",
    "import pandas as pd\n",
    "import cv2  # OpenCVライブラリ\n",
    "import matplotlib.pyplot as plt\n",
    "from matplotlib.colors import Normalize\n",
    "import glob\n",
    "import os\n",
    "import sys\n",
    "import pathlib\n",
    "from pathlib import Path\n",
    "\n",
    "from sklearn.metrics import r2_score, mean_absolute_error, mean_squared_error"
   ]
  },
  {
   "cell_type": "code",
   "execution_count": 3,
   "id": "a85d182a",
   "metadata": {},
   "outputs": [],
   "source": [
    "current_dir = os.getcwd()\n",
    "parent_dir = os.path.dirname(current_dir)\n",
    "sys.path.append(parent_dir)\n",
    "current_file_path = pathlib.Path(os.getcwd())\n",
    "parent_dir = current_file_path.parent"
   ]
  },
  {
   "cell_type": "code",
   "execution_count": 4,
   "id": "befedbcb",
   "metadata": {},
   "outputs": [
    {
     "name": "stdout",
     "output_type": "stream",
     "text": [
      "/home/s2/Desktop/washino/swallowing\n",
      "/home/s2/Desktop/washino/swallowing\n"
     ]
    }
   ],
   "source": [
    "import fluid_intake_estimate\n",
    "from fluid_intake_estimate import variable_data_set\n",
    "from fluid_intake_estimate import cnn\n",
    "from fluid_intake_estimate import mlp"
   ]
  },
  {
   "cell_type": "code",
   "execution_count": 5,
   "id": "ef3d2896",
   "metadata": {},
   "outputs": [],
   "source": [
    "directory_path = parent_dir / 'dataset'"
   ]
  },
  {
   "cell_type": "markdown",
   "id": "ca4febb8",
   "metadata": {},
   "source": [
    "# 鷲野のデータを学習"
   ]
  },
  {
   "cell_type": "code",
   "execution_count": null,
   "id": "eefba043",
   "metadata": {},
   "outputs": [],
   "source": [
    "path = directory_path / 'washino'\n",
    "csv_path = path / 'washino.csv'\n",
    "data = variable_data_set.VariableDataSet(300)\n",
    "data.csv_to_dataset(path, csv_path, 0)\n",
    "model = cnn.CNN()"
   ]
  },
  {
   "cell_type": "code",
   "execution_count": null,
   "id": "8ecec14e",
   "metadata": {
    "scrolled": true
   },
   "outputs": [],
   "source": [
    "model_checkpoint = ModelCheckpoint(\n",
    "    filepath='cnn_20240516_model_best.keras',  # 保存するファイルのパス\n",
    "    monitor='val_mean_absolute_error',        # 監視する値\n",
    "    save_best_only=True,       # 最良のモデルのみを保存\n",
    "    verbose=1,                 # 進行状況のメッセージ表示\n",
    "    mode='min'                 # 「減少」を監視\n",
    ")\n",
    "\n",
    "model.training(data.X, data.y, 50, 32, model_checkpoint = model_checkpoint)\n",
    "model.save('cnn_20240516_model_v1.keras')"
   ]
  },
  {
   "cell_type": "markdown",
   "id": "71662b92",
   "metadata": {},
   "source": [
    "# 全員のデータを学習して分割交差検証"
   ]
  },
  {
   "cell_type": "code",
   "execution_count": 11,
   "id": "04c813ea",
   "metadata": {},
   "outputs": [
    {
     "name": "stdout",
     "output_type": "stream",
     "text": [
      "352\n",
      "382\n",
      "413\n",
      "444\n",
      "474\n",
      "504\n",
      "538\n",
      "571\n",
      "601\n",
      "631\n",
      "661\n",
      "694\n",
      "724\n",
      "755\n",
      "786\n"
     ]
    }
   ],
   "source": [
    "names = ['washino', 'haruki', 'ezumi', 'hikaru', 'ibuki', 'kanata', 'kazuki', 'kishimoto', 'kosasayama', 'mocchi', 'nakaryo', 'ruku', 'shibata', 'soichiro', 'tsuji']\n",
    "data = variable_data_set.VariableDataSet(786, scale=1, time_range = 70000)\n",
    "# data = variable_data_set.VariableDataSet(786, scale=0, time_range = 20000)\n",
    "\n",
    "# path = directory_path / 'washino'\n",
    "# csv_path = path / 'washino.csv'\n",
    "# data.csv_to_dataset(path, csv_path, 0)\n",
    "\n",
    "count = 0\n",
    "\n",
    "for name in names:    \n",
    "    path = directory_path / name\n",
    "    wav_files = glob.glob(os.path.join(path, '*.wav'))\n",
    "    wav_file_count = len(wav_files)    \n",
    "    \n",
    "    csv_path = path / f'{name}.csv'    \n",
    "    data.csv_to_dataset(path, csv_path, count, signal_processing='No')\n",
    "    count += wav_file_count\n",
    "    print(count)"
   ]
  },
  {
   "cell_type": "code",
   "execution_count": 12,
   "id": "820e741a",
   "metadata": {},
   "outputs": [],
   "source": [
    "# 分割交差検証の設定\n",
    "kf = KFold(n_splits=5, shuffle=True, random_state=42)\n",
    "\n",
    "# データを保持するためのリスト\n",
    "train_data_splits_index = []\n",
    "test_data_splits_index = []\n",
    "\n",
    "# データのインデックスを分割\n",
    "for train_index, test_index in kf.split(data.X):\n",
    "    train_data_splits_index.append(train_index)\n",
    "    test_data_splits_index.append(test_index)"
   ]
  },
  {
   "cell_type": "code",
   "execution_count": 13,
   "id": "86fa872a",
   "metadata": {},
   "outputs": [],
   "source": [
    "y = []\n",
    "predict = []"
   ]
  },
  {
   "cell_type": "code",
   "execution_count": null,
   "id": "3d58c1a2",
   "metadata": {},
   "outputs": [
    {
     "name": "stdout",
     "output_type": "stream",
     "text": [
      "(786, 70000, 1)\n",
      "Epoch 1/50\n",
      "18/18 [==============================] - 2s 33ms/step - loss: 0.6111 - mean_absolute_error: 0.3956 - mean_squared_error: 0.6111 - val_loss: 0.0853 - val_mean_absolute_error: 0.2538 - val_mean_squared_error: 0.0853\n",
      "Epoch 2/50\n",
      "18/18 [==============================] - 0s 23ms/step - loss: 0.0806 - mean_absolute_error: 0.2402 - mean_squared_error: 0.0806 - val_loss: 0.0848 - val_mean_absolute_error: 0.2483 - val_mean_squared_error: 0.0848\n",
      "Epoch 3/50\n",
      "18/18 [==============================] - 0s 24ms/step - loss: 0.0840 - mean_absolute_error: 0.2425 - mean_squared_error: 0.0840 - val_loss: 0.0906 - val_mean_absolute_error: 0.2582 - val_mean_squared_error: 0.0906\n",
      "Epoch 4/50\n",
      "18/18 [==============================] - 0s 26ms/step - loss: 0.0746 - mean_absolute_error: 0.2311 - mean_squared_error: 0.0746 - val_loss: 0.0845 - val_mean_absolute_error: 0.2507 - val_mean_squared_error: 0.0845\n",
      "Epoch 5/50\n",
      "18/18 [==============================] - 0s 26ms/step - loss: 0.0717 - mean_absolute_error: 0.2235 - mean_squared_error: 0.0717 - val_loss: 0.0880 - val_mean_absolute_error: 0.2509 - val_mean_squared_error: 0.0880\n",
      "Epoch 6/50\n",
      "18/18 [==============================] - 0s 26ms/step - loss: 0.0635 - mean_absolute_error: 0.2099 - mean_squared_error: 0.0635 - val_loss: 0.0834 - val_mean_absolute_error: 0.2465 - val_mean_squared_error: 0.0834\n",
      "Epoch 7/50\n",
      "18/18 [==============================] - 0s 26ms/step - loss: 0.0462 - mean_absolute_error: 0.1722 - mean_squared_error: 0.0462 - val_loss: 0.0987 - val_mean_absolute_error: 0.2635 - val_mean_squared_error: 0.0987\n",
      "Epoch 8/50\n",
      "18/18 [==============================] - 0s 26ms/step - loss: 0.0328 - mean_absolute_error: 0.1434 - mean_squared_error: 0.0328 - val_loss: 0.1038 - val_mean_absolute_error: 0.2689 - val_mean_squared_error: 0.1038\n",
      "Epoch 9/50\n",
      "18/18 [==============================] - 0s 24ms/step - loss: 0.0189 - mean_absolute_error: 0.1072 - mean_squared_error: 0.0189 - val_loss: 0.0960 - val_mean_absolute_error: 0.2653 - val_mean_squared_error: 0.0960\n",
      "Epoch 10/50\n",
      "18/18 [==============================] - 0s 25ms/step - loss: 0.0110 - mean_absolute_error: 0.0797 - mean_squared_error: 0.0110 - val_loss: 0.0923 - val_mean_absolute_error: 0.2582 - val_mean_squared_error: 0.0923\n",
      "Epoch 11/50\n",
      "18/18 [==============================] - 0s 26ms/step - loss: 0.0067 - mean_absolute_error: 0.0614 - mean_squared_error: 0.0067 - val_loss: 0.0926 - val_mean_absolute_error: 0.2614 - val_mean_squared_error: 0.0926\n",
      "Epoch 12/50\n",
      "18/18 [==============================] - 0s 26ms/step - loss: 0.0036 - mean_absolute_error: 0.0437 - mean_squared_error: 0.0036 - val_loss: 0.1033 - val_mean_absolute_error: 0.2710 - val_mean_squared_error: 0.1033\n",
      "Epoch 13/50\n",
      "18/18 [==============================] - 0s 23ms/step - loss: 0.0024 - mean_absolute_error: 0.0357 - mean_squared_error: 0.0024 - val_loss: 0.1002 - val_mean_absolute_error: 0.2698 - val_mean_squared_error: 0.1002\n",
      "Epoch 14/50\n",
      "18/18 [==============================] - 0s 25ms/step - loss: 0.0020 - mean_absolute_error: 0.0331 - mean_squared_error: 0.0020 - val_loss: 0.1024 - val_mean_absolute_error: 0.2694 - val_mean_squared_error: 0.1024\n",
      "Epoch 15/50\n",
      "18/18 [==============================] - 0s 26ms/step - loss: 0.0014 - mean_absolute_error: 0.0265 - mean_squared_error: 0.0014 - val_loss: 0.1032 - val_mean_absolute_error: 0.2720 - val_mean_squared_error: 0.1032\n",
      "Epoch 16/50\n",
      "18/18 [==============================] - 0s 26ms/step - loss: 9.9079e-04 - mean_absolute_error: 0.0225 - mean_squared_error: 9.9079e-04 - val_loss: 0.1025 - val_mean_absolute_error: 0.2704 - val_mean_squared_error: 0.1025\n",
      "Epoch 17/50\n",
      "18/18 [==============================] - 0s 24ms/step - loss: 9.6107e-04 - mean_absolute_error: 0.0222 - mean_squared_error: 9.6107e-04 - val_loss: 0.1025 - val_mean_absolute_error: 0.2709 - val_mean_squared_error: 0.1025\n",
      "Epoch 18/50\n",
      "18/18 [==============================] - 0s 24ms/step - loss: 9.1296e-04 - mean_absolute_error: 0.0220 - mean_squared_error: 9.1296e-04 - val_loss: 0.1040 - val_mean_absolute_error: 0.2715 - val_mean_squared_error: 0.1040\n",
      "Epoch 19/50\n",
      "18/18 [==============================] - 0s 25ms/step - loss: 6.0466e-04 - mean_absolute_error: 0.0182 - mean_squared_error: 6.0466e-04 - val_loss: 0.1037 - val_mean_absolute_error: 0.2716 - val_mean_squared_error: 0.1037\n",
      "Epoch 20/50\n",
      "18/18 [==============================] - 0s 26ms/step - loss: 4.1358e-04 - mean_absolute_error: 0.0150 - mean_squared_error: 4.1358e-04 - val_loss: 0.1047 - val_mean_absolute_error: 0.2725 - val_mean_squared_error: 0.1047\n",
      "Epoch 21/50\n",
      "18/18 [==============================] - 0s 24ms/step - loss: 2.9016e-04 - mean_absolute_error: 0.0122 - mean_squared_error: 2.9016e-04 - val_loss: 0.1055 - val_mean_absolute_error: 0.2743 - val_mean_squared_error: 0.1055\n",
      "Epoch 22/50\n",
      "18/18 [==============================] - 0s 25ms/step - loss: 1.9864e-04 - mean_absolute_error: 0.0098 - mean_squared_error: 1.9864e-04 - val_loss: 0.1037 - val_mean_absolute_error: 0.2713 - val_mean_squared_error: 0.1037\n",
      "Epoch 23/50\n",
      "18/18 [==============================] - 0s 25ms/step - loss: 1.8562e-04 - mean_absolute_error: 0.0099 - mean_squared_error: 1.8562e-04 - val_loss: 0.1027 - val_mean_absolute_error: 0.2705 - val_mean_squared_error: 0.1027\n",
      "Epoch 24/50\n",
      "18/18 [==============================] - 0s 26ms/step - loss: 2.0989e-04 - mean_absolute_error: 0.0111 - mean_squared_error: 2.0989e-04 - val_loss: 0.1040 - val_mean_absolute_error: 0.2708 - val_mean_squared_error: 0.1040\n",
      "Epoch 25/50\n",
      "18/18 [==============================] - 0s 25ms/step - loss: 1.9625e-04 - mean_absolute_error: 0.0101 - mean_squared_error: 1.9625e-04 - val_loss: 0.1039 - val_mean_absolute_error: 0.2716 - val_mean_squared_error: 0.1039\n",
      "Epoch 26/50\n",
      "18/18 [==============================] - 0s 26ms/step - loss: 1.3450e-04 - mean_absolute_error: 0.0086 - mean_squared_error: 1.3450e-04 - val_loss: 0.1035 - val_mean_absolute_error: 0.2712 - val_mean_squared_error: 0.1035\n",
      "Epoch 27/50\n",
      "18/18 [==============================] - 0s 25ms/step - loss: 1.8355e-04 - mean_absolute_error: 0.0092 - mean_squared_error: 1.8355e-04 - val_loss: 0.1046 - val_mean_absolute_error: 0.2720 - val_mean_squared_error: 0.1046\n",
      "Epoch 28/50\n",
      "18/18 [==============================] - 0s 24ms/step - loss: 1.5638e-04 - mean_absolute_error: 0.0085 - mean_squared_error: 1.5638e-04 - val_loss: 0.1042 - val_mean_absolute_error: 0.2719 - val_mean_squared_error: 0.1042\n",
      "Epoch 29/50\n",
      "18/18 [==============================] - 0s 25ms/step - loss: 1.7474e-04 - mean_absolute_error: 0.0093 - mean_squared_error: 1.7474e-04 - val_loss: 0.1041 - val_mean_absolute_error: 0.2723 - val_mean_squared_error: 0.1041\n",
      "Epoch 30/50\n",
      "18/18 [==============================] - 0s 25ms/step - loss: 2.2206e-04 - mean_absolute_error: 0.0108 - mean_squared_error: 2.2206e-04 - val_loss: 0.1051 - val_mean_absolute_error: 0.2735 - val_mean_squared_error: 0.1051\n",
      "Epoch 31/50\n",
      "18/18 [==============================] - 0s 24ms/step - loss: 2.4955e-04 - mean_absolute_error: 0.0113 - mean_squared_error: 2.4955e-04 - val_loss: 0.1046 - val_mean_absolute_error: 0.2727 - val_mean_squared_error: 0.1046\n",
      "Epoch 32/50\n",
      "18/18 [==============================] - 0s 24ms/step - loss: 1.9049e-04 - mean_absolute_error: 0.0096 - mean_squared_error: 1.9049e-04 - val_loss: 0.1036 - val_mean_absolute_error: 0.2707 - val_mean_squared_error: 0.1036\n",
      "Epoch 33/50\n",
      "18/18 [==============================] - 0s 25ms/step - loss: 2.1386e-04 - mean_absolute_error: 0.0101 - mean_squared_error: 2.1386e-04 - val_loss: 0.1050 - val_mean_absolute_error: 0.2742 - val_mean_squared_error: 0.1050\n",
      "Epoch 34/50\n",
      "18/18 [==============================] - 0s 26ms/step - loss: 2.6218e-04 - mean_absolute_error: 0.0111 - mean_squared_error: 2.6218e-04 - val_loss: 0.1028 - val_mean_absolute_error: 0.2700 - val_mean_squared_error: 0.1028\n",
      "Epoch 35/50\n",
      "18/18 [==============================] - 0s 24ms/step - loss: 2.7348e-04 - mean_absolute_error: 0.0119 - mean_squared_error: 2.7348e-04 - val_loss: 0.1031 - val_mean_absolute_error: 0.2708 - val_mean_squared_error: 0.1031\n",
      "Epoch 36/50\n"
     ]
    },
    {
     "name": "stdout",
     "output_type": "stream",
     "text": [
      "18/18 [==============================] - 0s 23ms/step - loss: 3.2860e-04 - mean_absolute_error: 0.0138 - mean_squared_error: 3.2860e-04 - val_loss: 0.1054 - val_mean_absolute_error: 0.2737 - val_mean_squared_error: 0.1054\n",
      "Epoch 37/50\n",
      "18/18 [==============================] - 0s 26ms/step - loss: 3.2886e-04 - mean_absolute_error: 0.0133 - mean_squared_error: 3.2886e-04 - val_loss: 0.1046 - val_mean_absolute_error: 0.2723 - val_mean_squared_error: 0.1046\n",
      "Epoch 38/50\n",
      "18/18 [==============================] - 0s 25ms/step - loss: 2.8013e-04 - mean_absolute_error: 0.0126 - mean_squared_error: 2.8013e-04 - val_loss: 0.1043 - val_mean_absolute_error: 0.2715 - val_mean_squared_error: 0.1043\n",
      "Epoch 39/50\n",
      "18/18 [==============================] - 0s 26ms/step - loss: 3.5421e-04 - mean_absolute_error: 0.0136 - mean_squared_error: 3.5421e-04 - val_loss: 0.1039 - val_mean_absolute_error: 0.2727 - val_mean_squared_error: 0.1039\n",
      "Epoch 40/50\n",
      "18/18 [==============================] - 0s 27ms/step - loss: 3.0929e-04 - mean_absolute_error: 0.0129 - mean_squared_error: 3.0929e-04 - val_loss: 0.1072 - val_mean_absolute_error: 0.2751 - val_mean_squared_error: 0.1072\n",
      "Epoch 41/50\n",
      "18/18 [==============================] - 0s 25ms/step - loss: 3.1457e-04 - mean_absolute_error: 0.0125 - mean_squared_error: 3.1457e-04 - val_loss: 0.1044 - val_mean_absolute_error: 0.2724 - val_mean_squared_error: 0.1044\n",
      "Epoch 42/50\n",
      "18/18 [==============================] - 0s 27ms/step - loss: 2.8752e-04 - mean_absolute_error: 0.0122 - mean_squared_error: 2.8752e-04 - val_loss: 0.1057 - val_mean_absolute_error: 0.2739 - val_mean_squared_error: 0.1057\n",
      "Epoch 43/50\n",
      " 4/18 [=====>........................] - ETA: 0s - loss: 2.1873e-04 - mean_absolute_error: 0.0112 - mean_squared_error: 2.1873e-04"
     ]
    }
   ],
   "source": [
    "model = cnn.CNN(scale = 1, time_range = 70000)\n",
    "# model = mlp.MLP(time_range = 20000)\n",
    "\n",
    "model_checkpoint = ModelCheckpoint(\n",
    "    filepath='nopro_cnn_20240605_model_best_4.keras',  # 保存するファイルのパス\n",
    "    monitor='val_mean_absolute_error',        # 監視する値\n",
    "    save_best_only=True,       # 最良のモデルのみを保存\n",
    "    verbose=1,                 # 進行状況のメッセージ表示\n",
    "    mode='min'                 # 「減少」を監視\n",
    ")\n",
    "\n",
    "\n",
    "use_data = 4\n",
    "print(data.X.shape)\n",
    "model.training(data.X[train_data_splits_index[use_data]], data.y[train_data_splits_index[use_data]], 50, 32)\n",
    "model.evaluate(data.X[test_data_splits_index[use_data]], data.y[test_data_splits_index[use_data]])\n",
    "model.save('nopro_cnn_20240605_model_4.keras')"
   ]
  },
  {
   "cell_type": "code",
   "execution_count": null,
   "id": "0d884c0c",
   "metadata": {},
   "outputs": [],
   "source": [
    "y.append(data.y[test_data_splits_index[use_data]])\n",
    "predict.append(model.predictions)"
   ]
  },
  {
   "cell_type": "code",
   "execution_count": null,
   "id": "13ea10a4",
   "metadata": {},
   "outputs": [],
   "source": [
    "print(len(predict))"
   ]
  },
  {
   "cell_type": "code",
   "execution_count": null,
   "id": "4a348be1",
   "metadata": {},
   "outputs": [],
   "source": [
    "array_y = np.concatenate(y)\n",
    "array_pre = np.concatenate(predict)"
   ]
  },
  {
   "cell_type": "code",
   "execution_count": null,
   "id": "49791915",
   "metadata": {},
   "outputs": [],
   "source": [
    "plt.scatter(array_y, array_pre)\n",
    "plt.xlabel('y')\n",
    "plt.ylabel('predict')\n",
    "plt.title('Scatter Plot of y vs predict')\n",
    "plt.show()\n",
    "\n",
    "# R2スコアの計算\n",
    "r2 = r2_score(array_y, array_pre)\n",
    "print(f\"R2 Score: {r2}\")\n",
    "\n",
    "# MAEの計算\n",
    "mae = mean_absolute_error(array_y, array_pre)\n",
    "print(f\"Mean Absolute Error (MAE): {mae}\")\n",
    "\n",
    "      \n",
    "      # RMSEの計算\n",
    "rmse = np.sqrt(mean_squared_error(array_y, array_pre))\n",
    "print(f\"Root Mean Squared Error (RMSE): {rmse}\")"
   ]
  },
  {
   "cell_type": "code",
   "execution_count": null,
   "id": "047843dd",
   "metadata": {},
   "outputs": [],
   "source": [
    "array_pre = array_pre.flatten()"
   ]
  },
  {
   "cell_type": "code",
   "execution_count": null,
   "id": "fd6daf5e",
   "metadata": {},
   "outputs": [],
   "source": [
    "combined_array = np.vstack((array_y, array_pre)).T\n",
    "np.savetxt(\"mlp_20240520.csv\", combined_array, delimiter=\",\", header=\"y,predict\", comments='')"
   ]
  },
  {
   "cell_type": "code",
   "execution_count": null,
   "id": "782e8f53",
   "metadata": {},
   "outputs": [],
   "source": [
    "df0 = pd.read_csv(\"stft_cnn_20240520_0.csv\")\n",
    "print(df0)\n",
    "df1 = pd.read_csv(\"stft_cnn_20240520_1.csv\")\n",
    "print(df1)\n",
    "df2 = pd.read_csv(\"stft_cnn_20240520_2.csv\")\n",
    "print(df2)\n",
    "df3 = pd.read_csv(\"stft_cnn_20240520_3.csv\")\n",
    "print(df3)\n",
    "df4 = pd.read_csv(\"stft_cnn_20240520_4.csv\")\n",
    "print(df4)"
   ]
  },
  {
   "cell_type": "code",
   "execution_count": null,
   "id": "86caeaa5",
   "metadata": {},
   "outputs": [],
   "source": [
    "df = [df0, df1, df2, df3, df4]\n",
    "combined_df = pd.concat(df, ignore_index=True)\n",
    "\n",
    "# 結合したDataFrameを表示\n",
    "print(combined_df)"
   ]
  },
  {
   "cell_type": "code",
   "execution_count": null,
   "id": "266257a1",
   "metadata": {},
   "outputs": [],
   "source": [
    "plt.scatter(combined_df['y'], combined_df['predict'])\n",
    "plt.xlabel('y')\n",
    "plt.ylabel('predict')\n",
    "plt.title('Scatter Plot of y vs predict')\n",
    "plt.show()\n",
    "\n",
    "# R2スコアの計算\n",
    "r2 = r2_score(combined_df['y'], combined_df['predict'])\n",
    "print(f\"R2 Score: {r2}\")\n",
    "\n",
    "# MAEの計算\n",
    "mae = mean_absolute_error(combined_df['y'], combined_df['predict'])\n",
    "print(f\"Mean Absolute Error (MAE): {mae}\")\n",
    "\n",
    "      \n",
    "      # RMSEの計算\n",
    "rmse = np.sqrt(mean_squared_error(combined_df['y'], combined_df['predict']))\n",
    "print(f\"Root Mean Squared Error (RMSE): {rmse}\")"
   ]
  },
  {
   "cell_type": "code",
   "execution_count": null,
   "id": "ce770aaf",
   "metadata": {},
   "outputs": [],
   "source": []
  }
 ],
 "metadata": {
  "kernelspec": {
   "display_name": "s2-washino",
   "language": "python",
   "name": "washino"
  },
  "language_info": {
   "codemirror_mode": {
    "name": "ipython",
    "version": 3
   },
   "file_extension": ".py",
   "mimetype": "text/x-python",
   "name": "python",
   "nbconvert_exporter": "python",
   "pygments_lexer": "ipython3",
   "version": "3.10.13"
  }
 },
 "nbformat": 4,
 "nbformat_minor": 5
}
