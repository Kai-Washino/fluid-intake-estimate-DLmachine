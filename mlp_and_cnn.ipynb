{
 "cells": [
  {
   "cell_type": "code",
   "execution_count": 1,
   "id": "eff15462",
   "metadata": {},
   "outputs": [
    {
     "name": "stderr",
     "output_type": "stream",
     "text": [
      "2024-05-16 21:50:42.206626: I tensorflow/core/util/port.cc:110] oneDNN custom operations are on. You may see slightly different numerical results due to floating-point round-off errors from different computation orders. To turn them off, set the environment variable `TF_ENABLE_ONEDNN_OPTS=0`.\n",
      "2024-05-16 21:50:42.391925: I tensorflow/core/platform/cpu_feature_guard.cc:182] This TensorFlow binary is optimized to use available CPU instructions in performance-critical operations.\n",
      "To enable the following instructions: AVX2 AVX512F AVX512_VNNI FMA, in other operations, rebuild TensorFlow with the appropriate compiler flags.\n",
      "2024-05-16 21:50:43.297588: W tensorflow/compiler/tf2tensorrt/utils/py_utils.cc:38] TF-TRT Warning: Could not find TensorRT\n"
     ]
    }
   ],
   "source": [
    "import tensorflow as tf\n",
    "from tensorflow.keras.layers import Masking, Flatten\n",
    "from tensorflow.keras.callbacks import EarlyStopping\n",
    "from tensorflow.keras.callbacks import ModelCheckpoint\n",
    "from sklearn.model_selection import KFold"
   ]
  },
  {
   "cell_type": "code",
   "execution_count": 2,
   "id": "f7aa03bd",
   "metadata": {},
   "outputs": [],
   "source": [
    "import numpy as np\n",
    "import cv2  # OpenCVライブラリ\n",
    "import matplotlib.pyplot as plt\n",
    "from matplotlib.colors import Normalize\n",
    "import glob\n",
    "import os\n",
    "import sys\n",
    "import pathlib\n",
    "from pathlib import Path"
   ]
  },
  {
   "cell_type": "code",
   "execution_count": 3,
   "id": "a85d182a",
   "metadata": {},
   "outputs": [],
   "source": [
    "current_dir = os.getcwd()\n",
    "parent_dir = os.path.dirname(current_dir)\n",
    "sys.path.append(parent_dir)\n",
    "current_file_path = pathlib.Path(os.getcwd())\n",
    "parent_dir = current_file_path.parent"
   ]
  },
  {
   "cell_type": "code",
   "execution_count": 4,
   "id": "befedbcb",
   "metadata": {},
   "outputs": [
    {
     "name": "stdout",
     "output_type": "stream",
     "text": [
      "/home/s2/Desktop/washino/swallowing\n",
      "/home/s2/Desktop/washino/swallowing\n"
     ]
    }
   ],
   "source": [
    "import fluid_intake_estimate\n",
    "from fluid_intake_estimate import variable_data_set\n",
    "from fluid_intake_estimate import cnn"
   ]
  },
  {
   "cell_type": "code",
   "execution_count": 5,
   "id": "ef3d2896",
   "metadata": {},
   "outputs": [],
   "source": [
    "directory_path = parent_dir / 'dataset'"
   ]
  },
  {
   "cell_type": "markdown",
   "id": "ca4febb8",
   "metadata": {},
   "source": [
    "# 鷲野のデータを学習"
   ]
  },
  {
   "cell_type": "code",
   "execution_count": null,
   "id": "eefba043",
   "metadata": {},
   "outputs": [],
   "source": [
    "path = directory_path / 'washino'\n",
    "csv_path = path / 'washino.csv'\n",
    "data = variable_data_set.VariableDataSet(300)\n",
    "data.csv_to_dataset(path, csv_path, 0)\n",
    "model = cnn.CNN()"
   ]
  },
  {
   "cell_type": "code",
   "execution_count": null,
   "id": "8ecec14e",
   "metadata": {
    "scrolled": true
   },
   "outputs": [],
   "source": [
    "model_checkpoint = ModelCheckpoint(\n",
    "    filepath='cnn_20240516_model_best.keras',  # 保存するファイルのパス\n",
    "    monitor='val_mean_absolute_error',        # 監視する値\n",
    "    save_best_only=True,       # 最良のモデルのみを保存\n",
    "    verbose=1,                 # 進行状況のメッセージ表示\n",
    "    mode='min'                 # 「減少」を監視\n",
    ")\n",
    "\n",
    "model.training(data.X, data.y, 50, 32, model_checkpoint = model_checkpoint)\n",
    "model.save('cnn_20240516_model_v1.keras')"
   ]
  },
  {
   "cell_type": "markdown",
   "id": "71662b92",
   "metadata": {},
   "source": [
    "# 全員のデータを学習して10分割交差検証"
   ]
  },
  {
   "cell_type": "code",
   "execution_count": 6,
   "id": "04c813ea",
   "metadata": {},
   "outputs": [
    {
     "name": "stdout",
     "output_type": "stream",
     "text": [
      "60\n",
      "91\n",
      "122\n",
      "152\n",
      "182\n",
      "216\n",
      "249\n",
      "279\n",
      "309\n",
      "339\n",
      "372\n",
      "402\n",
      "433\n",
      "464\n"
     ]
    }
   ],
   "source": [
    "names = ['haruki', 'ezumi', 'hikaru', 'ibuki', 'kanata', 'kazuki', 'kishimoto', 'kosasayama', 'mocchi', 'nakaryo', 'ruku', 'shibata', 'soichiro', 'tsuji']\n",
    "\n",
    "data = variable_data_set.VariableDataSet(464)\n",
    "\n",
    "path = directory_path / 'washino'\n",
    "csv_path = path / 'washino.csv'\n",
    "data.csv_to_dataset(path, csv_path, 0)\n",
    "\n",
    "count = 30\n",
    "\n",
    "for name in names:    \n",
    "    path = directory_path / name\n",
    "    wav_files = glob.glob(os.path.join(path, '*.wav'))\n",
    "    wav_file_count = len(wav_files)    \n",
    "    \n",
    "    csv_path = path / f'{name}.csv'    \n",
    "    data.csv_to_dataset(path, csv_path, count)\n",
    "    count += wav_file_count\n",
    "    print(count)"
   ]
  },
  {
   "cell_type": "code",
   "execution_count": 7,
   "id": "820e741a",
   "metadata": {},
   "outputs": [
    {
     "name": "stdout",
     "output_type": "stream",
     "text": [
      "[  1   2   3   4   5   6   7   8  10  11  12  13  14  15  16  17  19  20\n",
      "  21  22  23  24  25  26  27  28  29  31  32  33  34  35  36  37  38  40\n",
      "  41  42  43  44  45  46  47  48  49  50  51  52  53  54  56  57  58  59\n",
      "  60  61  62  64  65  66  67  68  69  71  74  76  79  80  81  83  84  85\n",
      "  86  87  88  89  91  92  93  94  95  96  97  98  99 100 101 102 103 104\n",
      " 105 106 107 108 109 110 111 112 113 114 115 116 117 118 119 120 121 122\n",
      " 123 125 126 127 128 129 130 131 133 134 135 136 138 139 140 141 142 143\n",
      " 144 145 146 147 148 149 150 151 152 153 154 155 156 157 158 159 160 161\n",
      " 162 163 164 165 166 167 169 170 171 172 174 175 177 178 179 180 182 183\n",
      " 184 185 186 187 188 189 190 191 192 193 194 195 197 198 199 200 201 202\n",
      " 203 205 206 207 208 209 211 212 213 214 215 216 217 218 219 220 221 222\n",
      " 223 224 225 226 227 230 231 232 233 234 235 236 238 239 240 241 242 243\n",
      " 244 245 246 247 248 249 250 251 252 254 255 256 257 258 259 260 261 262\n",
      " 263 264 265 267 268 269 270 271 272 273 274 275 276 277 278 279 280 281\n",
      " 282 283 284 285 286 287 288 289 290 292 293 294 295 296 297 298 299 300\n",
      " 301 302 303 304 305 306 307 308 309 310 311 312 313 314 315 316 317 318\n",
      " 319 320 321 322 323 324 325 326 327 328 329 330 331 332 333 334 335 336\n",
      " 337 338 339 340 341 342 343 344 345 346 347 348 349 350 351 352 353 354\n",
      " 355 356 358 359 360 361 362 363 364 365 366 367 368 369 370 371 372 373\n",
      " 374 375 376 378 379 380 381 382 384 385 386 387 388 389 390 392 393 394\n",
      " 395 396 397 398 399 400 401 402 403 404 407 408 409 411 412 413 414 415\n",
      " 416 417 418 419 420 421 422 423 424 425 426 427 428 430 431 434 435 436\n",
      " 437 438 439 441 442 445 446 447 448 449 450 453 454 455 456 457 459 460\n",
      " 461 462 463]\n"
     ]
    }
   ],
   "source": [
    "# 10分割交差検証の設定\n",
    "kf = KFold(n_splits=10, shuffle=True, random_state=42)\n",
    "\n",
    "# データを保持するためのリスト\n",
    "train_data_splits_index = []\n",
    "test_data_splits_index = []\n",
    "\n",
    "# データのインデックスを分割\n",
    "for train_index, test_index in kf.split(data.X):\n",
    "    train_data_splits_index.append(train_index)\n",
    "    test_data_splits_index.append(test_index)\n",
    "\n",
    "print(train_data_splits_index[0])"
   ]
  },
  {
   "cell_type": "code",
   "execution_count": 8,
   "id": "51ebb636",
   "metadata": {},
   "outputs": [
    {
     "name": "stderr",
     "output_type": "stream",
     "text": [
      "2024-05-16 21:53:23.233122: I tensorflow/core/common_runtime/gpu/gpu_device.cc:1635] Created device /job:localhost/replica:0/task:0/device:GPU:0 with 22041 MB memory:  -> device: 0, name: NVIDIA GeForce RTX 3090, pci bus id: 0000:65:00.0, compute capability: 8.6\n"
     ]
    }
   ],
   "source": [
    "model = cnn.CNN()"
   ]
  },
  {
   "cell_type": "code",
   "execution_count": 10,
   "id": "3d58c1a2",
   "metadata": {},
   "outputs": [
    {
     "name": "stderr",
     "output_type": "stream",
     "text": [
      "2024-05-16 22:01:26.961617: W tensorflow/tsl/framework/bfc_allocator.cc:485] Allocator (GPU_0_bfc) ran out of memory trying to allocate 12.42GiB (rounded to 13335000064)requested by op _EagerConst\n",
      "If the cause is memory fragmentation maybe the environment variable 'TF_GPU_ALLOCATOR=cuda_malloc_async' will improve the situation. \n",
      "Current allocation summary follows.\n",
      "Current allocation summary follows.\n",
      "2024-05-16 22:01:26.963312: I tensorflow/tsl/framework/bfc_allocator.cc:1039] BFCAllocator dump for GPU_0_bfc\n",
      "2024-05-16 22:01:26.963556: I tensorflow/tsl/framework/bfc_allocator.cc:1046] Bin (256): \tTotal Chunks: 65, Chunks in use: 64. 16.2KiB allocated for chunks. 16.0KiB in use in bin. 3.1KiB client-requested in use in bin.\n",
      "2024-05-16 22:01:26.963674: I tensorflow/tsl/framework/bfc_allocator.cc:1046] Bin (512): \tTotal Chunks: 3, Chunks in use: 3. 1.5KiB allocated for chunks. 1.5KiB in use in bin. 1.5KiB client-requested in use in bin.\n",
      "2024-05-16 22:01:26.963680: I tensorflow/tsl/framework/bfc_allocator.cc:1046] Bin (1024): \tTotal Chunks: 5, Chunks in use: 5. 7.2KiB allocated for chunks. 7.2KiB in use in bin. 7.0KiB client-requested in use in bin.\n",
      "2024-05-16 22:01:26.963778: I tensorflow/tsl/framework/bfc_allocator.cc:1046] Bin (2048): \tTotal Chunks: 0, Chunks in use: 0. 0B allocated for chunks. 0B in use in bin. 0B client-requested in use in bin.\n",
      "2024-05-16 22:01:26.963785: I tensorflow/tsl/framework/bfc_allocator.cc:1046] Bin (4096): \tTotal Chunks: 3, Chunks in use: 3. 18.0KiB allocated for chunks. 18.0KiB in use in bin. 18.0KiB client-requested in use in bin.\n",
      "2024-05-16 22:01:26.963789: I tensorflow/tsl/framework/bfc_allocator.cc:1046] Bin (8192): \tTotal Chunks: 0, Chunks in use: 0. 0B allocated for chunks. 0B in use in bin. 0B client-requested in use in bin.\n",
      "2024-05-16 22:01:26.963793: I tensorflow/tsl/framework/bfc_allocator.cc:1046] Bin (16384): \tTotal Chunks: 4, Chunks in use: 3. 89.0KiB allocated for chunks. 72.0KiB in use in bin. 72.0KiB client-requested in use in bin.\n",
      "2024-05-16 22:01:26.963798: I tensorflow/tsl/framework/bfc_allocator.cc:1046] Bin (32768): \tTotal Chunks: 3, Chunks in use: 3. 96.0KiB allocated for chunks. 96.0KiB in use in bin. 96.0KiB client-requested in use in bin.\n",
      "2024-05-16 22:01:26.963802: I tensorflow/tsl/framework/bfc_allocator.cc:1046] Bin (65536): \tTotal Chunks: 0, Chunks in use: 0. 0B allocated for chunks. 0B in use in bin. 0B client-requested in use in bin.\n",
      "2024-05-16 22:01:26.963807: I tensorflow/tsl/framework/bfc_allocator.cc:1046] Bin (131072): \tTotal Chunks: 2, Chunks in use: 2. 448.0KiB allocated for chunks. 448.0KiB in use in bin. 448.0KiB client-requested in use in bin.\n",
      "2024-05-16 22:01:26.963811: I tensorflow/tsl/framework/bfc_allocator.cc:1046] Bin (262144): \tTotal Chunks: 1, Chunks in use: 1. 384.0KiB allocated for chunks. 384.0KiB in use in bin. 224.0KiB client-requested in use in bin.\n",
      "2024-05-16 22:01:26.963815: I tensorflow/tsl/framework/bfc_allocator.cc:1046] Bin (524288): \tTotal Chunks: 0, Chunks in use: 0. 0B allocated for chunks. 0B in use in bin. 0B client-requested in use in bin.\n",
      "2024-05-16 22:01:26.963819: I tensorflow/tsl/framework/bfc_allocator.cc:1046] Bin (1048576): \tTotal Chunks: 1, Chunks in use: 0. 1.00MiB allocated for chunks. 0B in use in bin. 0B client-requested in use in bin.\n",
      "2024-05-16 22:01:26.963823: I tensorflow/tsl/framework/bfc_allocator.cc:1046] Bin (2097152): \tTotal Chunks: 0, Chunks in use: 0. 0B allocated for chunks. 0B in use in bin. 0B client-requested in use in bin.\n",
      "2024-05-16 22:01:26.963828: I tensorflow/tsl/framework/bfc_allocator.cc:1046] Bin (4194304): \tTotal Chunks: 2, Chunks in use: 2. 12.82MiB allocated for chunks. 12.82MiB in use in bin. 12.82MiB client-requested in use in bin.\n",
      "2024-05-16 22:01:26.963832: I tensorflow/tsl/framework/bfc_allocator.cc:1046] Bin (8388608): \tTotal Chunks: 1, Chunks in use: 1. 12.07MiB allocated for chunks. 12.07MiB in use in bin. 6.41MiB client-requested in use in bin.\n",
      "2024-05-16 22:01:26.963836: I tensorflow/tsl/framework/bfc_allocator.cc:1046] Bin (16777216): \tTotal Chunks: 0, Chunks in use: 0. 0B allocated for chunks. 0B in use in bin. 0B client-requested in use in bin.\n",
      "2024-05-16 22:01:26.963839: I tensorflow/tsl/framework/bfc_allocator.cc:1046] Bin (33554432): \tTotal Chunks: 0, Chunks in use: 0. 0B allocated for chunks. 0B in use in bin. 0B client-requested in use in bin.\n",
      "2024-05-16 22:01:26.963843: I tensorflow/tsl/framework/bfc_allocator.cc:1046] Bin (67108864): \tTotal Chunks: 0, Chunks in use: 0. 0B allocated for chunks. 0B in use in bin. 0B client-requested in use in bin.\n",
      "2024-05-16 22:01:26.963848: I tensorflow/tsl/framework/bfc_allocator.cc:1046] Bin (134217728): \tTotal Chunks: 0, Chunks in use: 0. 0B allocated for chunks. 0B in use in bin. 0B client-requested in use in bin.\n",
      "2024-05-16 22:01:26.963853: I tensorflow/tsl/framework/bfc_allocator.cc:1046] Bin (268435456): \tTotal Chunks: 5, Chunks in use: 2. 21.50GiB allocated for chunks. 13.98GiB in use in bin. 13.98GiB client-requested in use in bin.\n",
      "2024-05-16 22:01:26.963971: I tensorflow/tsl/framework/bfc_allocator.cc:1062] Bin for 12.42GiB was 256.00MiB, Chunk State: \n",
      "2024-05-16 22:01:26.965092: I tensorflow/tsl/framework/bfc_allocator.cc:1068]   Size: 1.39GiB | Requested Size: 508.69MiB | in_use: 0 | bin_num: 20, prev:   Size: 256B | Requested Size: 8B | in_use: 1 | bin_num: -1, next:   Size: 256B | Requested Size: 4B | in_use: 1 | bin_num: -1\n",
      "2024-05-16 22:01:26.965206: I tensorflow/tsl/framework/bfc_allocator.cc:1068]   Size: 1.56GiB | Requested Size: 1.07GiB | in_use: 0 | bin_num: 20, prev:   Size: 256B | Requested Size: 4B | in_use: 1 | bin_num: -1, next:   Size: 1.56GiB | Requested Size: 1.56GiB | in_use: 1 | bin_num: -1\n",
      "2024-05-16 22:01:26.965212: I tensorflow/tsl/framework/bfc_allocator.cc:1068]   Size: 4.57GiB | Requested Size: 4B | in_use: 0 | bin_num: 20, prev:   Size: 1.56GiB | Requested Size: 1.56GiB | in_use: 1 | bin_num: -1\n",
      "2024-05-16 22:01:26.965215: I tensorflow/tsl/framework/bfc_allocator.cc:1075] Next region of size 23111729152\n",
      "2024-05-16 22:01:26.965221: I tensorflow/tsl/framework/bfc_allocator.cc:1095] InUse at 736e42000000 of size 256 next 1\n",
      "2024-05-16 22:01:26.965225: I tensorflow/tsl/framework/bfc_allocator.cc:1095] InUse at 736e42000100 of size 1280 next 2\n",
      "2024-05-16 22:01:26.965228: I tensorflow/tsl/framework/bfc_allocator.cc:1095] InUse at 736e42000600 of size 256 next 3\n",
      "2024-05-16 22:01:26.965231: I tensorflow/tsl/framework/bfc_allocator.cc:1095] InUse at 736e42000700 of size 256 next 4\n",
      "2024-05-16 22:01:26.965234: I tensorflow/tsl/framework/bfc_allocator.cc:1095] InUse at 736e42000800 of size 256 next 6\n",
      "2024-05-16 22:01:26.965237: I tensorflow/tsl/framework/bfc_allocator.cc:1095] InUse at 736e42000900 of size 256 next 7\n",
      "2024-05-16 22:01:26.965240: I tensorflow/tsl/framework/bfc_allocator.cc:1095] InUse at 736e42000a00 of size 256 next 5\n",
      "2024-05-16 22:01:26.965243: I tensorflow/tsl/framework/bfc_allocator.cc:1095] InUse at 736e42000b00 of size 256 next 8\n",
      "2024-05-16 22:01:26.965246: I tensorflow/tsl/framework/bfc_allocator.cc:1095] InUse at 736e42000c00 of size 256 next 12\n",
      "2024-05-16 22:01:26.965249: I tensorflow/tsl/framework/bfc_allocator.cc:1095] InUse at 736e42000d00 of size 256 next 13\n",
      "2024-05-16 22:01:26.965252: I tensorflow/tsl/framework/bfc_allocator.cc:1095] InUse at 736e42000e00 of size 256 next 11\n",
      "2024-05-16 22:01:26.965255: I tensorflow/tsl/framework/bfc_allocator.cc:1095] InUse at 736e42000f00 of size 256 next 18\n",
      "2024-05-16 22:01:26.965258: I tensorflow/tsl/framework/bfc_allocator.cc:1095] InUse at 736e42001000 of size 256 next 14\n",
      "2024-05-16 22:01:26.965261: I tensorflow/tsl/framework/bfc_allocator.cc:1095] InUse at 736e42001100 of size 256 next 17\n",
      "2024-05-16 22:01:26.965264: I tensorflow/tsl/framework/bfc_allocator.cc:1095] InUse at 736e42001200 of size 256 next 23\n",
      "2024-05-16 22:01:26.965266: I tensorflow/tsl/framework/bfc_allocator.cc:1095] InUse at 736e42001300 of size 256 next 21\n",
      "2024-05-16 22:01:26.965269: I tensorflow/tsl/framework/bfc_allocator.cc:1095] InUse at 736e42001400 of size 256 next 22\n",
      "2024-05-16 22:01:26.965273: I tensorflow/tsl/framework/bfc_allocator.cc:1095] InUse at 736e42001500 of size 512 next 28\n",
      "2024-05-16 22:01:26.965276: I tensorflow/tsl/framework/bfc_allocator.cc:1095] InUse at 736e42001700 of size 256 next 26\n",
      "2024-05-16 22:01:26.965279: I tensorflow/tsl/framework/bfc_allocator.cc:1095] InUse at 736e42001800 of size 256 next 27\n",
      "2024-05-16 22:01:26.965282: I tensorflow/tsl/framework/bfc_allocator.cc:1095] InUse at 736e42001900 of size 256 next 31\n",
      "2024-05-16 22:01:26.965286: I tensorflow/tsl/framework/bfc_allocator.cc:1095] InUse at 736e42001a00 of size 256 next 15\n",
      "2024-05-16 22:01:26.965289: I tensorflow/tsl/framework/bfc_allocator.cc:1095] InUse at 736e42001b00 of size 1536 next 16\n",
      "2024-05-16 22:01:26.965292: I tensorflow/tsl/framework/bfc_allocator.cc:1095] InUse at 736e42002100 of size 256 next 34\n",
      "2024-05-16 22:01:26.965295: I tensorflow/tsl/framework/bfc_allocator.cc:1095] InUse at 736e42002200 of size 256 next 36\n",
      "2024-05-16 22:01:26.965298: I tensorflow/tsl/framework/bfc_allocator.cc:1095] InUse at 736e42002300 of size 256 next 35\n",
      "2024-05-16 22:01:26.965301: I tensorflow/tsl/framework/bfc_allocator.cc:1095] InUse at 736e42002400 of size 256 next 37\n",
      "2024-05-16 22:01:26.965304: I tensorflow/tsl/framework/bfc_allocator.cc:1095] InUse at 736e42002500 of size 256 next 38\n",
      "2024-05-16 22:01:26.965307: I tensorflow/tsl/framework/bfc_allocator.cc:1095] InUse at 736e42002600 of size 256 next 39\n",
      "2024-05-16 22:01:26.965310: I tensorflow/tsl/framework/bfc_allocator.cc:1095] InUse at 736e42002700 of size 256 next 40\n",
      "2024-05-16 22:01:26.965313: I tensorflow/tsl/framework/bfc_allocator.cc:1095] InUse at 736e42002800 of size 1536 next 42\n",
      "2024-05-16 22:01:26.965316: I tensorflow/tsl/framework/bfc_allocator.cc:1095] InUse at 736e42002e00 of size 256 next 43\n",
      "2024-05-16 22:01:26.965319: I tensorflow/tsl/framework/bfc_allocator.cc:1095] InUse at 736e42002f00 of size 256 next 44\n",
      "2024-05-16 22:01:26.965322: I tensorflow/tsl/framework/bfc_allocator.cc:1095] InUse at 736e42003000 of size 256 next 45\n",
      "2024-05-16 22:01:26.965325: I tensorflow/tsl/framework/bfc_allocator.cc:1095] InUse at 736e42003100 of size 256 next 47\n",
      "2024-05-16 22:01:26.965328: I tensorflow/tsl/framework/bfc_allocator.cc:1095] InUse at 736e42003200 of size 256 next 48\n",
      "2024-05-16 22:01:26.965331: I tensorflow/tsl/framework/bfc_allocator.cc:1095] InUse at 736e42003300 of size 1536 next 49\n",
      "2024-05-16 22:01:26.965334: I tensorflow/tsl/framework/bfc_allocator.cc:1095] InUse at 736e42003900 of size 1536 next 50\n",
      "2024-05-16 22:01:26.965337: I tensorflow/tsl/framework/bfc_allocator.cc:1095] InUse at 736e42003f00 of size 256 next 51\n",
      "2024-05-16 22:01:26.965340: I tensorflow/tsl/framework/bfc_allocator.cc:1095] InUse at 736e42004000 of size 256 next 52\n",
      "2024-05-16 22:01:26.965342: I tensorflow/tsl/framework/bfc_allocator.cc:1095] InUse at 736e42004100 of size 256 next 55\n",
      "2024-05-16 22:01:26.965345: I tensorflow/tsl/framework/bfc_allocator.cc:1095] InUse at 736e42004200 of size 256 next 56\n",
      "2024-05-16 22:01:26.965348: I tensorflow/tsl/framework/bfc_allocator.cc:1095] InUse at 736e42004300 of size 256 next 58\n",
      "2024-05-16 22:01:26.965351: I tensorflow/tsl/framework/bfc_allocator.cc:1095] InUse at 736e42004400 of size 256 next 59\n",
      "2024-05-16 22:01:26.965354: I tensorflow/tsl/framework/bfc_allocator.cc:1095] InUse at 736e42004500 of size 512 next 61\n",
      "2024-05-16 22:01:26.965357: I tensorflow/tsl/framework/bfc_allocator.cc:1095] InUse at 736e42004700 of size 512 next 62\n",
      "2024-05-16 22:01:26.965360: I tensorflow/tsl/framework/bfc_allocator.cc:1095] InUse at 736e42004900 of size 256 next 65\n",
      "2024-05-16 22:01:26.965363: I tensorflow/tsl/framework/bfc_allocator.cc:1095] InUse at 736e42004a00 of size 256 next 66\n",
      "2024-05-16 22:01:26.965366: I tensorflow/tsl/framework/bfc_allocator.cc:1095] InUse at 736e42004b00 of size 256 next 67\n",
      "2024-05-16 22:01:26.965369: I tensorflow/tsl/framework/bfc_allocator.cc:1095] InUse at 736e42004c00 of size 256 next 68\n",
      "2024-05-16 22:01:26.965372: I tensorflow/tsl/framework/bfc_allocator.cc:1095] InUse at 736e42004d00 of size 256 next 69\n",
      "2024-05-16 22:01:26.965375: I tensorflow/tsl/framework/bfc_allocator.cc:1095] InUse at 736e42004e00 of size 256 next 70\n",
      "2024-05-16 22:01:26.965378: I tensorflow/tsl/framework/bfc_allocator.cc:1095] InUse at 736e42004f00 of size 256 next 71\n",
      "2024-05-16 22:01:26.965381: I tensorflow/tsl/framework/bfc_allocator.cc:1095] InUse at 736e42005000 of size 256 next 20\n",
      "2024-05-16 22:01:26.965384: I tensorflow/tsl/framework/bfc_allocator.cc:1095] InUse at 736e42005100 of size 6144 next 19\n",
      "2024-05-16 22:01:26.965388: I tensorflow/tsl/framework/bfc_allocator.cc:1095] InUse at 736e42006900 of size 24576 next 57\n",
      "2024-05-16 22:01:26.965391: I tensorflow/tsl/framework/bfc_allocator.cc:1095] InUse at 736e4200c900 of size 24576 next 25\n",
      "2024-05-16 22:01:26.965394: I tensorflow/tsl/framework/bfc_allocator.cc:1095] InUse at 736e42012900 of size 24576 next 24\n",
      "2024-05-16 22:01:26.965397: I tensorflow/tsl/framework/bfc_allocator.cc:1095] InUse at 736e42018900 of size 6144 next 53\n",
      "2024-05-16 22:01:26.965400: I tensorflow/tsl/framework/bfc_allocator.cc:1095] InUse at 736e4201a100 of size 6144 next 54\n",
      "2024-05-16 22:01:26.965403: I tensorflow/tsl/framework/bfc_allocator.cc:1095] InUse at 736e4201b900 of size 256 next 72\n",
      "2024-05-16 22:01:26.965406: I tensorflow/tsl/framework/bfc_allocator.cc:1095] InUse at 736e4201ba00 of size 256 next 73\n",
      "2024-05-16 22:01:26.965409: I tensorflow/tsl/framework/bfc_allocator.cc:1095] InUse at 736e4201bb00 of size 256 next 74\n",
      "2024-05-16 22:01:26.965412: I tensorflow/tsl/framework/bfc_allocator.cc:1095] InUse at 736e4201bc00 of size 256 next 75\n",
      "2024-05-16 22:01:26.965415: I tensorflow/tsl/framework/bfc_allocator.cc:1095] InUse at 736e4201bd00 of size 256 next 76\n",
      "2024-05-16 22:01:26.965418: I tensorflow/tsl/framework/bfc_allocator.cc:1095] InUse at 736e4201be00 of size 256 next 77\n",
      "2024-05-16 22:01:26.965421: I tensorflow/tsl/framework/bfc_allocator.cc:1095] InUse at 736e4201bf00 of size 256 next 78\n",
      "2024-05-16 22:01:26.965424: I tensorflow/tsl/framework/bfc_allocator.cc:1095] InUse at 736e4201c000 of size 256 next 79\n",
      "2024-05-16 22:01:26.965427: I tensorflow/tsl/framework/bfc_allocator.cc:1095] InUse at 736e4201c100 of size 256 next 112\n",
      "2024-05-16 22:01:26.965430: I tensorflow/tsl/framework/bfc_allocator.cc:1095] InUse at 736e4201c200 of size 256 next 86\n",
      "2024-05-16 22:01:26.965433: I tensorflow/tsl/framework/bfc_allocator.cc:1095] Free  at 736e4201c300 of size 256 next 90\n",
      "2024-05-16 22:01:26.965436: I tensorflow/tsl/framework/bfc_allocator.cc:1095] InUse at 736e4201c400 of size 256 next 113\n",
      "2024-05-16 22:01:26.965439: I tensorflow/tsl/framework/bfc_allocator.cc:1095] Free  at 736e4201c500 of size 17408 next 33\n",
      "2024-05-16 22:01:26.965442: I tensorflow/tsl/framework/bfc_allocator.cc:1095] InUse at 736e42020900 of size 32768 next 32\n",
      "2024-05-16 22:01:26.965554: I tensorflow/tsl/framework/bfc_allocator.cc:1095] InUse at 736e42028900 of size 393216 next 30\n",
      "2024-05-16 22:01:26.966304: I tensorflow/tsl/framework/bfc_allocator.cc:1095] InUse at 736e42088900 of size 229376 next 29\n",
      "2024-05-16 22:01:26.966308: I tensorflow/tsl/framework/bfc_allocator.cc:1095] InUse at 736e420c0900 of size 12654080 next 9\n",
      "2024-05-16 22:01:26.966312: I tensorflow/tsl/framework/bfc_allocator.cc:1095] InUse at 736e42cd1f00 of size 6720000 next 10\n",
      "2024-05-16 22:01:26.966315: I tensorflow/tsl/framework/bfc_allocator.cc:1095] InUse at 736e4333a900 of size 13335000064 next 41\n",
      "2024-05-16 22:01:26.966319: I tensorflow/tsl/framework/bfc_allocator.cc:1095] InUse at 73715e079d00 of size 6720000 next 46\n",
      "2024-05-16 22:01:26.966322: I tensorflow/tsl/framework/bfc_allocator.cc:1095] InUse at 73715e6e2700 of size 229376 next 60\n",
      "2024-05-16 22:01:26.966325: I tensorflow/tsl/framework/bfc_allocator.cc:1095] InUse at 73715e71a700 of size 32768 next 63\n",
      "2024-05-16 22:01:26.966328: I tensorflow/tsl/framework/bfc_allocator.cc:1095] InUse at 73715e722700 of size 32768 next 64\n",
      "2024-05-16 22:01:26.966331: I tensorflow/tsl/framework/bfc_allocator.cc:1095] Free  at 73715e72a700 of size 1052928 next 103\n",
      "2024-05-16 22:01:26.966334: I tensorflow/tsl/framework/bfc_allocator.cc:1095] InUse at 73715e82b800 of size 256 next 104\n",
      "2024-05-16 22:01:26.966337: I tensorflow/tsl/framework/bfc_allocator.cc:1095] InUse at 73715e82b900 of size 256 next 102\n",
      "2024-05-16 22:01:26.966340: I tensorflow/tsl/framework/bfc_allocator.cc:1095] InUse at 73715e82ba00 of size 256 next 89\n",
      "2024-05-16 22:01:26.966343: I tensorflow/tsl/framework/bfc_allocator.cc:1095] InUse at 73715e82bb00 of size 256 next 111\n",
      "2024-05-16 22:01:26.966347: I tensorflow/tsl/framework/bfc_allocator.cc:1095] InUse at 73715e82bc00 of size 256 next 80\n",
      "2024-05-16 22:01:26.966350: I tensorflow/tsl/framework/bfc_allocator.cc:1095] Free  at 73715e82bd00 of size 1493520896 next 85\n",
      "2024-05-16 22:01:26.966352: I tensorflow/tsl/framework/bfc_allocator.cc:1095] InUse at 7371b7880f00 of size 256 next 105\n",
      "2024-05-16 22:01:26.966355: I tensorflow/tsl/framework/bfc_allocator.cc:1095] InUse at 7371b7881000 of size 256 next 110\n",
      "2024-05-16 22:01:26.966359: I tensorflow/tsl/framework/bfc_allocator.cc:1095] Free  at 7371b7881100 of size 1671320064 next 126\n",
      "2024-05-16 22:01:26.966362: I tensorflow/tsl/framework/bfc_allocator.cc:1095] InUse at 73721b266300 of size 1671320064 next 125\n",
      "2024-05-16 22:01:26.966365: I tensorflow/tsl/framework/bfc_allocator.cc:1095] Free  at 73727ec4b500 of size 4912335616 next 18446744073709551615\n",
      "2024-05-16 22:01:26.966368: I tensorflow/tsl/framework/bfc_allocator.cc:1100]      Summary of in-use Chunks by size: \n",
      "2024-05-16 22:01:26.966373: I tensorflow/tsl/framework/bfc_allocator.cc:1103] 64 Chunks of size 256 totalling 16.0KiB\n",
      "2024-05-16 22:01:26.966377: I tensorflow/tsl/framework/bfc_allocator.cc:1103] 3 Chunks of size 512 totalling 1.5KiB\n",
      "2024-05-16 22:01:26.966380: I tensorflow/tsl/framework/bfc_allocator.cc:1103] 1 Chunks of size 1280 totalling 1.2KiB\n",
      "2024-05-16 22:01:26.966384: I tensorflow/tsl/framework/bfc_allocator.cc:1103] 4 Chunks of size 1536 totalling 6.0KiB\n",
      "2024-05-16 22:01:26.966387: I tensorflow/tsl/framework/bfc_allocator.cc:1103] 3 Chunks of size 6144 totalling 18.0KiB\n",
      "2024-05-16 22:01:26.966391: I tensorflow/tsl/framework/bfc_allocator.cc:1103] 3 Chunks of size 24576 totalling 72.0KiB\n",
      "2024-05-16 22:01:26.966394: I tensorflow/tsl/framework/bfc_allocator.cc:1103] 3 Chunks of size 32768 totalling 96.0KiB\n",
      "2024-05-16 22:01:26.966398: I tensorflow/tsl/framework/bfc_allocator.cc:1103] 2 Chunks of size 229376 totalling 448.0KiB\n",
      "2024-05-16 22:01:26.966402: I tensorflow/tsl/framework/bfc_allocator.cc:1103] 1 Chunks of size 393216 totalling 384.0KiB\n",
      "2024-05-16 22:01:26.966406: I tensorflow/tsl/framework/bfc_allocator.cc:1103] 2 Chunks of size 6720000 totalling 12.82MiB\n",
      "2024-05-16 22:01:26.966409: I tensorflow/tsl/framework/bfc_allocator.cc:1103] 1 Chunks of size 12654080 totalling 12.07MiB\n",
      "2024-05-16 22:01:26.966413: I tensorflow/tsl/framework/bfc_allocator.cc:1103] 1 Chunks of size 1671320064 totalling 1.56GiB\n",
      "2024-05-16 22:01:26.966416: I tensorflow/tsl/framework/bfc_allocator.cc:1103] 1 Chunks of size 13335000064 totalling 12.42GiB\n",
      "2024-05-16 22:01:26.966420: I tensorflow/tsl/framework/bfc_allocator.cc:1107] Sum Total of in-use chunks: 14.00GiB\n",
      "2024-05-16 22:01:26.966424: I tensorflow/tsl/framework/bfc_allocator.cc:1109] Total bytes in pool: 23111729152 memory_limit_: 23111729152 available bytes: 0 curr_region_allocation_bytes_: 46223458304\n",
      "2024-05-16 22:01:26.966606: I tensorflow/tsl/framework/bfc_allocator.cc:1114] Stats: \n",
      "Limit:                     23111729152\n",
      "InUse:                     15033481984\n",
      "MaxInUse:                  18816538368\n",
      "NumAllocs:                       80282\n",
      "MaxAllocSize:              13335000064\n",
      "Reserved:                            0\n",
      "PeakReserved:                        0\n",
      "LargestFreeBlock:                    0\n",
      "\n",
      "2024-05-16 22:01:26.966804: W tensorflow/tsl/framework/bfc_allocator.cc:497] **********************************************************______*______********_____________________\n"
     ]
    },
    {
     "ename": "InternalError",
     "evalue": "Failed copying input tensor from /job:localhost/replica:0/task:0/device:CPU:0 to /job:localhost/replica:0/task:0/device:GPU:0 in order to run _EagerConst: Dst tensor is not initialized.",
     "output_type": "error",
     "traceback": [
      "\u001b[0;31m---------------------------------------------------------------------------\u001b[0m",
      "\u001b[0;31mInternalError\u001b[0m                             Traceback (most recent call last)",
      "Cell \u001b[0;32mIn[10], line 12\u001b[0m\n\u001b[1;32m      1\u001b[0m model_checkpoint \u001b[38;5;241m=\u001b[39m ModelCheckpoint(\n\u001b[1;32m      2\u001b[0m     filepath\u001b[38;5;241m=\u001b[39m\u001b[38;5;124m'\u001b[39m\u001b[38;5;124mcnn_20240516_model_best_0.keras\u001b[39m\u001b[38;5;124m'\u001b[39m,  \u001b[38;5;66;03m# 保存するファイルのパス\u001b[39;00m\n\u001b[1;32m      3\u001b[0m     monitor\u001b[38;5;241m=\u001b[39m\u001b[38;5;124m'\u001b[39m\u001b[38;5;124mval_mean_absolute_error\u001b[39m\u001b[38;5;124m'\u001b[39m,        \u001b[38;5;66;03m# 監視する値\u001b[39;00m\n\u001b[0;32m   (...)\u001b[0m\n\u001b[1;32m      6\u001b[0m     mode\u001b[38;5;241m=\u001b[39m\u001b[38;5;124m'\u001b[39m\u001b[38;5;124mmin\u001b[39m\u001b[38;5;124m'\u001b[39m                 \u001b[38;5;66;03m# 「減少」を監視\u001b[39;00m\n\u001b[1;32m      7\u001b[0m )\n\u001b[1;32m     10\u001b[0m use_data \u001b[38;5;241m=\u001b[39m \u001b[38;5;241m0\u001b[39m\n\u001b[0;32m---> 12\u001b[0m \u001b[43mmodel\u001b[49m\u001b[38;5;241;43m.\u001b[39;49m\u001b[43mtraining\u001b[49m\u001b[43m(\u001b[49m\u001b[43mdata\u001b[49m\u001b[38;5;241;43m.\u001b[39;49m\u001b[43mX\u001b[49m\u001b[43m[\u001b[49m\u001b[43mtrain_data_splits_index\u001b[49m\u001b[43m[\u001b[49m\u001b[43muse_data\u001b[49m\u001b[43m]\u001b[49m\u001b[43m]\u001b[49m\u001b[43m,\u001b[49m\u001b[43m \u001b[49m\u001b[43mdata\u001b[49m\u001b[38;5;241;43m.\u001b[39;49m\u001b[43my\u001b[49m\u001b[43m[\u001b[49m\u001b[43mtrain_data_splits_index\u001b[49m\u001b[43m[\u001b[49m\u001b[43muse_data\u001b[49m\u001b[43m]\u001b[49m\u001b[43m]\u001b[49m\u001b[43m,\u001b[49m\u001b[43m \u001b[49m\u001b[38;5;241;43m50\u001b[39;49m\u001b[43m,\u001b[49m\u001b[43m \u001b[49m\u001b[38;5;241;43m32\u001b[39;49m\u001b[43m,\u001b[49m\u001b[43m \u001b[49m\u001b[43mmodel_checkpoint\u001b[49m\u001b[43m \u001b[49m\u001b[38;5;241;43m=\u001b[39;49m\u001b[43m \u001b[49m\u001b[43mmodel_checkpoint\u001b[49m\u001b[43m)\u001b[49m\n\u001b[1;32m     13\u001b[0m model\u001b[38;5;241m.\u001b[39mevaluate(data\u001b[38;5;241m.\u001b[39mX[test_data_splits_index[use_data]], data\u001b[38;5;241m.\u001b[39my[test_data_splits_index[use_data]])\n\u001b[1;32m     14\u001b[0m model\u001b[38;5;241m.\u001b[39msave(\u001b[38;5;124m'\u001b[39m\u001b[38;5;124mcnn_20240516_model_0_v1.keras\u001b[39m\u001b[38;5;124m'\u001b[39m)\n",
      "File \u001b[0;32m~/Desktop/washino/fluid_intake/fluid_intake_estimate/dence_net.py:25\u001b[0m, in \u001b[0;36mDenceNet.training\u001b[0;34m(self, X_train, y_train, epochs, batch_size, early_stopping, model_checkpoint)\u001b[0m\n\u001b[1;32m     23\u001b[0m     \u001b[38;5;28mself\u001b[39m\u001b[38;5;241m.\u001b[39mmodel\u001b[38;5;241m.\u001b[39mfit(X_train, y_train, epochs\u001b[38;5;241m=\u001b[39mepochs, validation_split\u001b[38;5;241m=\u001b[39m\u001b[38;5;241m0.1\u001b[39m, batch_size\u001b[38;5;241m=\u001b[39m batch_size)\n\u001b[1;32m     24\u001b[0m \u001b[38;5;28;01melif\u001b[39;00m early_stopping \u001b[38;5;241m==\u001b[39m \u001b[38;5;28;01mNone\u001b[39;00m:\n\u001b[0;32m---> 25\u001b[0m     \u001b[38;5;28;43mself\u001b[39;49m\u001b[38;5;241;43m.\u001b[39;49m\u001b[43mmodel\u001b[49m\u001b[38;5;241;43m.\u001b[39;49m\u001b[43mfit\u001b[49m\u001b[43m(\u001b[49m\u001b[43mX_train\u001b[49m\u001b[43m,\u001b[49m\u001b[43m \u001b[49m\u001b[43my_train\u001b[49m\u001b[43m,\u001b[49m\u001b[43m \u001b[49m\u001b[43mepochs\u001b[49m\u001b[38;5;241;43m=\u001b[39;49m\u001b[43mepochs\u001b[49m\u001b[43m,\u001b[49m\u001b[43m \u001b[49m\u001b[43mvalidation_split\u001b[49m\u001b[38;5;241;43m=\u001b[39;49m\u001b[38;5;241;43m0.1\u001b[39;49m\u001b[43m,\u001b[49m\u001b[43m \u001b[49m\u001b[43mbatch_size\u001b[49m\u001b[38;5;241;43m=\u001b[39;49m\u001b[43m \u001b[49m\u001b[43mbatch_size\u001b[49m\u001b[43m,\u001b[49m\u001b[43m \u001b[49m\u001b[43mcallbacks\u001b[49m\u001b[38;5;241;43m=\u001b[39;49m\u001b[43m[\u001b[49m\u001b[43mmodel_checkpoint\u001b[49m\u001b[43m]\u001b[49m\u001b[43m)\u001b[49m\n\u001b[1;32m     26\u001b[0m \u001b[38;5;28;01melif\u001b[39;00m model_checkpoint \u001b[38;5;241m==\u001b[39m \u001b[38;5;28;01mNone\u001b[39;00m:\n\u001b[1;32m     27\u001b[0m     \u001b[38;5;28mself\u001b[39m\u001b[38;5;241m.\u001b[39mmodel\u001b[38;5;241m.\u001b[39mfit(X_train, y_train, epochs\u001b[38;5;241m=\u001b[39mepochs, validation_split\u001b[38;5;241m=\u001b[39m\u001b[38;5;241m0.1\u001b[39m, batch_size\u001b[38;5;241m=\u001b[39m batch_size, callbacks\u001b[38;5;241m=\u001b[39m[early_stopping])\n",
      "File \u001b[0;32m~/.conda/envs/washino/lib/python3.10/site-packages/keras/utils/traceback_utils.py:70\u001b[0m, in \u001b[0;36mfilter_traceback.<locals>.error_handler\u001b[0;34m(*args, **kwargs)\u001b[0m\n\u001b[1;32m     67\u001b[0m     filtered_tb \u001b[38;5;241m=\u001b[39m _process_traceback_frames(e\u001b[38;5;241m.\u001b[39m__traceback__)\n\u001b[1;32m     68\u001b[0m     \u001b[38;5;66;03m# To get the full stack trace, call:\u001b[39;00m\n\u001b[1;32m     69\u001b[0m     \u001b[38;5;66;03m# `tf.debugging.disable_traceback_filtering()`\u001b[39;00m\n\u001b[0;32m---> 70\u001b[0m     \u001b[38;5;28;01mraise\u001b[39;00m e\u001b[38;5;241m.\u001b[39mwith_traceback(filtered_tb) \u001b[38;5;28;01mfrom\u001b[39;00m \u001b[38;5;28;01mNone\u001b[39;00m\n\u001b[1;32m     71\u001b[0m \u001b[38;5;28;01mfinally\u001b[39;00m:\n\u001b[1;32m     72\u001b[0m     \u001b[38;5;28;01mdel\u001b[39;00m filtered_tb\n",
      "File \u001b[0;32m~/.conda/envs/washino/lib/python3.10/site-packages/tensorflow/python/framework/constant_op.py:103\u001b[0m, in \u001b[0;36mconvert_to_eager_tensor\u001b[0;34m(value, ctx, dtype)\u001b[0m\n\u001b[1;32m    101\u001b[0m     dtype \u001b[38;5;241m=\u001b[39m dtypes\u001b[38;5;241m.\u001b[39mas_dtype(dtype)\u001b[38;5;241m.\u001b[39mas_datatype_enum\n\u001b[1;32m    102\u001b[0m ctx\u001b[38;5;241m.\u001b[39mensure_initialized()\n\u001b[0;32m--> 103\u001b[0m \u001b[38;5;28;01mreturn\u001b[39;00m \u001b[43mops\u001b[49m\u001b[38;5;241;43m.\u001b[39;49m\u001b[43mEagerTensor\u001b[49m\u001b[43m(\u001b[49m\u001b[43mvalue\u001b[49m\u001b[43m,\u001b[49m\u001b[43m \u001b[49m\u001b[43mctx\u001b[49m\u001b[38;5;241;43m.\u001b[39;49m\u001b[43mdevice_name\u001b[49m\u001b[43m,\u001b[49m\u001b[43m \u001b[49m\u001b[43mdtype\u001b[49m\u001b[43m)\u001b[49m\n",
      "\u001b[0;31mInternalError\u001b[0m: Failed copying input tensor from /job:localhost/replica:0/task:0/device:CPU:0 to /job:localhost/replica:0/task:0/device:GPU:0 in order to run _EagerConst: Dst tensor is not initialized."
     ]
    }
   ],
   "source": [
    "model_checkpoint = ModelCheckpoint(\n",
    "    filepath='cnn_20240516_model_best_0.keras',  # 保存するファイルのパス\n",
    "    monitor='val_mean_absolute_error',        # 監視する値\n",
    "    save_best_only=True,       # 最良のモデルのみを保存\n",
    "    verbose=1,                 # 進行状況のメッセージ表示\n",
    "    mode='min'                 # 「減少」を監視\n",
    ")\n",
    "\n",
    "\n",
    "use_data = 0\n",
    "\n",
    "model.training(data.X[train_data_splits_index[use_data]], data.y[train_data_splits_index[use_data]], 50, 32, model_checkpoint = model_checkpoint)\n",
    "model.evaluate(data.X[test_data_splits_index[use_data]], data.y[test_data_splits_index[use_data]])\n",
    "model.save('cnn_20240516_model_0_v1.keras')"
   ]
  },
  {
   "cell_type": "code",
   "execution_count": null,
   "id": "0d884c0c",
   "metadata": {},
   "outputs": [],
   "source": [
    "model.evaluate(data.X[test_data_splits_index[use_data]], data.y[test_data_splits_index[use_data]])"
   ]
  },
  {
   "cell_type": "code",
   "execution_count": null,
   "id": "13ea10a4",
   "metadata": {},
   "outputs": [],
   "source": []
  }
 ],
 "metadata": {
  "kernelspec": {
   "display_name": "s2-washino",
   "language": "python",
   "name": "washino"
  },
  "language_info": {
   "codemirror_mode": {
    "name": "ipython",
    "version": 3
   },
   "file_extension": ".py",
   "mimetype": "text/x-python",
   "name": "python",
   "nbconvert_exporter": "python",
   "pygments_lexer": "ipython3",
   "version": "3.10.13"
  }
 },
 "nbformat": 4,
 "nbformat_minor": 5
}
